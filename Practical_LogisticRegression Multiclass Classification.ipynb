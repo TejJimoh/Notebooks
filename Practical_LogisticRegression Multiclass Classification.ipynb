{
    "metadata": {
        "kernelspec": {
            "name": "python3",
            "display_name": "Python 3"
        },
        "language_info": {
            "name": "python",
            "version": "3.6.6",
            "mimetype": "text/x-python",
            "codemirror_mode": {
                "name": "ipython",
                "version": 3
            },
            "pygments_lexer": "ipython3",
            "nbconvert_exporter": "python",
            "file_extension": ".py"
        }
    },
    "nbformat_minor": 2,
    "nbformat": 4,
    "cells": [
        {
            "cell_type": "markdown",
            "source": [
                "## Logistic Regression (Multiclass Classification) : This is a real world example of Logistic Regression Multiclass Classification using HR data."
            ],
            "metadata": {
                "azdata_cell_guid": "f57a3e7e-e332-4675-aa9c-351ac8c133a2"
            }
        },
        {
            "cell_type": "code",
            "source": [
                "''' In this example, we need to determine which columns are relevant in regards to employee Pay Band. In Logistic Regression (Multiclass Classification)\r\n",
                " there are more than 2 dependent variables outcome. In our example below, there are 9 possible outcomes.\r\n",
                "\r\n",
                " Pay_Band_Desc : We need to determine the Pay Band for a new employee based on all the x independent variables.\"Pay Band Desc\" will be your dependent y column.\r\n",
                "\r\n",
                "Pay_Band_Desc\tSalaryAmount\r\n",
                "Low Band 1        \t20000\r\n",
                "Low Band 2        \t25000\r\n",
                "Low Band 3        \t28000\r\n",
                "Medium Band 1     \t30000\r\n",
                "Medium Band 2     \t38000\r\n",
                "Medium Band 3     \t45000\r\n",
                "High Band 1       \t55000\r\n",
                "High Band 2       \t65000\r\n",
                "High Band 3       \t80000\r\n",
                "\r\n",
                "SalaryAmount : lookup values for Pay_Band_Desc\r\n",
                "\r\n",
                "Satisfaction_Level_At_Interview : This is your score grade at the interview. 1 = Highest , 0 = Lowest\r\n",
                "Department : Employeee department\r\n",
                "Education : Employee education\r\n",
                "Years_Of_Experience : Employee years of experience \r\n",
                "Gender : Male or Female\r\n",
                "Age : Employee age\r\n",
                "AgeBand: Grouping employee age into bands ie 16 to 19 years is Band 1\r\n",
                "'''\r\n",
                "import numpy as np\r\n",
                "import pandas as pd\r\n",
                "import pyodbc\r\n",
                "from sklearn.linear_model import LogisticRegression\r\n",
                "import matplotlib.pyplot as plt\r\n",
                "from sklearn.metrics import mean_squared_error, r2_score\r\n",
                "from sklearn.model_selection import train_test_split\r\n",
                "# Step 1: get your data from SQL Server and assign it to a pandas variable\r\n",
                "conn_str = pyodbc.connect('Driver={SQL Server};' 'Server=LAPTOP-CHKIB79A;''Database=Tutorial;''Trusted_Connection=yes;')\r\n",
                "query_str = \"SELECT  [Satisfaction_Level_At_Interview],[Department],[Pay_Band_Desc],[SalaryAmount],[Education] \\\r\n",
                "      ,[Years_Of_Experience],[Gender],[Age],[AgeBand] FROM [Tutorial].[dbo].[HR_EmployeePayBandActual]\" \r\n",
                "df = pd.read_sql(sql=query_str, con=conn_str)\r\n",
                "df.head()"
            ],
            "metadata": {
                "azdata_cell_guid": "5403b2a1-1a1b-4c04-be17-764bd2b67f17"
            },
            "outputs": [
                {
                    "data": {
                        "text/plain": "   Satisfaction_Level_At_Interview  Department       Pay_Band_Desc  \\\n0                              0.0  accounting  Low Band 1           \n1                              0.0  accounting  Low Band 1           \n2                              0.0  accounting  Low Band 1           \n3                              0.0  accounting  Low Band 1           \n4                              0.0  accounting  Low Band 1           \n\n   SalaryAmount                  Education Years_Of_Experience      Gender  \\\n0         20000  No Degree                     None             Female       \n1         20000  No Degree                     None             Female       \n2         20000  No Degree                     None             Female       \n3         20000  No Degree                     None             Female       \n4         20000  No Degree                     None             Female       \n\n   Age AgeBand  \n0   22  Band 2  \n1   30  Band 4  \n2   34  Band 4  \n3   40  Band 6  \n4   41  Band 6  ",
                        "text/html": "<div>\n<style scoped>\n    .dataframe tbody tr th:only-of-type {\n        vertical-align: middle;\n    }\n\n    .dataframe tbody tr th {\n        vertical-align: top;\n    }\n\n    .dataframe thead th {\n        text-align: right;\n    }\n</style>\n<table border=\"1\" class=\"dataframe\">\n  <thead>\n    <tr style=\"text-align: right;\">\n      <th></th>\n      <th>Satisfaction_Level_At_Interview</th>\n      <th>Department</th>\n      <th>Pay_Band_Desc</th>\n      <th>SalaryAmount</th>\n      <th>Education</th>\n      <th>Years_Of_Experience</th>\n      <th>Gender</th>\n      <th>Age</th>\n      <th>AgeBand</th>\n    </tr>\n  </thead>\n  <tbody>\n    <tr>\n      <th>0</th>\n      <td>0.0</td>\n      <td>accounting</td>\n      <td>Low Band 1</td>\n      <td>20000</td>\n      <td>No Degree</td>\n      <td>None</td>\n      <td>Female</td>\n      <td>22</td>\n      <td>Band 2</td>\n    </tr>\n    <tr>\n      <th>1</th>\n      <td>0.0</td>\n      <td>accounting</td>\n      <td>Low Band 1</td>\n      <td>20000</td>\n      <td>No Degree</td>\n      <td>None</td>\n      <td>Female</td>\n      <td>30</td>\n      <td>Band 4</td>\n    </tr>\n    <tr>\n      <th>2</th>\n      <td>0.0</td>\n      <td>accounting</td>\n      <td>Low Band 1</td>\n      <td>20000</td>\n      <td>No Degree</td>\n      <td>None</td>\n      <td>Female</td>\n      <td>34</td>\n      <td>Band 4</td>\n    </tr>\n    <tr>\n      <th>3</th>\n      <td>0.0</td>\n      <td>accounting</td>\n      <td>Low Band 1</td>\n      <td>20000</td>\n      <td>No Degree</td>\n      <td>None</td>\n      <td>Female</td>\n      <td>40</td>\n      <td>Band 6</td>\n    </tr>\n    <tr>\n      <th>4</th>\n      <td>0.0</td>\n      <td>accounting</td>\n      <td>Low Band 1</td>\n      <td>20000</td>\n      <td>No Degree</td>\n      <td>None</td>\n      <td>Female</td>\n      <td>41</td>\n      <td>Band 6</td>\n    </tr>\n  </tbody>\n</table>\n</div>"
                    },
                    "metadata": {},
                    "execution_count": 2,
                    "output_type": "execute_result"
                }
            ],
            "execution_count": 2
        },
        {
            "cell_type": "code",
            "source": [
                "# Step 2: This is where we will do a lot of data analysis in order to figure out the important independent variables x that have an effect on dependent variable y.\r\n",
                "\r\n",
                "# From the averages below, it is save to conclude that the bigger the Satisfaction_Level_At_Interview, the bigger your salary, hence, you are likely to be \r\n",
                "# in the higher pay band. We can also conclude that the independent variable Age is irrelevant. Hmmmm... what about the AgeBand ? We will see.\r\n",
                "averages = df.groupby(df.Pay_Band_Desc).mean()\r\n",
                "averages"
            ],
            "metadata": {
                "azdata_cell_guid": "2e37fa18-cb60-46a4-b0b3-b174490f29e5"
            },
            "outputs": [
                {
                    "data": {
                        "text/plain": "                    Satisfaction_Level_At_Interview  SalaryAmount        Age\nPay_Band_Desc                                                               \nHigh Band 1                                0.739370       55000.0  36.062992\nHigh Band 2                                0.867442       65000.0  37.488372\nHigh Band 3                                0.875352       80000.0  37.676056\nLow Band 1                                 0.326402       20000.0  37.273694\nLow Band 2                                 0.617710       25000.0  36.607908\nLow Band 3                                 0.349314       28000.0  32.647059\nMedium Band 1                              0.643974       30000.0  37.943508\nMedium Band 2                              0.667089       38000.0  36.405063\nMedium Band 3                              0.867241       45000.0  37.158046",
                        "text/html": "<div>\n<style scoped>\n    .dataframe tbody tr th:only-of-type {\n        vertical-align: middle;\n    }\n\n    .dataframe tbody tr th {\n        vertical-align: top;\n    }\n\n    .dataframe thead th {\n        text-align: right;\n    }\n</style>\n<table border=\"1\" class=\"dataframe\">\n  <thead>\n    <tr style=\"text-align: right;\">\n      <th></th>\n      <th>Satisfaction_Level_At_Interview</th>\n      <th>SalaryAmount</th>\n      <th>Age</th>\n    </tr>\n    <tr>\n      <th>Pay_Band_Desc</th>\n      <th></th>\n      <th></th>\n      <th></th>\n    </tr>\n  </thead>\n  <tbody>\n    <tr>\n      <th>High Band 1</th>\n      <td>0.739370</td>\n      <td>55000.0</td>\n      <td>36.062992</td>\n    </tr>\n    <tr>\n      <th>High Band 2</th>\n      <td>0.867442</td>\n      <td>65000.0</td>\n      <td>37.488372</td>\n    </tr>\n    <tr>\n      <th>High Band 3</th>\n      <td>0.875352</td>\n      <td>80000.0</td>\n      <td>37.676056</td>\n    </tr>\n    <tr>\n      <th>Low Band 1</th>\n      <td>0.326402</td>\n      <td>20000.0</td>\n      <td>37.273694</td>\n    </tr>\n    <tr>\n      <th>Low Band 2</th>\n      <td>0.617710</td>\n      <td>25000.0</td>\n      <td>36.607908</td>\n    </tr>\n    <tr>\n      <th>Low Band 3</th>\n      <td>0.349314</td>\n      <td>28000.0</td>\n      <td>32.647059</td>\n    </tr>\n    <tr>\n      <th>Medium Band 1</th>\n      <td>0.643974</td>\n      <td>30000.0</td>\n      <td>37.943508</td>\n    </tr>\n    <tr>\n      <th>Medium Band 2</th>\n      <td>0.667089</td>\n      <td>38000.0</td>\n      <td>36.405063</td>\n    </tr>\n    <tr>\n      <th>Medium Band 3</th>\n      <td>0.867241</td>\n      <td>45000.0</td>\n      <td>37.158046</td>\n    </tr>\n  </tbody>\n</table>\n</div>"
                    },
                    "metadata": {},
                    "execution_count": 3,
                    "output_type": "execute_result"
                }
            ],
            "execution_count": 3
        },
        {
            "cell_type": "code",
            "source": [
                "# Since Department,Education ,Years_Of_Experience ,Gender and AgeBand are textual and exluded from the step above, we need a separate groupby to see if these  columns are relevant.\r\n",
                "\r\n",
                "# Let's get a bar chat to display Department. From the Department bar chat, we can conclude that this column is not relevant. We can come to the same conclusion from \r\n",
                "# the groupby query\r\n",
                "\r\n",
                "pd.crosstab(df.Department,df.Pay_Band_Desc).plot(kind='barh')\r\n",
                "\r\n",
                "df1 = df.groupby([\"Department\"]).agg({'SalaryAmount': ['mean']})\r\n",
                "df1.columns = [\"Avg Salary\"]\r\n",
                "df1"
            ],
            "metadata": {
                "azdata_cell_guid": "07a5ccc0-cdb2-4569-b03d-e6c950a0cfd9"
            },
            "outputs": [
                {
                    "data": {
                        "text/plain": "               Avg Salary\nDepartment               \nIT           32861.256545\nRandD        33482.412060\naccounting   28246.478873\nhr           25545.801527\nmanagement   31205.047319\nmarketing    32754.716981\nproduct_mng  32921.568627\nsales        30193.877551\nsupport      30900.432900\ntechnical    30842.519685",
                        "text/html": "<div>\n<style scoped>\n    .dataframe tbody tr th:only-of-type {\n        vertical-align: middle;\n    }\n\n    .dataframe tbody tr th {\n        vertical-align: top;\n    }\n\n    .dataframe thead th {\n        text-align: right;\n    }\n</style>\n<table border=\"1\" class=\"dataframe\">\n  <thead>\n    <tr style=\"text-align: right;\">\n      <th></th>\n      <th>Avg Salary</th>\n    </tr>\n    <tr>\n      <th>Department</th>\n      <th></th>\n    </tr>\n  </thead>\n  <tbody>\n    <tr>\n      <th>IT</th>\n      <td>32861.256545</td>\n    </tr>\n    <tr>\n      <th>RandD</th>\n      <td>33482.412060</td>\n    </tr>\n    <tr>\n      <th>accounting</th>\n      <td>28246.478873</td>\n    </tr>\n    <tr>\n      <th>hr</th>\n      <td>25545.801527</td>\n    </tr>\n    <tr>\n      <th>management</th>\n      <td>31205.047319</td>\n    </tr>\n    <tr>\n      <th>marketing</th>\n      <td>32754.716981</td>\n    </tr>\n    <tr>\n      <th>product_mng</th>\n      <td>32921.568627</td>\n    </tr>\n    <tr>\n      <th>sales</th>\n      <td>30193.877551</td>\n    </tr>\n    <tr>\n      <th>support</th>\n      <td>30900.432900</td>\n    </tr>\n    <tr>\n      <th>technical</th>\n      <td>30842.519685</td>\n    </tr>\n  </tbody>\n</table>\n</div>"
                    },
                    "metadata": {},
                    "execution_count": 4,
                    "output_type": "execute_result"
                },
                {
                    "data": {
                        "text/plain": "<Figure size 432x288 with 1 Axes>",
                        "image/png": "[encoded data removed]"
                    },
                    "metadata": {
                        "needs_background": "light"
                    },
                    "output_type": "display_data"
                }
            ],
            "execution_count": 4
        },
        {
            "cell_type": "code",
            "source": [
                "# We can easily conclude that the better education you have, the higher your salary ( higher pay band). Education is relevant.\r\n",
                "df2 = df.groupby([\"Education\"]).agg({'SalaryAmount': ['mean']})\r\n",
                "df2.columns = [\"Avg Salary\"]\r\n",
                "df2"
            ],
            "metadata": {
                "azdata_cell_guid": "790f7089-1bd7-4f2e-a1ed-1c17933e2fdf"
            },
            "outputs": [
                {
                    "data": {
                        "text/plain": "                             Avg Salary\nEducation                              \nFirst Degree               34747.317073\nMasters                    75149.253731\nNo Degree                  21912.545235\nPhD                        80000.000000",
                        "text/html": "<div>\n<style scoped>\n    .dataframe tbody tr th:only-of-type {\n        vertical-align: middle;\n    }\n\n    .dataframe tbody tr th {\n        vertical-align: top;\n    }\n\n    .dataframe thead th {\n        text-align: right;\n    }\n</style>\n<table border=\"1\" class=\"dataframe\">\n  <thead>\n    <tr style=\"text-align: right;\">\n      <th></th>\n      <th>Avg Salary</th>\n    </tr>\n    <tr>\n      <th>Education</th>\n      <th></th>\n    </tr>\n  </thead>\n  <tbody>\n    <tr>\n      <th>First Degree</th>\n      <td>34747.317073</td>\n    </tr>\n    <tr>\n      <th>Masters</th>\n      <td>75149.253731</td>\n    </tr>\n    <tr>\n      <th>No Degree</th>\n      <td>21912.545235</td>\n    </tr>\n    <tr>\n      <th>PhD</th>\n      <td>80000.000000</td>\n    </tr>\n  </tbody>\n</table>\n</div>"
                    },
                    "metadata": {},
                    "execution_count": 5,
                    "output_type": "execute_result"
                }
            ],
            "execution_count": 5
        },
        {
            "cell_type": "code",
            "source": [
                "# We can easily conclude that the more experience you have, the higher your salary ( higher pay band). Education is relevant.\r\n",
                "df3 = df.groupby([\"Years_Of_Experience\"]).agg({'SalaryAmount': ['mean']})\r\n",
                "df3.columns = [\"Avg Salary\"]\r\n",
                "df3"
            ],
            "metadata": {
                "azdata_cell_guid": "dc1a3262-1673-4c48-a1ed-f0abed7f9402",
                "tags": []
            },
            "outputs": [
                {
                    "data": {
                        "text/plain": "                       Avg Salary\nYears_Of_Experience              \n1 Yr                 24666.666667\n2 Yrs                26738.127544\n3 Yrs                30000.000000\n4 Yrs                31870.117188\n5+ Yrs               54443.750000\nNone                 20000.000000",
                        "text/html": "<div>\n<style scoped>\n    .dataframe tbody tr th:only-of-type {\n        vertical-align: middle;\n    }\n\n    .dataframe tbody tr th {\n        vertical-align: top;\n    }\n\n    .dataframe thead th {\n        text-align: right;\n    }\n</style>\n<table border=\"1\" class=\"dataframe\">\n  <thead>\n    <tr style=\"text-align: right;\">\n      <th></th>\n      <th>Avg Salary</th>\n    </tr>\n    <tr>\n      <th>Years_Of_Experience</th>\n      <th></th>\n    </tr>\n  </thead>\n  <tbody>\n    <tr>\n      <th>1 Yr</th>\n      <td>24666.666667</td>\n    </tr>\n    <tr>\n      <th>2 Yrs</th>\n      <td>26738.127544</td>\n    </tr>\n    <tr>\n      <th>3 Yrs</th>\n      <td>30000.000000</td>\n    </tr>\n    <tr>\n      <th>4 Yrs</th>\n      <td>31870.117188</td>\n    </tr>\n    <tr>\n      <th>5+ Yrs</th>\n      <td>54443.750000</td>\n    </tr>\n    <tr>\n      <th>None</th>\n      <td>20000.000000</td>\n    </tr>\n  </tbody>\n</table>\n</div>"
                    },
                    "metadata": {},
                    "execution_count": 6,
                    "output_type": "execute_result"
                }
            ],
            "execution_count": 6
        },
        {
            "cell_type": "code",
            "source": [
                "# Is Gender relevant? The answer is NO. We can ignore this column in our final analysis.\r\n",
                "df4 = df.groupby([\"Gender\"]).agg({'SalaryAmount': ['mean']})\r\n",
                "df4.columns = [\"Avg Salary\"]\r\n",
                "df4"
            ],
            "metadata": {
                "azdata_cell_guid": "7f89e10e-4cf8-418d-97d7-226237a61e7f"
            },
            "outputs": [
                {
                    "data": {
                        "text/plain": "              Avg Salary\nGender                  \nFemale      30996.842105\nMale        31102.732794",
                        "text/html": "<div>\n<style scoped>\n    .dataframe tbody tr th:only-of-type {\n        vertical-align: middle;\n    }\n\n    .dataframe tbody tr th {\n        vertical-align: top;\n    }\n\n    .dataframe thead th {\n        text-align: right;\n    }\n</style>\n<table border=\"1\" class=\"dataframe\">\n  <thead>\n    <tr style=\"text-align: right;\">\n      <th></th>\n      <th>Avg Salary</th>\n    </tr>\n    <tr>\n      <th>Gender</th>\n      <th></th>\n    </tr>\n  </thead>\n  <tbody>\n    <tr>\n      <th>Female</th>\n      <td>30996.842105</td>\n    </tr>\n    <tr>\n      <th>Male</th>\n      <td>31102.732794</td>\n    </tr>\n  </tbody>\n</table>\n</div>"
                    },
                    "metadata": {},
                    "execution_count": 7,
                    "output_type": "execute_result"
                }
            ],
            "execution_count": 7
        },
        {
            "cell_type": "code",
            "source": [
                "# Lastly, we know that Age is irrelevant. But what about if we use AgeBand? We can come to the same conclusion that AgeBrand is also irrelevan\r\n",
                "\r\n",
                "df4 = df.groupby([\"AgeBand\"]).agg({'SalaryAmount': ['mean']})\r\n",
                "df4.columns = [\"Avg Salary\"]\r\n",
                "df4"
            ],
            "metadata": {
                "azdata_cell_guid": "076aa890-289c-4b61-a36a-1cb7492d635b",
                "tags": [
                    "hide_input"
                ]
            },
            "outputs": [
                {
                    "data": {
                        "text/plain": "           Avg Salary\nAgeBand              \nBand 1   29926.470588\nBand 2   31722.488038\nBand 3   27125.000000\nBand 4   30398.963731\nBand 5   32208.651399\nBand 6   30489.383215\nBand 7   30851.370851\nBand 8   35218.045113",
                        "text/html": "<div>\n<style scoped>\n    .dataframe tbody tr th:only-of-type {\n        vertical-align: middle;\n    }\n\n    .dataframe tbody tr th {\n        vertical-align: top;\n    }\n\n    .dataframe thead th {\n        text-align: right;\n    }\n</style>\n<table border=\"1\" class=\"dataframe\">\n  <thead>\n    <tr style=\"text-align: right;\">\n      <th></th>\n      <th>Avg Salary</th>\n    </tr>\n    <tr>\n      <th>AgeBand</th>\n      <th></th>\n    </tr>\n  </thead>\n  <tbody>\n    <tr>\n      <th>Band 1</th>\n      <td>29926.470588</td>\n    </tr>\n    <tr>\n      <th>Band 2</th>\n      <td>31722.488038</td>\n    </tr>\n    <tr>\n      <th>Band 3</th>\n      <td>27125.000000</td>\n    </tr>\n    <tr>\n      <th>Band 4</th>\n      <td>30398.963731</td>\n    </tr>\n    <tr>\n      <th>Band 5</th>\n      <td>32208.651399</td>\n    </tr>\n    <tr>\n      <th>Band 6</th>\n      <td>30489.383215</td>\n    </tr>\n    <tr>\n      <th>Band 7</th>\n      <td>30851.370851</td>\n    </tr>\n    <tr>\n      <th>Band 8</th>\n      <td>35218.045113</td>\n    </tr>\n  </tbody>\n</table>\n</div>"
                    },
                    "metadata": {},
                    "execution_count": 8,
                    "output_type": "execute_result"
                }
            ],
            "execution_count": 8
        },
        {
            "cell_type": "code",
            "source": [
                "# Step 3: Now that we've completed our analysis, we can come to the conclusion that the relevant independent variable x that affects dependent variable y (Pay_Band_Des)\r\n",
                "# are : Satisfaction_Level_At_Interview\t,Education and Years_Of_Experience. These are our independent variables x. Since Education and Years_Of_Experience are text,\r\n",
                "# we need to get the corresponding dummies for these 2 variables.\r\n",
                "\r\n",
                "# Let's get dummies for Education column \r\n",
                "\r\n",
                "dummies = pd.get_dummies(df.Education)\r\n",
                "dummies.columns = ['First_Degree', 'Masters','No_Degree','PhD']\r\n",
                "print(dummies.head())"
            ],
            "metadata": {
                "azdata_cell_guid": "c51a293e-daef-4cdc-b0f4-d53fde48849c"
            },
            "outputs": [
                {
                    "name": "stdout",
                    "text": "   First_Degree  Masters  No_Degree  PhD\n0             0        0          1    0\n1             0        0          1    0\n2             0        0          1    0\n3             0        0          1    0\n4             0        0          1    0\n",
                    "output_type": "stream"
                }
            ],
            "execution_count": 9
        },
        {
            "cell_type": "code",
            "source": [
                "# Let's get dummies for Years_Of_Experience column \r\n",
                "\r\n",
                "dummies1 = pd.get_dummies(df.Years_Of_Experience)\r\n",
                "dummies1.columns = ['1_Yr', '2_Yrs','3_Yrs','4_Yrs','5+_Yrs', 'None']\r\n",
                "print(dummies1.head())"
            ],
            "metadata": {
                "azdata_cell_guid": "3887759f-10cc-4f7e-bc10-7210c3a05cda"
            },
            "outputs": [
                {
                    "name": "stdout",
                    "text": "   1_Yr  2_Yrs  3_Yrs  4_Yrs  5+_Yrs  None\n0     0      0      0      0       0     1\n1     0      0      0      0       0     1\n2     0      0      0      0       0     1\n3     0      0      0      0       0     1\n4     0      0      0      0       0     1\n",
                    "output_type": "stream"
                }
            ],
            "execution_count": 10
        },
        {
            "cell_type": "code",
            "source": [
                "# merge the dataset using pandas function namely concat that takes in Lists arguments and specify axis as columns\r\n",
                "merged = pd.concat([df,dummies,dummies1], axis = 'columns')\r\n",
                "merged.head(5)\r\n",
                ""
            ],
            "metadata": {
                "azdata_cell_guid": "b9796983-3162-4352-ba2c-262684ef3bf9",
                "tags": []
            },
            "outputs": [
                {
                    "data": {
                        "text/plain": "   Satisfaction_Level_At_Interview  Department       Pay_Band_Desc  \\\n0                              0.0  accounting  Low Band 1           \n1                              0.0  accounting  Low Band 1           \n2                              0.0  accounting  Low Band 1           \n3                              0.0  accounting  Low Band 1           \n4                              0.0  accounting  Low Band 1           \n\n   SalaryAmount                  Education Years_Of_Experience      Gender  \\\n0         20000  No Degree                     None             Female       \n1         20000  No Degree                     None             Female       \n2         20000  No Degree                     None             Female       \n3         20000  No Degree                     None             Female       \n4         20000  No Degree                     None             Female       \n\n   Age AgeBand  First_Degree  Masters  No_Degree  PhD  1_Yr  2_Yrs  3_Yrs  \\\n0   22  Band 2             0        0          1    0     0      0      0   \n1   30  Band 4             0        0          1    0     0      0      0   \n2   34  Band 4             0        0          1    0     0      0      0   \n3   40  Band 6             0        0          1    0     0      0      0   \n4   41  Band 6             0        0          1    0     0      0      0   \n\n   4_Yrs  5+_Yrs  None  \n0      0       0     1  \n1      0       0     1  \n2      0       0     1  \n3      0       0     1  \n4      0       0     1  ",
                        "text/html": "<div>\n<style scoped>\n    .dataframe tbody tr th:only-of-type {\n        vertical-align: middle;\n    }\n\n    .dataframe tbody tr th {\n        vertical-align: top;\n    }\n\n    .dataframe thead th {\n        text-align: right;\n    }\n</style>\n<table border=\"1\" class=\"dataframe\">\n  <thead>\n    <tr style=\"text-align: right;\">\n      <th></th>\n      <th>Satisfaction_Level_At_Interview</th>\n      <th>Department</th>\n      <th>Pay_Band_Desc</th>\n      <th>SalaryAmount</th>\n      <th>Education</th>\n      <th>Years_Of_Experience</th>\n      <th>Gender</th>\n      <th>Age</th>\n      <th>AgeBand</th>\n      <th>First_Degree</th>\n      <th>Masters</th>\n      <th>No_Degree</th>\n      <th>PhD</th>\n      <th>1_Yr</th>\n      <th>2_Yrs</th>\n      <th>3_Yrs</th>\n      <th>4_Yrs</th>\n      <th>5+_Yrs</th>\n      <th>None</th>\n    </tr>\n  </thead>\n  <tbody>\n    <tr>\n      <th>0</th>\n      <td>0.0</td>\n      <td>accounting</td>\n      <td>Low Band 1</td>\n      <td>20000</td>\n      <td>No Degree</td>\n      <td>None</td>\n      <td>Female</td>\n      <td>22</td>\n      <td>Band 2</td>\n      <td>0</td>\n      <td>0</td>\n      <td>1</td>\n      <td>0</td>\n      <td>0</td>\n      <td>0</td>\n      <td>0</td>\n      <td>0</td>\n      <td>0</td>\n      <td>1</td>\n    </tr>\n    <tr>\n      <th>1</th>\n      <td>0.0</td>\n      <td>accounting</td>\n      <td>Low Band 1</td>\n      <td>20000</td>\n      <td>No Degree</td>\n      <td>None</td>\n      <td>Female</td>\n      <td>30</td>\n      <td>Band 4</td>\n      <td>0</td>\n      <td>0</td>\n      <td>1</td>\n      <td>0</td>\n      <td>0</td>\n      <td>0</td>\n      <td>0</td>\n      <td>0</td>\n      <td>0</td>\n      <td>1</td>\n    </tr>\n    <tr>\n      <th>2</th>\n      <td>0.0</td>\n      <td>accounting</td>\n      <td>Low Band 1</td>\n      <td>20000</td>\n      <td>No Degree</td>\n      <td>None</td>\n      <td>Female</td>\n      <td>34</td>\n      <td>Band 4</td>\n      <td>0</td>\n      <td>0</td>\n      <td>1</td>\n      <td>0</td>\n      <td>0</td>\n      <td>0</td>\n      <td>0</td>\n      <td>0</td>\n      <td>0</td>\n      <td>1</td>\n    </tr>\n    <tr>\n      <th>3</th>\n      <td>0.0</td>\n      <td>accounting</td>\n      <td>Low Band 1</td>\n      <td>20000</td>\n      <td>No Degree</td>\n      <td>None</td>\n      <td>Female</td>\n      <td>40</td>\n      <td>Band 6</td>\n      <td>0</td>\n      <td>0</td>\n      <td>1</td>\n      <td>0</td>\n      <td>0</td>\n      <td>0</td>\n      <td>0</td>\n      <td>0</td>\n      <td>0</td>\n      <td>1</td>\n    </tr>\n    <tr>\n      <th>4</th>\n      <td>0.0</td>\n      <td>accounting</td>\n      <td>Low Band 1</td>\n      <td>20000</td>\n      <td>No Degree</td>\n      <td>None</td>\n      <td>Female</td>\n      <td>41</td>\n      <td>Band 6</td>\n      <td>0</td>\n      <td>0</td>\n      <td>1</td>\n      <td>0</td>\n      <td>0</td>\n      <td>0</td>\n      <td>0</td>\n      <td>0</td>\n      <td>0</td>\n      <td>1</td>\n    </tr>\n  </tbody>\n</table>\n</div>"
                    },
                    "metadata": {},
                    "execution_count": 11,
                    "output_type": "execute_result"
                }
            ],
            "execution_count": 11
        },
        {
            "cell_type": "code",
            "source": [
                "# Let's drop all the irrelevant columns including one column each ('No_Degree','None') from the dummies columns in order to get independent variables x\r\n",
                "\r\n",
                "\r\n",
                "# get columns for x\r\n",
                "x = merged.drop(['Department', 'Pay_Band_Desc' , 'SalaryAmount' , 'Education' , 'Years_Of_Experience' , 'Gender' ,'Age', 'AgeBand','No_Degree','None'], axis = 'columns')\r\n",
                "print(x.head())"
            ],
            "metadata": {
                "azdata_cell_guid": "c6bbb28e-1aae-4dd0-95fd-8955c0e1b547"
            },
            "outputs": [
                {
                    "name": "stdout",
                    "text": "   Satisfaction_Level_At_Interview  First_Degree  Masters  PhD  1_Yr  2_Yrs  \\\n0                              0.0             0        0    0     0      0   \n1                              0.0             0        0    0     0      0   \n2                              0.0             0        0    0     0      0   \n3                              0.0             0        0    0     0      0   \n4                              0.0             0        0    0     0      0   \n\n   3_Yrs  4_Yrs  5+_Yrs  \n0      0      0       0  \n1      0      0       0  \n2      0      0       0  \n3      0      0       0  \n4      0      0       0  \n",
                    "output_type": "stream"
                }
            ],
            "execution_count": 12
        },
        {
            "cell_type": "code",
            "source": [
                "# get dependent variables y\r\n",
                "y = df.Pay_Band_Desc\r\n",
                "y.head()"
            ],
            "metadata": {
                "azdata_cell_guid": "9986a350-e2ed-4a3b-8e10-6a06beab4c85"
            },
            "outputs": [
                {
                    "data": {
                        "text/plain": "0    Low Band 1        \n1    Low Band 1        \n2    Low Band 1        \n3    Low Band 1        \n4    Low Band 1        \nName: Pay_Band_Desc, dtype: object"
                    },
                    "metadata": {},
                    "execution_count": 13,
                    "output_type": "execute_result"
                }
            ],
            "execution_count": 13
        },
        {
            "cell_type": "code",
            "source": [
                "# Step 6: train and fit your model to use available datasets.\r\n",
                "x_train, x_test, y_train, y_test = train_test_split(x, y, test_size=0.3, random_state=0) \r\n",
                "x_train.head()\r\n",
                "\r\n",
                "\r\n",
                ""
            ],
            "metadata": {
                "azdata_cell_guid": "bfb5559a-bf0a-44f5-be84-a5ea9dc5f4dd"
            },
            "outputs": [
                {
                    "data": {
                        "text/plain": "      Satisfaction_Level_At_Interview  First_Degree  Masters  PhD  1_Yr  \\\n2523                             0.75             0        0    0     1   \n3304                             0.87             1        0    0     0   \n516                              0.19             1        0    0     1   \n702                              0.20             0        0    0     0   \n1746                             0.59             1        0    0     0   \n\n      2_Yrs  3_Yrs  4_Yrs  5+_Yrs  \n2523      0      0      0       0  \n3304      0      0      1       0  \n516       0      0      0       0  \n702       0      0      0       0  \n1746      0      0      1       0  ",
                        "text/html": "<div>\n<style scoped>\n    .dataframe tbody tr th:only-of-type {\n        vertical-align: middle;\n    }\n\n    .dataframe tbody tr th {\n        vertical-align: top;\n    }\n\n    .dataframe thead th {\n        text-align: right;\n    }\n</style>\n<table border=\"1\" class=\"dataframe\">\n  <thead>\n    <tr style=\"text-align: right;\">\n      <th></th>\n      <th>Satisfaction_Level_At_Interview</th>\n      <th>First_Degree</th>\n      <th>Masters</th>\n      <th>PhD</th>\n      <th>1_Yr</th>\n      <th>2_Yrs</th>\n      <th>3_Yrs</th>\n      <th>4_Yrs</th>\n      <th>5+_Yrs</th>\n    </tr>\n  </thead>\n  <tbody>\n    <tr>\n      <th>2523</th>\n      <td>0.75</td>\n      <td>0</td>\n      <td>0</td>\n      <td>0</td>\n      <td>1</td>\n      <td>0</td>\n      <td>0</td>\n      <td>0</td>\n      <td>0</td>\n    </tr>\n    <tr>\n      <th>3304</th>\n      <td>0.87</td>\n      <td>1</td>\n      <td>0</td>\n      <td>0</td>\n      <td>0</td>\n      <td>0</td>\n      <td>0</td>\n      <td>1</td>\n      <td>0</td>\n    </tr>\n    <tr>\n      <th>516</th>\n      <td>0.19</td>\n      <td>1</td>\n      <td>0</td>\n      <td>0</td>\n      <td>1</td>\n      <td>0</td>\n      <td>0</td>\n      <td>0</td>\n      <td>0</td>\n    </tr>\n    <tr>\n      <th>702</th>\n      <td>0.20</td>\n      <td>0</td>\n      <td>0</td>\n      <td>0</td>\n      <td>0</td>\n      <td>0</td>\n      <td>0</td>\n      <td>0</td>\n      <td>0</td>\n    </tr>\n    <tr>\n      <th>1746</th>\n      <td>0.59</td>\n      <td>1</td>\n      <td>0</td>\n      <td>0</td>\n      <td>0</td>\n      <td>0</td>\n      <td>0</td>\n      <td>1</td>\n      <td>0</td>\n    </tr>\n  </tbody>\n</table>\n</div>"
                    },
                    "metadata": {},
                    "execution_count": 14,
                    "output_type": "execute_result"
                }
            ],
            "execution_count": 14
        },
        {
            "cell_type": "code",
            "source": [
                "reg = LogisticRegression()\r\n",
                "reg.fit(x_train,y_train) # fit your logistic regression model. "
            ],
            "metadata": {
                "azdata_cell_guid": "a1361ef2-60bf-46cf-a9d8-8e4a8f64b8cd"
            },
            "outputs": [
                {
                    "name": "stderr",
                    "text": "C:\\Users\\tej_j\\AppData\\Roaming\\Python\\Python36\\site-packages\\sklearn\\linear_model\\_logistic.py:764: ConvergenceWarning: lbfgs failed to converge (status=1):\nSTOP: TOTAL NO. of ITERATIONS REACHED LIMIT.\n\nIncrease the number of iterations (max_iter) or scale the data as shown in:\n    https://scikit-learn.org/stable/modules/preprocessing.html\nPlease also refer to the documentation for alternative solver options:\n    https://scikit-learn.org/stable/modules/linear_model.html#logistic-regression\n  extra_warning_msg=_LOGISTIC_SOLVER_CONVERGENCE_MSG)\n",
                    "output_type": "stream"
                },
                {
                    "data": {
                        "text/plain": "LogisticRegression()"
                    },
                    "metadata": {},
                    "execution_count": 15,
                    "output_type": "execute_result"
                }
            ],
            "execution_count": 15
        },
        {
            "cell_type": "code",
            "source": [
                "# let's make some prediction and check accuracy of the model\r\n",
                "\r\n",
                "y_predict = reg.predict(x_test)\r\n",
                "print(\"The predictions are :\",y_predict)"
            ],
            "metadata": {
                "azdata_cell_guid": "8720957f-4892-46af-8d1d-6d192de22a30"
            },
            "outputs": [
                {
                    "name": "stdout",
                    "text": "The predictions are : ['Low Band 2        ' 'Low Band 1        ' 'Low Band 1        ' ...\n 'Low Band 1        ' 'Medium Band 3     ' 'Low Band 2        ']\n",
                    "output_type": "stream"
                }
            ],
            "execution_count": 16
        },
        {
            "cell_type": "code",
            "source": [
                "# Now, let's predict\r\n",
                "# A score of 0.9 at interview, PhD and 5 years experience\r\n",
                "test_predict = reg.predict([[0.9,0, 0,1,0,0,0,0,1]])\r\n",
                "print(\"A score of 0.9 at interview, PhD and 5 years experience :\",test_predict)\r\n",
                "\r\n",
                "# A score of 0.778 at interview, First Degree and 1 year experience\r\n",
                "test_predict1 = reg.predict([[0.778,1, 0,0,1,0,0,0,0]])\r\n",
                "print(\"A score of 0.778 at interview, First Degree and 1 year experience :\",test_predict1)\r\n",
                "\r\n",
                "# A score of 0.1 at interview, No Degree and 5 No Experience\r\n",
                "test_predict2 = reg.predict([[0.1,0, 0,0,0,0,0,0,0]])\r\n",
                "print(\"A score of 0.1 at interview, No Degree and No Experience :\",test_predict2)"
            ],
            "metadata": {
                "azdata_cell_guid": "a4966acd-0c17-4c43-a050-8f073c15de01",
                "tags": []
            },
            "outputs": [
                {
                    "name": "stdout",
                    "text": "A score of 0.9 at interview, PhD and 5 years experience : ['High Band 3       ']\nA score of 0.778 at interview, First Degree and 1 year experience : ['Low Band 3        ']\nA score of 0.1 at interview, No Degree and No Experience : ['Low Band 1        ']\n",
                    "output_type": "stream"
                }
            ],
            "execution_count": 17
        },
        {
            "cell_type": "code",
            "source": [
                "# How accurate is our model?\r\n",
                "r2 = reg.score(x_test,y_test)\r\n",
                "print(\"The accuracy of the model is :\" ,r2)"
            ],
            "metadata": {
                "azdata_cell_guid": "d74797d9-91ed-4524-908a-57dc58905cda"
            },
            "outputs": [
                {
                    "name": "stdout",
                    "text": "The accuracy of the model is : 0.9088564058469476\n",
                    "output_type": "stream"
                }
            ],
            "execution_count": 18
        },
        {
            "cell_type": "markdown",
            "source": [
                "## Finally, the interesting part. Let's get the sql table and predict new employee pay band based on the various independent variables."
            ],
            "metadata": {
                "azdata_cell_guid": "4115a85a-861e-4a5d-858f-cd5b78220b39"
            }
        },
        {
            "cell_type": "code",
            "source": [
                "# Let's get the prediction table\r\n",
                "query_str1 = \"SELECT  [Satisfaction_Level_At_Interview],[Department],[Pay_Band_Desc],[SalaryAmount],[Education] \\\r\n",
                "      ,[Years_Of_Experience],[Gender],[Age],[AgeBand] FROM [Tutorial].[dbo].[HR_EmployeePayBandPrediction]\" \r\n",
                "dfp = pd.read_sql(sql=query_str1, con=conn_str)\r\n",
                "dfp.head()"
            ],
            "metadata": {
                "azdata_cell_guid": "3e534cbf-4cd9-4cb2-937e-ccfe8e4eabc2"
            },
            "outputs": [
                {
                    "data": {
                        "text/plain": "   Satisfaction_Level_At_Interview  Department Pay_Band_Desc SalaryAmount  \\\n0                          0.52965  accounting          None         None   \n1                          0.52965  accounting          None         None   \n2                          0.52965  accounting          None         None   \n3                          0.52965  accounting          None         None   \n4                          0.52965  accounting          None         None   \n\n                   Education Years_Of_Experience      Gender  Age     AgeBand  \n0  No Degree                     None             Female       19  Band 1      \n1  No Degree                     None             Female       20  Band 2      \n2  No Degree                     None             Female       21  Band 2      \n3  No Degree                     1 Yr             Female       30  Band 4      \n4  No Degree                     1 Yr             Female       34  Band 4      ",
                        "text/html": "<div>\n<style scoped>\n    .dataframe tbody tr th:only-of-type {\n        vertical-align: middle;\n    }\n\n    .dataframe tbody tr th {\n        vertical-align: top;\n    }\n\n    .dataframe thead th {\n        text-align: right;\n    }\n</style>\n<table border=\"1\" class=\"dataframe\">\n  <thead>\n    <tr style=\"text-align: right;\">\n      <th></th>\n      <th>Satisfaction_Level_At_Interview</th>\n      <th>Department</th>\n      <th>Pay_Band_Desc</th>\n      <th>SalaryAmount</th>\n      <th>Education</th>\n      <th>Years_Of_Experience</th>\n      <th>Gender</th>\n      <th>Age</th>\n      <th>AgeBand</th>\n    </tr>\n  </thead>\n  <tbody>\n    <tr>\n      <th>0</th>\n      <td>0.52965</td>\n      <td>accounting</td>\n      <td>None</td>\n      <td>None</td>\n      <td>No Degree</td>\n      <td>None</td>\n      <td>Female</td>\n      <td>19</td>\n      <td>Band 1</td>\n    </tr>\n    <tr>\n      <th>1</th>\n      <td>0.52965</td>\n      <td>accounting</td>\n      <td>None</td>\n      <td>None</td>\n      <td>No Degree</td>\n      <td>None</td>\n      <td>Female</td>\n      <td>20</td>\n      <td>Band 2</td>\n    </tr>\n    <tr>\n      <th>2</th>\n      <td>0.52965</td>\n      <td>accounting</td>\n      <td>None</td>\n      <td>None</td>\n      <td>No Degree</td>\n      <td>None</td>\n      <td>Female</td>\n      <td>21</td>\n      <td>Band 2</td>\n    </tr>\n    <tr>\n      <th>3</th>\n      <td>0.52965</td>\n      <td>accounting</td>\n      <td>None</td>\n      <td>None</td>\n      <td>No Degree</td>\n      <td>1 Yr</td>\n      <td>Female</td>\n      <td>30</td>\n      <td>Band 4</td>\n    </tr>\n    <tr>\n      <th>4</th>\n      <td>0.52965</td>\n      <td>accounting</td>\n      <td>None</td>\n      <td>None</td>\n      <td>No Degree</td>\n      <td>1 Yr</td>\n      <td>Female</td>\n      <td>34</td>\n      <td>Band 4</td>\n    </tr>\n  </tbody>\n</table>\n</div>"
                    },
                    "metadata": {},
                    "execution_count": 19,
                    "output_type": "execute_result"
                }
            ],
            "execution_count": 19
        },
        {
            "cell_type": "code",
            "source": [
                "# Based on earlier analysis above, we are only interested in Satisfaction_Level_At_Interview,Years_Of_Experience and Education for x\r\n",
                "\r\n",
                "# Let's get dummies for education and as a rule of thump drop one of the column\r\n",
                "\r\n",
                "dummies_p = pd.get_dummies(dfp.Education)\r\n",
                "dummies_p.columns = ['First_Degree','Masters','No_Degree','PhD']\r\n",
                "dummies_p.head()\r\n",
                "\r\n",
                ""
            ],
            "metadata": {
                "azdata_cell_guid": "e722e5a8-26b6-4a79-a674-968fbaeef066"
            },
            "outputs": [
                {
                    "data": {
                        "text/plain": "   First_Degree  Masters  No_Degree  PhD\n0             0        0          1    0\n1             0        0          1    0\n2             0        0          1    0\n3             0        0          1    0\n4             0        0          1    0",
                        "text/html": "<div>\n<style scoped>\n    .dataframe tbody tr th:only-of-type {\n        vertical-align: middle;\n    }\n\n    .dataframe tbody tr th {\n        vertical-align: top;\n    }\n\n    .dataframe thead th {\n        text-align: right;\n    }\n</style>\n<table border=\"1\" class=\"dataframe\">\n  <thead>\n    <tr style=\"text-align: right;\">\n      <th></th>\n      <th>First_Degree</th>\n      <th>Masters</th>\n      <th>No_Degree</th>\n      <th>PhD</th>\n    </tr>\n  </thead>\n  <tbody>\n    <tr>\n      <th>0</th>\n      <td>0</td>\n      <td>0</td>\n      <td>1</td>\n      <td>0</td>\n    </tr>\n    <tr>\n      <th>1</th>\n      <td>0</td>\n      <td>0</td>\n      <td>1</td>\n      <td>0</td>\n    </tr>\n    <tr>\n      <th>2</th>\n      <td>0</td>\n      <td>0</td>\n      <td>1</td>\n      <td>0</td>\n    </tr>\n    <tr>\n      <th>3</th>\n      <td>0</td>\n      <td>0</td>\n      <td>1</td>\n      <td>0</td>\n    </tr>\n    <tr>\n      <th>4</th>\n      <td>0</td>\n      <td>0</td>\n      <td>1</td>\n      <td>0</td>\n    </tr>\n  </tbody>\n</table>\n</div>"
                    },
                    "metadata": {},
                    "execution_count": 20,
                    "output_type": "execute_result"
                }
            ],
            "execution_count": 20
        },
        {
            "cell_type": "code",
            "source": [
                "# Let's get dummies for Years_Of_Experience\r\n",
                "\r\n",
                "dummies1_p = pd.get_dummies(dfp.Years_Of_Experience)\r\n",
                "dummies1_p.columns = ['1_Yr', '2_Yrs','3_Yrs','4_Yrs','5+_Yrs', 'None']\r\n",
                "dummies1_p.head()"
            ],
            "metadata": {
                "azdata_cell_guid": "88c159de-388d-467f-b015-14531f2572db"
            },
            "outputs": [
                {
                    "data": {
                        "text/plain": "   1_Yr  2_Yrs  3_Yrs  4_Yrs  5+_Yrs  None\n0     0      0      0      0       0     1\n1     0      0      0      0       0     1\n2     0      0      0      0       0     1\n3     1      0      0      0       0     0\n4     1      0      0      0       0     0",
                        "text/html": "<div>\n<style scoped>\n    .dataframe tbody tr th:only-of-type {\n        vertical-align: middle;\n    }\n\n    .dataframe tbody tr th {\n        vertical-align: top;\n    }\n\n    .dataframe thead th {\n        text-align: right;\n    }\n</style>\n<table border=\"1\" class=\"dataframe\">\n  <thead>\n    <tr style=\"text-align: right;\">\n      <th></th>\n      <th>1_Yr</th>\n      <th>2_Yrs</th>\n      <th>3_Yrs</th>\n      <th>4_Yrs</th>\n      <th>5+_Yrs</th>\n      <th>None</th>\n    </tr>\n  </thead>\n  <tbody>\n    <tr>\n      <th>0</th>\n      <td>0</td>\n      <td>0</td>\n      <td>0</td>\n      <td>0</td>\n      <td>0</td>\n      <td>1</td>\n    </tr>\n    <tr>\n      <th>1</th>\n      <td>0</td>\n      <td>0</td>\n      <td>0</td>\n      <td>0</td>\n      <td>0</td>\n      <td>1</td>\n    </tr>\n    <tr>\n      <th>2</th>\n      <td>0</td>\n      <td>0</td>\n      <td>0</td>\n      <td>0</td>\n      <td>0</td>\n      <td>1</td>\n    </tr>\n    <tr>\n      <th>3</th>\n      <td>1</td>\n      <td>0</td>\n      <td>0</td>\n      <td>0</td>\n      <td>0</td>\n      <td>0</td>\n    </tr>\n    <tr>\n      <th>4</th>\n      <td>1</td>\n      <td>0</td>\n      <td>0</td>\n      <td>0</td>\n      <td>0</td>\n      <td>0</td>\n    </tr>\n  </tbody>\n</table>\n</div>"
                    },
                    "metadata": {},
                    "execution_count": 21,
                    "output_type": "execute_result"
                }
            ],
            "execution_count": 21
        },
        {
            "cell_type": "code",
            "source": [
                "#Let's get all the x columns\r\n",
                "\r\n",
                "x_columns = pd.concat([dfp.Satisfaction_Level_At_Interview,dummies_p,dummies1_p], axis = 'columns')\r\n",
                "x_columns.head()"
            ],
            "metadata": {
                "azdata_cell_guid": "6ab91402-faf6-4ebf-8ea7-4c92a1d5963c"
            },
            "outputs": [
                {
                    "data": {
                        "text/plain": "   Satisfaction_Level_At_Interview  First_Degree  Masters  No_Degree  PhD  \\\n0                          0.52965             0        0          1    0   \n1                          0.52965             0        0          1    0   \n2                          0.52965             0        0          1    0   \n3                          0.52965             0        0          1    0   \n4                          0.52965             0        0          1    0   \n\n   1_Yr  2_Yrs  3_Yrs  4_Yrs  5+_Yrs  None  \n0     0      0      0      0       0     1  \n1     0      0      0      0       0     1  \n2     0      0      0      0       0     1  \n3     1      0      0      0       0     0  \n4     1      0      0      0       0     0  ",
                        "text/html": "<div>\n<style scoped>\n    .dataframe tbody tr th:only-of-type {\n        vertical-align: middle;\n    }\n\n    .dataframe tbody tr th {\n        vertical-align: top;\n    }\n\n    .dataframe thead th {\n        text-align: right;\n    }\n</style>\n<table border=\"1\" class=\"dataframe\">\n  <thead>\n    <tr style=\"text-align: right;\">\n      <th></th>\n      <th>Satisfaction_Level_At_Interview</th>\n      <th>First_Degree</th>\n      <th>Masters</th>\n      <th>No_Degree</th>\n      <th>PhD</th>\n      <th>1_Yr</th>\n      <th>2_Yrs</th>\n      <th>3_Yrs</th>\n      <th>4_Yrs</th>\n      <th>5+_Yrs</th>\n      <th>None</th>\n    </tr>\n  </thead>\n  <tbody>\n    <tr>\n      <th>0</th>\n      <td>0.52965</td>\n      <td>0</td>\n      <td>0</td>\n      <td>1</td>\n      <td>0</td>\n      <td>0</td>\n      <td>0</td>\n      <td>0</td>\n      <td>0</td>\n      <td>0</td>\n      <td>1</td>\n    </tr>\n    <tr>\n      <th>1</th>\n      <td>0.52965</td>\n      <td>0</td>\n      <td>0</td>\n      <td>1</td>\n      <td>0</td>\n      <td>0</td>\n      <td>0</td>\n      <td>0</td>\n      <td>0</td>\n      <td>0</td>\n      <td>1</td>\n    </tr>\n    <tr>\n      <th>2</th>\n      <td>0.52965</td>\n      <td>0</td>\n      <td>0</td>\n      <td>1</td>\n      <td>0</td>\n      <td>0</td>\n      <td>0</td>\n      <td>0</td>\n      <td>0</td>\n      <td>0</td>\n      <td>1</td>\n    </tr>\n    <tr>\n      <th>3</th>\n      <td>0.52965</td>\n      <td>0</td>\n      <td>0</td>\n      <td>1</td>\n      <td>0</td>\n      <td>1</td>\n      <td>0</td>\n      <td>0</td>\n      <td>0</td>\n      <td>0</td>\n      <td>0</td>\n    </tr>\n    <tr>\n      <th>4</th>\n      <td>0.52965</td>\n      <td>0</td>\n      <td>0</td>\n      <td>1</td>\n      <td>0</td>\n      <td>1</td>\n      <td>0</td>\n      <td>0</td>\n      <td>0</td>\n      <td>0</td>\n      <td>0</td>\n    </tr>\n  </tbody>\n</table>\n</div>"
                    },
                    "metadata": {},
                    "execution_count": 22,
                    "output_type": "execute_result"
                }
            ],
            "execution_count": 22
        },
        {
            "cell_type": "markdown",
            "source": [
                "## IT IS EXTREMELY IMPORTANT THAT THE ORDER OF YOUR FINAL X IN THIS PREDICTIVE TABLE SHOULD BE EXACTLY AS THE ONE ABOVE I.E THE ONE IN THE ACTUAL TABLE"
            ],
            "metadata": {
                "azdata_cell_guid": "e4a4a7a2-61f0-4b98-bdb5-f6c43b9ff6f0"
            }
        },
        {
            "cell_type": "code",
            "source": [
                "# Let's drop No_Degree and None\r\n",
                "\r\n",
                "x_final = x_columns.drop(['No_Degree','None'], axis = 'columns')\r\n",
                "x_final.head()"
            ],
            "metadata": {
                "azdata_cell_guid": "23e269f2-4b05-44b8-8878-82473a9d8ce0"
            },
            "outputs": [
                {
                    "data": {
                        "text/plain": "   Satisfaction_Level_At_Interview  First_Degree  Masters  PhD  1_Yr  2_Yrs  \\\n0                          0.52965             0        0    0     0      0   \n1                          0.52965             0        0    0     0      0   \n2                          0.52965             0        0    0     0      0   \n3                          0.52965             0        0    0     1      0   \n4                          0.52965             0        0    0     1      0   \n\n   3_Yrs  4_Yrs  5+_Yrs  \n0      0      0       0  \n1      0      0       0  \n2      0      0       0  \n3      0      0       0  \n4      0      0       0  ",
                        "text/html": "<div>\n<style scoped>\n    .dataframe tbody tr th:only-of-type {\n        vertical-align: middle;\n    }\n\n    .dataframe tbody tr th {\n        vertical-align: top;\n    }\n\n    .dataframe thead th {\n        text-align: right;\n    }\n</style>\n<table border=\"1\" class=\"dataframe\">\n  <thead>\n    <tr style=\"text-align: right;\">\n      <th></th>\n      <th>Satisfaction_Level_At_Interview</th>\n      <th>First_Degree</th>\n      <th>Masters</th>\n      <th>PhD</th>\n      <th>1_Yr</th>\n      <th>2_Yrs</th>\n      <th>3_Yrs</th>\n      <th>4_Yrs</th>\n      <th>5+_Yrs</th>\n    </tr>\n  </thead>\n  <tbody>\n    <tr>\n      <th>0</th>\n      <td>0.52965</td>\n      <td>0</td>\n      <td>0</td>\n      <td>0</td>\n      <td>0</td>\n      <td>0</td>\n      <td>0</td>\n      <td>0</td>\n      <td>0</td>\n    </tr>\n    <tr>\n      <th>1</th>\n      <td>0.52965</td>\n      <td>0</td>\n      <td>0</td>\n      <td>0</td>\n      <td>0</td>\n      <td>0</td>\n      <td>0</td>\n      <td>0</td>\n      <td>0</td>\n    </tr>\n    <tr>\n      <th>2</th>\n      <td>0.52965</td>\n      <td>0</td>\n      <td>0</td>\n      <td>0</td>\n      <td>0</td>\n      <td>0</td>\n      <td>0</td>\n      <td>0</td>\n      <td>0</td>\n    </tr>\n    <tr>\n      <th>3</th>\n      <td>0.52965</td>\n      <td>0</td>\n      <td>0</td>\n      <td>0</td>\n      <td>1</td>\n      <td>0</td>\n      <td>0</td>\n      <td>0</td>\n      <td>0</td>\n    </tr>\n    <tr>\n      <th>4</th>\n      <td>0.52965</td>\n      <td>0</td>\n      <td>0</td>\n      <td>0</td>\n      <td>1</td>\n      <td>0</td>\n      <td>0</td>\n      <td>0</td>\n      <td>0</td>\n    </tr>\n  </tbody>\n</table>\n</div>"
                    },
                    "metadata": {},
                    "execution_count": 23,
                    "output_type": "execute_result"
                }
            ],
            "execution_count": 23
        },
        {
            "cell_type": "code",
            "source": [
                "# Let's make some prediction\r\n",
                "\r\n",
                "y_predict1 = reg.predict(x_final)\r\n",
                "y_predict1"
            ],
            "metadata": {
                "azdata_cell_guid": "e5815953-9a5e-43fc-a411-f9f96cb6b468"
            },
            "outputs": [
                {
                    "data": {
                        "text/plain": "array(['Low Band 1        ', 'Low Band 1        ', 'Low Band 1        ',\n       ..., 'High Band 1       ', 'High Band 1       ',\n       'High Band 1       '], dtype=object)"
                    },
                    "metadata": {},
                    "execution_count": 24,
                    "output_type": "execute_result"
                }
            ],
            "execution_count": 24
        },
        {
            "cell_type": "code",
            "source": [
                "# Let's put our prediction above into a column named Pay_Band_Desc\r\n",
                "x_final['Pay_Band_Desc'] = y_predict1\r\n",
                "x_final.head()"
            ],
            "metadata": {
                "azdata_cell_guid": "a916456e-72f5-4b19-b451-6633190fbc19"
            },
            "outputs": [
                {
                    "data": {
                        "text/plain": "   Satisfaction_Level_At_Interview  First_Degree  Masters  PhD  1_Yr  2_Yrs  \\\n0                          0.52965             0        0    0     0      0   \n1                          0.52965             0        0    0     0      0   \n2                          0.52965             0        0    0     0      0   \n3                          0.52965             0        0    0     1      0   \n4                          0.52965             0        0    0     1      0   \n\n   3_Yrs  4_Yrs  5+_Yrs       Pay_Band_Desc  \n0      0      0       0  Low Band 1          \n1      0      0       0  Low Band 1          \n2      0      0       0  Low Band 1          \n3      0      0       0  Low Band 1          \n4      0      0       0  Low Band 1          ",
                        "text/html": "<div>\n<style scoped>\n    .dataframe tbody tr th:only-of-type {\n        vertical-align: middle;\n    }\n\n    .dataframe tbody tr th {\n        vertical-align: top;\n    }\n\n    .dataframe thead th {\n        text-align: right;\n    }\n</style>\n<table border=\"1\" class=\"dataframe\">\n  <thead>\n    <tr style=\"text-align: right;\">\n      <th></th>\n      <th>Satisfaction_Level_At_Interview</th>\n      <th>First_Degree</th>\n      <th>Masters</th>\n      <th>PhD</th>\n      <th>1_Yr</th>\n      <th>2_Yrs</th>\n      <th>3_Yrs</th>\n      <th>4_Yrs</th>\n      <th>5+_Yrs</th>\n      <th>Pay_Band_Desc</th>\n    </tr>\n  </thead>\n  <tbody>\n    <tr>\n      <th>0</th>\n      <td>0.52965</td>\n      <td>0</td>\n      <td>0</td>\n      <td>0</td>\n      <td>0</td>\n      <td>0</td>\n      <td>0</td>\n      <td>0</td>\n      <td>0</td>\n      <td>Low Band 1</td>\n    </tr>\n    <tr>\n      <th>1</th>\n      <td>0.52965</td>\n      <td>0</td>\n      <td>0</td>\n      <td>0</td>\n      <td>0</td>\n      <td>0</td>\n      <td>0</td>\n      <td>0</td>\n      <td>0</td>\n      <td>Low Band 1</td>\n    </tr>\n    <tr>\n      <th>2</th>\n      <td>0.52965</td>\n      <td>0</td>\n      <td>0</td>\n      <td>0</td>\n      <td>0</td>\n      <td>0</td>\n      <td>0</td>\n      <td>0</td>\n      <td>0</td>\n      <td>Low Band 1</td>\n    </tr>\n    <tr>\n      <th>3</th>\n      <td>0.52965</td>\n      <td>0</td>\n      <td>0</td>\n      <td>0</td>\n      <td>1</td>\n      <td>0</td>\n      <td>0</td>\n      <td>0</td>\n      <td>0</td>\n      <td>Low Band 1</td>\n    </tr>\n    <tr>\n      <th>4</th>\n      <td>0.52965</td>\n      <td>0</td>\n      <td>0</td>\n      <td>0</td>\n      <td>1</td>\n      <td>0</td>\n      <td>0</td>\n      <td>0</td>\n      <td>0</td>\n      <td>Low Band 1</td>\n    </tr>\n  </tbody>\n</table>\n</div>"
                    },
                    "metadata": {},
                    "execution_count": 25,
                    "output_type": "execute_result"
                }
            ],
            "execution_count": 25
        },
        {
            "cell_type": "code",
            "source": [
                "# It is important to get x_final to have exacly the same columns as our final destination table\r\n",
                "\r\n",
                "x_final1 = pd.concat([x_final,dfp.Department,dfp.SalaryAmount,dfp.Education,dfp.Years_Of_Experience,dfp.Gender,dfp.Age,dfp.AgeBand], axis = 'columns')\r\n",
                "x_final1.head()"
            ],
            "metadata": {
                "azdata_cell_guid": "fe6fa618-d4f5-47f5-bb8d-52c00c0dcb11"
            },
            "outputs": [
                {
                    "data": {
                        "text/plain": "   Satisfaction_Level_At_Interview  First_Degree  Masters  PhD  1_Yr  2_Yrs  \\\n0                          0.52965             0        0    0     0      0   \n1                          0.52965             0        0    0     0      0   \n2                          0.52965             0        0    0     0      0   \n3                          0.52965             0        0    0     1      0   \n4                          0.52965             0        0    0     1      0   \n\n   3_Yrs  4_Yrs  5+_Yrs       Pay_Band_Desc  Department SalaryAmount  \\\n0      0      0       0  Low Band 1          accounting         None   \n1      0      0       0  Low Band 1          accounting         None   \n2      0      0       0  Low Band 1          accounting         None   \n3      0      0       0  Low Band 1          accounting         None   \n4      0      0       0  Low Band 1          accounting         None   \n\n                   Education Years_Of_Experience      Gender  Age     AgeBand  \n0  No Degree                     None             Female       19  Band 1      \n1  No Degree                     None             Female       20  Band 2      \n2  No Degree                     None             Female       21  Band 2      \n3  No Degree                     1 Yr             Female       30  Band 4      \n4  No Degree                     1 Yr             Female       34  Band 4      ",
                        "text/html": "<div>\n<style scoped>\n    .dataframe tbody tr th:only-of-type {\n        vertical-align: middle;\n    }\n\n    .dataframe tbody tr th {\n        vertical-align: top;\n    }\n\n    .dataframe thead th {\n        text-align: right;\n    }\n</style>\n<table border=\"1\" class=\"dataframe\">\n  <thead>\n    <tr style=\"text-align: right;\">\n      <th></th>\n      <th>Satisfaction_Level_At_Interview</th>\n      <th>First_Degree</th>\n      <th>Masters</th>\n      <th>PhD</th>\n      <th>1_Yr</th>\n      <th>2_Yrs</th>\n      <th>3_Yrs</th>\n      <th>4_Yrs</th>\n      <th>5+_Yrs</th>\n      <th>Pay_Band_Desc</th>\n      <th>Department</th>\n      <th>SalaryAmount</th>\n      <th>Education</th>\n      <th>Years_Of_Experience</th>\n      <th>Gender</th>\n      <th>Age</th>\n      <th>AgeBand</th>\n    </tr>\n  </thead>\n  <tbody>\n    <tr>\n      <th>0</th>\n      <td>0.52965</td>\n      <td>0</td>\n      <td>0</td>\n      <td>0</td>\n      <td>0</td>\n      <td>0</td>\n      <td>0</td>\n      <td>0</td>\n      <td>0</td>\n      <td>Low Band 1</td>\n      <td>accounting</td>\n      <td>None</td>\n      <td>No Degree</td>\n      <td>None</td>\n      <td>Female</td>\n      <td>19</td>\n      <td>Band 1</td>\n    </tr>\n    <tr>\n      <th>1</th>\n      <td>0.52965</td>\n      <td>0</td>\n      <td>0</td>\n      <td>0</td>\n      <td>0</td>\n      <td>0</td>\n      <td>0</td>\n      <td>0</td>\n      <td>0</td>\n      <td>Low Band 1</td>\n      <td>accounting</td>\n      <td>None</td>\n      <td>No Degree</td>\n      <td>None</td>\n      <td>Female</td>\n      <td>20</td>\n      <td>Band 2</td>\n    </tr>\n    <tr>\n      <th>2</th>\n      <td>0.52965</td>\n      <td>0</td>\n      <td>0</td>\n      <td>0</td>\n      <td>0</td>\n      <td>0</td>\n      <td>0</td>\n      <td>0</td>\n      <td>0</td>\n      <td>Low Band 1</td>\n      <td>accounting</td>\n      <td>None</td>\n      <td>No Degree</td>\n      <td>None</td>\n      <td>Female</td>\n      <td>21</td>\n      <td>Band 2</td>\n    </tr>\n    <tr>\n      <th>3</th>\n      <td>0.52965</td>\n      <td>0</td>\n      <td>0</td>\n      <td>0</td>\n      <td>1</td>\n      <td>0</td>\n      <td>0</td>\n      <td>0</td>\n      <td>0</td>\n      <td>Low Band 1</td>\n      <td>accounting</td>\n      <td>None</td>\n      <td>No Degree</td>\n      <td>1 Yr</td>\n      <td>Female</td>\n      <td>30</td>\n      <td>Band 4</td>\n    </tr>\n    <tr>\n      <th>4</th>\n      <td>0.52965</td>\n      <td>0</td>\n      <td>0</td>\n      <td>0</td>\n      <td>1</td>\n      <td>0</td>\n      <td>0</td>\n      <td>0</td>\n      <td>0</td>\n      <td>Low Band 1</td>\n      <td>accounting</td>\n      <td>None</td>\n      <td>No Degree</td>\n      <td>1 Yr</td>\n      <td>Female</td>\n      <td>34</td>\n      <td>Band 4</td>\n    </tr>\n  </tbody>\n</table>\n</div>"
                    },
                    "metadata": {},
                    "execution_count": 26,
                    "output_type": "execute_result"
                }
            ],
            "execution_count": 26
        },
        {
            "cell_type": "code",
            "source": [
                "x_final = x_final1.drop(['First_Degree','Masters','PhD', '1_Yr','2_Yrs','3_Yrs','4_Yrs','5+_Yrs'], axis = 'columns')\r\n",
                "x_final.head()"
            ],
            "metadata": {
                "azdata_cell_guid": "4b337024-3519-42a9-986a-e4770a8150d7"
            },
            "outputs": [
                {
                    "data": {
                        "text/plain": "   Satisfaction_Level_At_Interview       Pay_Band_Desc  Department  \\\n0                          0.52965  Low Band 1          accounting   \n1                          0.52965  Low Band 1          accounting   \n2                          0.52965  Low Band 1          accounting   \n3                          0.52965  Low Band 1          accounting   \n4                          0.52965  Low Band 1          accounting   \n\n  SalaryAmount                  Education Years_Of_Experience      Gender  \\\n0         None  No Degree                     None             Female       \n1         None  No Degree                     None             Female       \n2         None  No Degree                     None             Female       \n3         None  No Degree                     1 Yr             Female       \n4         None  No Degree                     1 Yr             Female       \n\n   Age     AgeBand  \n0   19  Band 1      \n1   20  Band 2      \n2   21  Band 2      \n3   30  Band 4      \n4   34  Band 4      ",
                        "text/html": "<div>\n<style scoped>\n    .dataframe tbody tr th:only-of-type {\n        vertical-align: middle;\n    }\n\n    .dataframe tbody tr th {\n        vertical-align: top;\n    }\n\n    .dataframe thead th {\n        text-align: right;\n    }\n</style>\n<table border=\"1\" class=\"dataframe\">\n  <thead>\n    <tr style=\"text-align: right;\">\n      <th></th>\n      <th>Satisfaction_Level_At_Interview</th>\n      <th>Pay_Band_Desc</th>\n      <th>Department</th>\n      <th>SalaryAmount</th>\n      <th>Education</th>\n      <th>Years_Of_Experience</th>\n      <th>Gender</th>\n      <th>Age</th>\n      <th>AgeBand</th>\n    </tr>\n  </thead>\n  <tbody>\n    <tr>\n      <th>0</th>\n      <td>0.52965</td>\n      <td>Low Band 1</td>\n      <td>accounting</td>\n      <td>None</td>\n      <td>No Degree</td>\n      <td>None</td>\n      <td>Female</td>\n      <td>19</td>\n      <td>Band 1</td>\n    </tr>\n    <tr>\n      <th>1</th>\n      <td>0.52965</td>\n      <td>Low Band 1</td>\n      <td>accounting</td>\n      <td>None</td>\n      <td>No Degree</td>\n      <td>None</td>\n      <td>Female</td>\n      <td>20</td>\n      <td>Band 2</td>\n    </tr>\n    <tr>\n      <th>2</th>\n      <td>0.52965</td>\n      <td>Low Band 1</td>\n      <td>accounting</td>\n      <td>None</td>\n      <td>No Degree</td>\n      <td>None</td>\n      <td>Female</td>\n      <td>21</td>\n      <td>Band 2</td>\n    </tr>\n    <tr>\n      <th>3</th>\n      <td>0.52965</td>\n      <td>Low Band 1</td>\n      <td>accounting</td>\n      <td>None</td>\n      <td>No Degree</td>\n      <td>1 Yr</td>\n      <td>Female</td>\n      <td>30</td>\n      <td>Band 4</td>\n    </tr>\n    <tr>\n      <th>4</th>\n      <td>0.52965</td>\n      <td>Low Band 1</td>\n      <td>accounting</td>\n      <td>None</td>\n      <td>No Degree</td>\n      <td>1 Yr</td>\n      <td>Female</td>\n      <td>34</td>\n      <td>Band 4</td>\n    </tr>\n  </tbody>\n</table>\n</div>"
                    },
                    "metadata": {},
                    "execution_count": 27,
                    "output_type": "execute_result"
                }
            ],
            "execution_count": 27
        },
        {
            "cell_type": "code",
            "source": [
                "# Let's add Status column in order to be able to differentiate between actual and predicted values\r\n",
                "x_final['Status'] = 'Predicted'"
            ],
            "metadata": {
                "azdata_cell_guid": "1eb01657-f5df-425b-b873-06f0ebc523dd"
            },
            "outputs": [],
            "execution_count": 28
        },
        {
            "cell_type": "code",
            "source": [
                "x_final.head()"
            ],
            "metadata": {
                "azdata_cell_guid": "e8a8ae5f-c0d3-44f0-bfc5-4ce249fc2ebc"
            },
            "outputs": [
                {
                    "data": {
                        "text/plain": "   Satisfaction_Level_At_Interview       Pay_Band_Desc  Department  \\\n0                          0.52965  Low Band 1          accounting   \n1                          0.52965  Low Band 1          accounting   \n2                          0.52965  Low Band 1          accounting   \n3                          0.52965  Low Band 1          accounting   \n4                          0.52965  Low Band 1          accounting   \n\n  SalaryAmount                  Education Years_Of_Experience      Gender  \\\n0         None  No Degree                     None             Female       \n1         None  No Degree                     None             Female       \n2         None  No Degree                     None             Female       \n3         None  No Degree                     1 Yr             Female       \n4         None  No Degree                     1 Yr             Female       \n\n   Age     AgeBand     Status  \n0   19  Band 1      Predicted  \n1   20  Band 2      Predicted  \n2   21  Band 2      Predicted  \n3   30  Band 4      Predicted  \n4   34  Band 4      Predicted  ",
                        "text/html": "<div>\n<style scoped>\n    .dataframe tbody tr th:only-of-type {\n        vertical-align: middle;\n    }\n\n    .dataframe tbody tr th {\n        vertical-align: top;\n    }\n\n    .dataframe thead th {\n        text-align: right;\n    }\n</style>\n<table border=\"1\" class=\"dataframe\">\n  <thead>\n    <tr style=\"text-align: right;\">\n      <th></th>\n      <th>Satisfaction_Level_At_Interview</th>\n      <th>Pay_Band_Desc</th>\n      <th>Department</th>\n      <th>SalaryAmount</th>\n      <th>Education</th>\n      <th>Years_Of_Experience</th>\n      <th>Gender</th>\n      <th>Age</th>\n      <th>AgeBand</th>\n      <th>Status</th>\n    </tr>\n  </thead>\n  <tbody>\n    <tr>\n      <th>0</th>\n      <td>0.52965</td>\n      <td>Low Band 1</td>\n      <td>accounting</td>\n      <td>None</td>\n      <td>No Degree</td>\n      <td>None</td>\n      <td>Female</td>\n      <td>19</td>\n      <td>Band 1</td>\n      <td>Predicted</td>\n    </tr>\n    <tr>\n      <th>1</th>\n      <td>0.52965</td>\n      <td>Low Band 1</td>\n      <td>accounting</td>\n      <td>None</td>\n      <td>No Degree</td>\n      <td>None</td>\n      <td>Female</td>\n      <td>20</td>\n      <td>Band 2</td>\n      <td>Predicted</td>\n    </tr>\n    <tr>\n      <th>2</th>\n      <td>0.52965</td>\n      <td>Low Band 1</td>\n      <td>accounting</td>\n      <td>None</td>\n      <td>No Degree</td>\n      <td>None</td>\n      <td>Female</td>\n      <td>21</td>\n      <td>Band 2</td>\n      <td>Predicted</td>\n    </tr>\n    <tr>\n      <th>3</th>\n      <td>0.52965</td>\n      <td>Low Band 1</td>\n      <td>accounting</td>\n      <td>None</td>\n      <td>No Degree</td>\n      <td>1 Yr</td>\n      <td>Female</td>\n      <td>30</td>\n      <td>Band 4</td>\n      <td>Predicted</td>\n    </tr>\n    <tr>\n      <th>4</th>\n      <td>0.52965</td>\n      <td>Low Band 1</td>\n      <td>accounting</td>\n      <td>None</td>\n      <td>No Degree</td>\n      <td>1 Yr</td>\n      <td>Female</td>\n      <td>34</td>\n      <td>Band 4</td>\n      <td>Predicted</td>\n    </tr>\n  </tbody>\n</table>\n</div>"
                    },
                    "metadata": {},
                    "execution_count": 29,
                    "output_type": "execute_result"
                }
            ],
            "execution_count": 29
        },
        {
            "cell_type": "code",
            "source": [
                "# lastly, insert predicted table into HR_EmployeePayBand table\r\n",
                "cursor = conn_str.cursor()\r\n",
                "cursor.execute(\"EXEC [LoadHR_EmployeePayBand]\") # truncate table and only load it with actual data.\r\n",
                "for i, row in x_final.iterrows():\r\n",
                " cursor.execute(\"INSERT INTO [Tutorial].[dbo].[HR_EmployeePayBand]([Satisfaction_Level_At_Interview],[Department],[Pay_Band_Desc],[SalaryAmount], \\\r\n",
                " [Education],[Years_Of_Experience], [Gender],[Age], [AgeBand],[Status]) values(?,?,?,?,?,?,?,?,?,?)\", \r\n",
                " row['Satisfaction_Level_At_Interview'],row['Department'],row['Pay_Band_Desc'],row['SalaryAmount'], row['Education'],row['Years_Of_Experience'],\\\r\n",
                " row['Gender'],row['Age'], row['AgeBand'], row['Status']) \r\n",
                " #  Let's update the SalaryAmount column from the lookup table\r\n",
                " cursor.execute(\" UPDATE t \\\r\n",
                "  SET t.[SalaryAmount] = t1.[SalaryAmount]\\\r\n",
                "  FROM [Tutorial].[dbo].[HR_EmployeePayBand] t \\\r\n",
                "  INNER JOIN [Tutorial].[dbo].[HR_EmployeePayBandLookup] t1 \\\r\n",
                "  ON t.[Pay_Band_Desc] = t1.[Pay_Band_Desc]\")\r\n",
                "conn_str.commit()\r\n",
                "cursor.close()\r\n",
                "conn_str.close()"
            ],
            "metadata": {
                "azdata_cell_guid": "59913982-771d-4fec-8c26-f1e2ecdcc850"
            },
            "outputs": [],
            "execution_count": 30
        }
    ]
}