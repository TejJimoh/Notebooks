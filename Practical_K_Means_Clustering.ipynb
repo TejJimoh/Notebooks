{
    "metadata": {
        "kernelspec": {
            "name": "python3",
            "display_name": "Python 3"
        },
        "language_info": {
            "name": "python",
            "version": "3.6.6",
            "mimetype": "text/x-python",
            "codemirror_mode": {
                "name": "ipython",
                "version": 3
            },
            "pygments_lexer": "ipython3",
            "nbconvert_exporter": "python",
            "file_extension": ".py"
        }
    },
    "nbformat_minor": 2,
    "nbformat": 4,
    "cells": [
        {
            "cell_type": "markdown",
            "source": [
                "Clustering can be explained as organizing data into groups where members of a group are similar in some way. K-Means clustering is an unsupervised learning algorithm that looks for patterns in data based on similarities."
            ],
            "metadata": {
                "azdata_cell_guid": "ea4d6513-70e3-4503-a1ca-d6969f7934cb"
            }
        },
        {
            "cell_type": "markdown",
            "source": [
                "In expalining K Means Clustering, I will use the tutorial given by Microsoft in the url below. Microsoft did a bad job in explaining this tutorial properly. I will try to break the whole thing down step by step and arrive at the same conclusion as Microsoft.\r\n",
                "\r\n",
                "https://docs.microsoft.com/en-us/sql/machine-learning/tutorials/python-clustering-model?view=sql-server-ver15"
            ],
            "metadata": {
                "azdata_cell_guid": "fbaa7618-9048-4d88-8a45-43661991440f"
            }
        },
        {
            "cell_type": "markdown",
            "source": [
                "In this tutorial, we will use K Means Clustering to prepare for clustering customers, by separating customers along the following dimensions:\r\n",
                "\r\n",
                "**orderRatio** = return order ratio (total number of orders partially or fully returned versus the total number of orders).\r\n",
                "\r\n",
                "**itemsRatio** = return item ratio (total number of items returned versus the number of items purchased).\r\n",
                "\r\n",
                "**monetaryRatio** = return amount ratio (total monetary amount of items returned versus the amount purchased).\r\n",
                "\r\n",
                "**frequency** = return frequency"
            ],
            "metadata": {
                "azdata_cell_guid": "9126072f-bf1f-4218-b0a6-3ffde436f2af"
            }
        },
        {
            "cell_type": "code",
            "source": [
                "# Load packages.\r\n",
                "import pyodbc\r\n",
                "import matplotlib.pyplot as plt\r\n",
                "import numpy as np\r\n",
                "import pandas as pd\r\n",
                "from scipy.spatial import distance as sci_distance\r\n",
                "from sklearn import cluster as sk_cluster\r\n",
                "from sklearn.cluster import KMeans\r\n",
                "from sklearn.preprocessing import MinMaxScaler\r\n",
                "\r\n",
                "# STEP 1: get your data from SQL Server and assign it to a pandas variable\r\n",
                "conn_str = pyodbc.connect('Driver={SQL Server};' 'Server=LAPTOP-CHKIB79A;''Database=tpcxbb_1gb;''Trusted_Connection=yes;')\r\n",
                "query_str = \"SELECT ss_customer_sk AS customer,\\\r\n",
                "ROUND(COALESCE(returns_count / NULLIF(1.0*orders_count, 0), 0), 7) AS orderRatio, \\\r\n",
                "ROUND(COALESCE(returns_items / NULLIF(1.0*orders_items, 0), 0), 7) AS itemsRatio, \\\r\n",
                "ROUND(COALESCE(returns_money / NULLIF(1.0*orders_money, 0), 0), 7) AS monetaryRatio, \\\r\n",
                "COALESCE(returns_count, 0) AS frequency \\\r\n",
                "FROM \\\r\n",
                "( \\\r\n",
                "  SELECT \\\r\n",
                "    ss_customer_sk, \\\r\n",
                "    COUNT(distinct(ss_ticket_number)) AS orders_count, \\\r\n",
                "    COUNT(ss_item_sk) AS orders_items, \\\r\n",
                "    SUM( ss_net_paid ) AS orders_money \\\r\n",
                "  FROM store_sales s \\\r\n",
                "  GROUP BY ss_customer_sk \\\r\n",
                ") orders \\\r\n",
                "LEFT OUTER JOIN \\\r\n",
                "( \\\r\n",
                "  SELECT \\\r\n",
                "    sr_customer_sk, \\\r\n",
                "    count(distinct(sr_ticket_number)) as returns_count, \\\r\n",
                "    COUNT(sr_item_sk) as returns_items, \\\r\n",
                "    SUM( sr_return_amt ) AS returns_money \\\r\n",
                "FROM store_returns \\\r\n",
                "GROUP BY sr_customer_sk ) returned ON orders.ss_customer_sk=returned.sr_customer_sk\"\r\n",
                ""
            ],
            "metadata": {
                "azdata_cell_guid": "0f83a6e5-ee71-420a-94b3-11d8216f8c4e",
                "tags": []
            },
            "outputs": [],
            "execution_count": 5
        },
        {
            "cell_type": "code",
            "source": [
                "df = pd.read_sql(sql=query_str, con=conn_str)\r\n",
                "df.head()"
            ],
            "metadata": {
                "azdata_cell_guid": "bee1456b-6262-482e-82d1-c05a5a043791"
            },
            "outputs": [
                {
                    "output_type": "execute_result",
                    "execution_count": 6,
                    "data": {
                        "text/plain": "   customer  orderRatio  itemsRatio  monetaryRatio  frequency\n0     29727    0.000000    0.000000       0.000000          0\n1     97643    0.068182    0.078176       0.037034          3\n2     57247    0.000000    0.000000       0.000000          0\n3     32549    0.086957    0.068657       0.031281          4\n4      2040    0.000000    0.000000       0.000000          0",
                        "text/html": "<div>\n<style scoped>\n    .dataframe tbody tr th:only-of-type {\n        vertical-align: middle;\n    }\n\n    .dataframe tbody tr th {\n        vertical-align: top;\n    }\n\n    .dataframe thead th {\n        text-align: right;\n    }\n</style>\n<table border=\"1\" class=\"dataframe\">\n  <thead>\n    <tr style=\"text-align: right;\">\n      <th></th>\n      <th>customer</th>\n      <th>orderRatio</th>\n      <th>itemsRatio</th>\n      <th>monetaryRatio</th>\n      <th>frequency</th>\n    </tr>\n  </thead>\n  <tbody>\n    <tr>\n      <th>0</th>\n      <td>29727</td>\n      <td>0.000000</td>\n      <td>0.000000</td>\n      <td>0.000000</td>\n      <td>0</td>\n    </tr>\n    <tr>\n      <th>1</th>\n      <td>97643</td>\n      <td>0.068182</td>\n      <td>0.078176</td>\n      <td>0.037034</td>\n      <td>3</td>\n    </tr>\n    <tr>\n      <th>2</th>\n      <td>57247</td>\n      <td>0.000000</td>\n      <td>0.000000</td>\n      <td>0.000000</td>\n      <td>0</td>\n    </tr>\n    <tr>\n      <th>3</th>\n      <td>32549</td>\n      <td>0.086957</td>\n      <td>0.068657</td>\n      <td>0.031281</td>\n      <td>4</td>\n    </tr>\n    <tr>\n      <th>4</th>\n      <td>2040</td>\n      <td>0.000000</td>\n      <td>0.000000</td>\n      <td>0.000000</td>\n      <td>0</td>\n    </tr>\n  </tbody>\n</table>\n</div>"
                    },
                    "metadata": {}
                }
            ],
            "execution_count": 6
        },
        {
            "cell_type": "code",
            "source": [
                "df1 = df.drop('customer',axis = 'columns')\r\n",
                "df1.head()"
            ],
            "metadata": {
                "azdata_cell_guid": "084e3fdd-0488-4e42-b3c8-1ec6fca2c107"
            },
            "outputs": [
                {
                    "output_type": "execute_result",
                    "execution_count": 7,
                    "data": {
                        "text/plain": "   orderRatio  itemsRatio  monetaryRatio  frequency\n0    0.000000    0.000000       0.000000          0\n1    0.068182    0.078176       0.037034          3\n2    0.000000    0.000000       0.000000          0\n3    0.086957    0.068657       0.031281          4\n4    0.000000    0.000000       0.000000          0",
                        "text/html": "<div>\n<style scoped>\n    .dataframe tbody tr th:only-of-type {\n        vertical-align: middle;\n    }\n\n    .dataframe tbody tr th {\n        vertical-align: top;\n    }\n\n    .dataframe thead th {\n        text-align: right;\n    }\n</style>\n<table border=\"1\" class=\"dataframe\">\n  <thead>\n    <tr style=\"text-align: right;\">\n      <th></th>\n      <th>orderRatio</th>\n      <th>itemsRatio</th>\n      <th>monetaryRatio</th>\n      <th>frequency</th>\n    </tr>\n  </thead>\n  <tbody>\n    <tr>\n      <th>0</th>\n      <td>0.000000</td>\n      <td>0.000000</td>\n      <td>0.000000</td>\n      <td>0</td>\n    </tr>\n    <tr>\n      <th>1</th>\n      <td>0.068182</td>\n      <td>0.078176</td>\n      <td>0.037034</td>\n      <td>3</td>\n    </tr>\n    <tr>\n      <th>2</th>\n      <td>0.000000</td>\n      <td>0.000000</td>\n      <td>0.000000</td>\n      <td>0</td>\n    </tr>\n    <tr>\n      <th>3</th>\n      <td>0.086957</td>\n      <td>0.068657</td>\n      <td>0.031281</td>\n      <td>4</td>\n    </tr>\n    <tr>\n      <th>4</th>\n      <td>0.000000</td>\n      <td>0.000000</td>\n      <td>0.000000</td>\n      <td>0</td>\n    </tr>\n  </tbody>\n</table>\n</div>"
                    },
                    "metadata": {}
                }
            ],
            "execution_count": 7
        },
        {
            "cell_type": "code",
            "source": [
                "sse = []\r\n",
                "k_rng = range(1,20)\r\n",
                "for k in k_rng:\r\n",
                "    km = KMeans(n_clusters=k)\r\n",
                "    km.fit(df1)\r\n",
                "    sse.append(km.inertia_)"
            ],
            "metadata": {
                "azdata_cell_guid": "4d74eaf7-a39f-4654-be9b-5e47bd442bc6"
            },
            "outputs": [],
            "execution_count": 8
        },
        {
            "cell_type": "code",
            "source": [
                "plt.xlabel('K')\r\n",
                "plt.ylabel('Sum of squared error')\r\n",
                "plt.plot(k_rng,sse)"
            ],
            "metadata": {
                "azdata_cell_guid": "9ff242f4-a29e-4944-91d2-4f0ccb1123e8"
            },
            "outputs": [
                {
                    "output_type": "execute_result",
                    "execution_count": 9,
                    "data": {
                        "text/plain": "[<matplotlib.lines.Line2D at 0x22a9163e5f8>]"
                    },
                    "metadata": {}
                },
                {
                    "output_type": "display_data",
                    "data": {
                        "text/plain": "<Figure size 432x288 with 1 Axes>",
                        "image/png": "[encoded data removed]"
                    },
                    "metadata": {
                        "needs_background": "light"
                    }
                }
            ],
            "execution_count": 9
        },
        {
            "cell_type": "code",
            "source": [
                "# my k = 4\r\n",
                "\r\n",
                "km = KMeans(n_clusters=4)\r\n",
                "#y_predicted = km.fit_predict(df[['Age','Income($)']])\r\n",
                "km = km.fit(df1)\r\n",
                "km"
            ],
            "metadata": {
                "azdata_cell_guid": "87ebc560-7579-4a1d-bb5e-9bd7e88aa187",
                "tags": []
            },
            "outputs": [
                {
                    "output_type": "execute_result",
                    "execution_count": 10,
                    "data": {
                        "text/plain": "KMeans(n_clusters=4)"
                    },
                    "metadata": {}
                }
            ],
            "execution_count": 10
        },
        {
            "cell_type": "code",
            "source": [
                "# predict number of clusters\r\n",
                "y_predicted = km.predict(df1)\r\n",
                "y_predicted"
            ],
            "metadata": {
                "azdata_cell_guid": "2b964b19-ca79-4a86-b17a-80fe62c7e67a"
            },
            "outputs": [
                {
                    "output_type": "execute_result",
                    "execution_count": 11,
                    "data": {
                        "text/plain": "array([0, 2, 0, ..., 0, 3, 0])"
                    },
                    "metadata": {}
                }
            ],
            "execution_count": 11
        },
        {
            "cell_type": "code",
            "source": [
                "# assign prediction to a new column namely cluster\r\n",
                "df['Cluster'] = y_predicted\r\n",
                "df"
            ],
            "metadata": {
                "azdata_cell_guid": "badd1887-9ecd-4544-b35a-7dd4c93661b9"
            },
            "outputs": [
                {
                    "output_type": "execute_result",
                    "execution_count": 12,
                    "data": {
                        "text/plain": "       customer  orderRatio  itemsRatio  monetaryRatio  frequency  Cluster\n0         29727    0.000000    0.000000       0.000000          0        0\n1         97643    0.068182    0.078176       0.037034          3        2\n2         57247    0.000000    0.000000       0.000000          0        0\n3         32549    0.086957    0.068657       0.031281          4        2\n4          2040    0.000000    0.000000       0.000000          0        0\n...         ...         ...         ...            ...        ...      ...\n37331      8134    0.000000    0.000000       0.000000          0        0\n37332     41772    0.000000    0.000000       0.000000          0        0\n37333     52453    0.000000    0.000000       0.000000          0        0\n37334     40406    1.000000    1.000000       0.270012          1        3\n37335     32000    0.000000    0.000000       0.000000          0        0\n\n[37336 rows x 6 columns]",
                        "text/html": "<div>\n<style scoped>\n    .dataframe tbody tr th:only-of-type {\n        vertical-align: middle;\n    }\n\n    .dataframe tbody tr th {\n        vertical-align: top;\n    }\n\n    .dataframe thead th {\n        text-align: right;\n    }\n</style>\n<table border=\"1\" class=\"dataframe\">\n  <thead>\n    <tr style=\"text-align: right;\">\n      <th></th>\n      <th>customer</th>\n      <th>orderRatio</th>\n      <th>itemsRatio</th>\n      <th>monetaryRatio</th>\n      <th>frequency</th>\n      <th>Cluster</th>\n    </tr>\n  </thead>\n  <tbody>\n    <tr>\n      <th>0</th>\n      <td>29727</td>\n      <td>0.000000</td>\n      <td>0.000000</td>\n      <td>0.000000</td>\n      <td>0</td>\n      <td>0</td>\n    </tr>\n    <tr>\n      <th>1</th>\n      <td>97643</td>\n      <td>0.068182</td>\n      <td>0.078176</td>\n      <td>0.037034</td>\n      <td>3</td>\n      <td>2</td>\n    </tr>\n    <tr>\n      <th>2</th>\n      <td>57247</td>\n      <td>0.000000</td>\n      <td>0.000000</td>\n      <td>0.000000</td>\n      <td>0</td>\n      <td>0</td>\n    </tr>\n    <tr>\n      <th>3</th>\n      <td>32549</td>\n      <td>0.086957</td>\n      <td>0.068657</td>\n      <td>0.031281</td>\n      <td>4</td>\n      <td>2</td>\n    </tr>\n    <tr>\n      <th>4</th>\n      <td>2040</td>\n      <td>0.000000</td>\n      <td>0.000000</td>\n      <td>0.000000</td>\n      <td>0</td>\n      <td>0</td>\n    </tr>\n    <tr>\n      <th>...</th>\n      <td>...</td>\n      <td>...</td>\n      <td>...</td>\n      <td>...</td>\n      <td>...</td>\n      <td>...</td>\n    </tr>\n    <tr>\n      <th>37331</th>\n      <td>8134</td>\n      <td>0.000000</td>\n      <td>0.000000</td>\n      <td>0.000000</td>\n      <td>0</td>\n      <td>0</td>\n    </tr>\n    <tr>\n      <th>37332</th>\n      <td>41772</td>\n      <td>0.000000</td>\n      <td>0.000000</td>\n      <td>0.000000</td>\n      <td>0</td>\n      <td>0</td>\n    </tr>\n    <tr>\n      <th>37333</th>\n      <td>52453</td>\n      <td>0.000000</td>\n      <td>0.000000</td>\n      <td>0.000000</td>\n      <td>0</td>\n      <td>0</td>\n    </tr>\n    <tr>\n      <th>37334</th>\n      <td>40406</td>\n      <td>1.000000</td>\n      <td>1.000000</td>\n      <td>0.270012</td>\n      <td>1</td>\n      <td>3</td>\n    </tr>\n    <tr>\n      <th>37335</th>\n      <td>32000</td>\n      <td>0.000000</td>\n      <td>0.000000</td>\n      <td>0.000000</td>\n      <td>0</td>\n      <td>0</td>\n    </tr>\n  </tbody>\n</table>\n<p>37336 rows × 6 columns</p>\n</div>"
                    },
                    "metadata": {}
                }
            ],
            "execution_count": 12
        },
        {
            "cell_type": "code",
            "source": [
                "# let's group the cluster\r\n",
                "#print(customer_data.groupby(['cluster']).mean())\r\n",
                "df1group = df.groupby(['Cluster']).mean()\r\n",
                "df1group\r\n",
                "\r\n",
                "#dfgroup = dfgroup.groupby('Cluster').agg({'customer': 'count'})"
            ],
            "metadata": {
                "azdata_cell_guid": "e7b6b13e-e742-4612-adc1-d1d8d19f03a2"
            },
            "outputs": [
                {
                    "output_type": "execute_result",
                    "execution_count": 15,
                    "data": {
                        "text/plain": "             customer  orderRatio  itemsRatio  monetaryRatio  frequency\nCluster                                                                \n0        50854.809882    0.000000    0.000000       0.000000   0.000000\n1        57044.000000    1.000000    2.000000     108.719154   1.000000\n2        48516.023845    0.136277    0.078346       0.044497   4.271237\n3        51332.535779    0.721604    0.453365       0.307721   1.097815",
                        "text/html": "<div>\n<style scoped>\n    .dataframe tbody tr th:only-of-type {\n        vertical-align: middle;\n    }\n\n    .dataframe tbody tr th {\n        vertical-align: top;\n    }\n\n    .dataframe thead th {\n        text-align: right;\n    }\n</style>\n<table border=\"1\" class=\"dataframe\">\n  <thead>\n    <tr style=\"text-align: right;\">\n      <th></th>\n      <th>customer</th>\n      <th>orderRatio</th>\n      <th>itemsRatio</th>\n      <th>monetaryRatio</th>\n      <th>frequency</th>\n    </tr>\n    <tr>\n      <th>Cluster</th>\n      <th></th>\n      <th></th>\n      <th></th>\n      <th></th>\n      <th></th>\n    </tr>\n  </thead>\n  <tbody>\n    <tr>\n      <th>0</th>\n      <td>50854.809882</td>\n      <td>0.000000</td>\n      <td>0.000000</td>\n      <td>0.000000</td>\n      <td>0.000000</td>\n    </tr>\n    <tr>\n      <th>1</th>\n      <td>57044.000000</td>\n      <td>1.000000</td>\n      <td>2.000000</td>\n      <td>108.719154</td>\n      <td>1.000000</td>\n    </tr>\n    <tr>\n      <th>2</th>\n      <td>48516.023845</td>\n      <td>0.136277</td>\n      <td>0.078346</td>\n      <td>0.044497</td>\n      <td>4.271237</td>\n    </tr>\n    <tr>\n      <th>3</th>\n      <td>51332.535779</td>\n      <td>0.721604</td>\n      <td>0.453365</td>\n      <td>0.307721</td>\n      <td>1.097815</td>\n    </tr>\n  </tbody>\n</table>\n</div>"
                    },
                    "metadata": {}
                }
            ],
            "execution_count": 15
        },
        {
            "cell_type": "markdown",
            "source": [
                "### From the above, we can initially conclude that customers in cluster 0 can be targeted for marketing since they dont return goods bought. We might also decide to have limited marketing for cluster 1 since the frequency of goods return is 1. But is this assumption right? To know the answer, we need to know the number of customers in each cluster."
            ],
            "metadata": {
                "azdata_cell_guid": "fee9d049-c9e2-43d1-b345-dc9ee53a993d"
            }
        },
        {
            "cell_type": "code",
            "source": [
                "# let's find the number of customers in each cluster\r\n",
                "customercount = df.groupby('Cluster').agg({'customer': 'count'})\r\n",
                "customercount"
            ],
            "metadata": {
                "azdata_cell_guid": "c26f1fa5-088f-461c-93a9-4417d3e96fd4"
            },
            "outputs": [
                {
                    "output_type": "execute_result",
                    "execution_count": 20,
                    "data": {
                        "text/plain": "         customer\nCluster          \n0           31675\n1               1\n2             671\n3            4989",
                        "text/html": "<div>\n<style scoped>\n    .dataframe tbody tr th:only-of-type {\n        vertical-align: middle;\n    }\n\n    .dataframe tbody tr th {\n        vertical-align: top;\n    }\n\n    .dataframe thead th {\n        text-align: right;\n    }\n</style>\n<table border=\"1\" class=\"dataframe\">\n  <thead>\n    <tr style=\"text-align: right;\">\n      <th></th>\n      <th>customer</th>\n    </tr>\n    <tr>\n      <th>Cluster</th>\n      <th></th>\n    </tr>\n  </thead>\n  <tbody>\n    <tr>\n      <th>0</th>\n      <td>31675</td>\n    </tr>\n    <tr>\n      <th>1</th>\n      <td>1</td>\n    </tr>\n    <tr>\n      <th>2</th>\n      <td>671</td>\n    </tr>\n    <tr>\n      <th>3</th>\n      <td>4989</td>\n    </tr>\n  </tbody>\n</table>\n</div>"
                    },
                    "metadata": {}
                }
            ],
            "execution_count": 20
        },
        {
            "cell_type": "markdown",
            "source": [
                "### Now, we can easily conclude that it makes perfect sense to target customers in cluster 0 and ignore customers in cluster 1 because there is just one customer. In fact, we can just ignore all other clusters for marketing except cluster 0"
            ],
            "metadata": {
                "azdata_cell_guid": "bf8a5fbd-9e17-4e5d-9372-83522d469f9b"
            }
        }
    ]
}