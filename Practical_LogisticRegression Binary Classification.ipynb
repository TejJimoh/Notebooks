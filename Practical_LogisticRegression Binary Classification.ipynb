{
    "metadata": {
        "kernelspec": {
            "name": "python3",
            "display_name": "Python 3"
        },
        "language_info": {
            "name": "python",
            "version": "3.6.6",
            "mimetype": "text/x-python",
            "codemirror_mode": {
                "name": "ipython",
                "version": 3
            },
            "pygments_lexer": "ipython3",
            "nbconvert_exporter": "python",
            "file_extension": ".py"
        }
    },
    "nbformat_minor": 2,
    "nbformat": 4,
    "cells": [
        {
            "cell_type": "markdown",
            "source": [
                "## Logistic Regression (Binary Classification) : in this regression there are 2 dependent variables outcome ie Yes or No, Pass or Fail etc etc"
            ],
            "metadata": {
                "azdata_cell_guid": "a63ac382-c61a-4143-bb77-0eeea4bb995f"
            }
        },
        {
            "cell_type": "code",
            "source": [
                "# EXAMPLE 1\r\n",
                "# This is a simple example of how to use Logistic Regression Binary Classificationple with data in excel\r\n",
                "import numpy as np\r\n",
                "import pandas as pd\r\n",
                "from sklearn.linear_model import LogisticRegression\r\n",
                "import matplotlib.pyplot as plt\r\n",
                "from sklearn.metrics import mean_squared_error, r2_score\r\n",
                "from sklearn.model_selection import train_test_split\r\n",
                "\r\n",
                "\r\n",
                "# Step 1: get your data from excel file and assign it to a pandas variable\r\n",
                "df = pd.read_csv(\"C:\\Python\\My Files\\insurance_Data.csv\")\r\n",
                "print(df.head())"
            ],
            "metadata": {
                "azdata_cell_guid": "4bb65c94-1434-4ce0-95ce-4011719a246c",
                "tags": []
            },
            "outputs": [
                {
                    "name": "stdout",
                    "text": "   age  bought_insurance\n0   22                 0\n1   25                 0\n2   47                 1\n3   52                 0\n4   46                 1\n",
                    "output_type": "stream"
                }
            ],
            "execution_count": 2
        },
        {
            "cell_type": "code",
            "source": [
                "# Step 2: Let's do a quick scatter plot to get an idea of the shape of the data. \r\n",
                "# from the scattered graph, most people under the age of 30 years are less likely to have an insurance\r\n",
                "plt.xlabel('Age in years')\r\n",
                "plt.ylabel('Bought insurance')\r\n",
                "plt.scatter(df.age,df.bought_insurance, color = 'red', marker= '*')"
            ],
            "metadata": {
                "azdata_cell_guid": "65cd415c-9e78-4492-8bd2-e2c8f1cc61cf",
                "tags": []
            },
            "outputs": [
                {
                    "data": {
                        "text/plain": "<matplotlib.collections.PathCollection at 0x29db9c088d0>"
                    },
                    "metadata": {},
                    "execution_count": 3,
                    "output_type": "execute_result"
                },
                {
                    "data": {
                        "text/plain": "<Figure size 432x288 with 1 Axes>",
                        "image/png": "[encoded data removed]"
                    },
                    "metadata": {
                        "needs_background": "light"
                    },
                    "output_type": "display_data"
                }
            ],
            "execution_count": 3
        },
        {
            "cell_type": "code",
            "source": [
                "# Step 3: train and fit your model to use available datasets.\r\n",
                "\r\n",
                "x_train, x_test, y_train, y_test = train_test_split(df[['age']], df.bought_insurance, test_size=0.2, random_state=0) #  Note that your independent argument is a 2d array\r\n",
                "reg = LogisticRegression() # get logistic regression object\r\n",
                "reg.fit(x_train,y_train) # fit your logistic regression model. "
            ],
            "metadata": {
                "azdata_cell_guid": "e97127e1-14f4-49dd-b21d-9042c1f747c9",
                "tags": []
            },
            "outputs": [
                {
                    "data": {
                        "text/plain": "LogisticRegression()"
                    },
                    "metadata": {},
                    "execution_count": 4,
                    "output_type": "execute_result"
                }
            ],
            "execution_count": 4
        },
        {
            "cell_type": "code",
            "source": [
                "# Step 4 : let's get the predictions. \r\n",
                "y_predict = reg.predict(x_test)\r\n",
                "print(x_test)\r\n",
                "print(y_predict)\r\n",
                "\r\n",
                "# the print results shows that age 47,50,49,58,56 are likely to have insurance while age 28 is less likely to have an insurance.\r\n",
                ""
            ],
            "metadata": {
                "azdata_cell_guid": "c10e395e-06f3-4f45-9192-b837e401a51b",
                "tags": []
            },
            "outputs": [
                {
                    "name": "stdout",
                    "text": "    age\n2    47\n24   50\n14   49\n17   58\n5    56\n11   28\n[1 1 1 1 1 0]\n",
                    "output_type": "stream"
                }
            ],
            "execution_count": 5
        },
        {
            "cell_type": "code",
            "source": [
                "\r\n",
                "#Step 5:\r\n",
                "# It is important to know how the relationship between the values of the x-axis and the values of the y-axis is, if there are \r\n",
                "# no relationship the linear regression can not be used to predict anything. The r-squared value ranges from 0 to 1, where 0 means no relationship, \r\n",
                "# and 1 means 100% related.\r\n",
                "r2 = reg.score(x_test,y_test)\r\n",
                "mse = mean_squared_error(x_test,y_predict)\r\n",
                "gradient = reg.coef_ # this gives you the gradient or slope\r\n",
                "intercept = reg.intercept_ # this gives you the intercept on the y axix.\r\n",
                "\r\n",
                "print(r2)\r\n",
                "print(mse)\r\n",
                "print(gradient)\r\n",
                "print(intercept)"
            ],
            "metadata": {
                "azdata_cell_guid": "d45529f7-2393-40d6-9945-59d7ff8e3d45",
                "tags": []
            },
            "outputs": [
                {
                    "name": "stdout",
                    "text": "1.0\n2313.1666666666665\n[[0.11216016]]\n[-4.60960684]\n",
                    "output_type": "stream"
                }
            ],
            "execution_count": 6
        },
        {
            "cell_type": "markdown",
            "source": [
                "## Logistic Regression (Binary Classification) : This is a real world example of Logistic Regression Binary Classification using HR data."
            ],
            "metadata": {
                "azdata_cell_guid": "225d7d50-5c1e-4a00-a571-00f10826eae4"
            }
        },
        {
            "cell_type": "code",
            "source": [
                "# In this example, we need to determine which columns are relevant in regards to whether an employee stay in the company or leave.These relevant columns will\r\n",
                "# make up your independent x variables while column \"left\" will be your dependent y column.\r\n",
                "\r\n",
                "# Step 1: \r\n",
                "import numpy as np\r\n",
                "import pandas as pd\r\n",
                "import pyodbc\r\n",
                "from sklearn.linear_model import LogisticRegression\r\n",
                "import matplotlib.pyplot as plt\r\n",
                "from sklearn.metrics import mean_squared_error, r2_score\r\n",
                "from sklearn.model_selection import train_test_split\r\n",
                "# Step 1: get your data from SQL Server and assign it to a pandas variable\r\n",
                "conn_str = pyodbc.connect('Driver={SQL Server};' 'Server=LAPTOP-CHKIB79A;''Database=Tutorial;''Trusted_Connection=yes;')\r\n",
                "query_str = \" SELECT  [satisfaction_level],[last_evaluation],[number_project],[average_montly_hours],[time_spend_company],[Work_accident],[left],\\\r\n",
                "  [promotion_last_5years],[Department],[salary]\\\r\n",
                "  FROM [Tutorial].[dbo].[HR_DataActual] ORDER BY salary\" \r\n",
                "df = pd.read_sql(sql=query_str, con=conn_str)\r\n",
                "df.head()"
            ],
            "metadata": {
                "azdata_cell_guid": "59415450-80d8-42a3-8d51-7ecf7338f3bf",
                "tags": []
            },
            "outputs": [
                {
                    "data": {
                        "text/plain": "   satisfaction_level  last_evaluation  number_project  average_montly_hours  \\\n0                0.45             0.49             2.0                 149.0   \n1                0.09             0.85             6.0                 289.0   \n2                0.44             0.51             2.0                 156.0   \n3                0.45             0.53             2.0                 129.0   \n4                0.37             0.46             2.0                 149.0   \n\n   time_spend_company  Work_accident  left  promotion_last_5years  \\\n0                   3            0.0     1                    0.0   \n1                   4            0.0     1                    0.0   \n2                   3            0.0     1                    0.0   \n3                   3            0.0     1                    0.0   \n4                   3            0.0     1                    0.0   \n\n    Department salary  \n0  product_mng   high  \n1           hr   high  \n2    technical   high  \n3    technical   high  \n4    marketing   high  ",
                        "text/html": "<div>\n<style scoped>\n    .dataframe tbody tr th:only-of-type {\n        vertical-align: middle;\n    }\n\n    .dataframe tbody tr th {\n        vertical-align: top;\n    }\n\n    .dataframe thead th {\n        text-align: right;\n    }\n</style>\n<table border=\"1\" class=\"dataframe\">\n  <thead>\n    <tr style=\"text-align: right;\">\n      <th></th>\n      <th>satisfaction_level</th>\n      <th>last_evaluation</th>\n      <th>number_project</th>\n      <th>average_montly_hours</th>\n      <th>time_spend_company</th>\n      <th>Work_accident</th>\n      <th>left</th>\n      <th>promotion_last_5years</th>\n      <th>Department</th>\n      <th>salary</th>\n    </tr>\n  </thead>\n  <tbody>\n    <tr>\n      <th>0</th>\n      <td>0.45</td>\n      <td>0.49</td>\n      <td>2.0</td>\n      <td>149.0</td>\n      <td>3</td>\n      <td>0.0</td>\n      <td>1</td>\n      <td>0.0</td>\n      <td>product_mng</td>\n      <td>high</td>\n    </tr>\n    <tr>\n      <th>1</th>\n      <td>0.09</td>\n      <td>0.85</td>\n      <td>6.0</td>\n      <td>289.0</td>\n      <td>4</td>\n      <td>0.0</td>\n      <td>1</td>\n      <td>0.0</td>\n      <td>hr</td>\n      <td>high</td>\n    </tr>\n    <tr>\n      <th>2</th>\n      <td>0.44</td>\n      <td>0.51</td>\n      <td>2.0</td>\n      <td>156.0</td>\n      <td>3</td>\n      <td>0.0</td>\n      <td>1</td>\n      <td>0.0</td>\n      <td>technical</td>\n      <td>high</td>\n    </tr>\n    <tr>\n      <th>3</th>\n      <td>0.45</td>\n      <td>0.53</td>\n      <td>2.0</td>\n      <td>129.0</td>\n      <td>3</td>\n      <td>0.0</td>\n      <td>1</td>\n      <td>0.0</td>\n      <td>technical</td>\n      <td>high</td>\n    </tr>\n    <tr>\n      <th>4</th>\n      <td>0.37</td>\n      <td>0.46</td>\n      <td>2.0</td>\n      <td>149.0</td>\n      <td>3</td>\n      <td>0.0</td>\n      <td>1</td>\n      <td>0.0</td>\n      <td>marketing</td>\n      <td>high</td>\n    </tr>\n  </tbody>\n</table>\n</div>"
                    },
                    "metadata": {},
                    "execution_count": 29,
                    "output_type": "execute_result"
                }
            ],
            "execution_count": 29
        },
        {
            "cell_type": "code",
            "source": [
                "# Step 2: Since there are so many independent variables for x, let's determine the relevant columns needed by comparing the average value of employees \r\n",
                "# that left with the average value of the employee retained for each numerical columns\r\n",
                "\r\n",
                "# from the result below, we can conclude that the relevants columns are\r\n",
                "\r\n",
                "# satisfaction_level : More employees will stay if the satisfaction level is high ie 0.666810\r\n",
                "# average_montly_hours: More employees will leave if they are spending more hours at work \r\n",
                "# promotion_last_5years: The more promotions in the last 5 years, the more an employee is likely to stay.\r\n",
                "# Lastly, you might argue that Work_accident should be included but it makes no sense to conclude that thge more an employee have an accident at work,\r\n",
                "# the more likely he or she will stay. It makes no sense. Hence, I will exclude this column from my relevant independent x columns\r\n",
                "\r\n",
                "averages = df.groupby(df.left).mean()\r\n",
                "averages"
            ],
            "metadata": {
                "azdata_cell_guid": "619391e0-5281-449f-a35c-814efc06df72",
                "tags": []
            },
            "outputs": [
                {
                    "data": {
                        "text/plain": "      satisfaction_level  last_evaluation  number_project  \\\nleft                                                        \n0               0.666810         0.715473        3.786664   \n1               0.440098         0.718113        3.855503   \n\n      average_montly_hours  time_spend_company  Work_accident  \\\nleft                                                            \n0               199.060203            3.380032       0.175009   \n1               207.419210            3.876505       0.047326   \n\n      promotion_last_5years  \nleft                         \n0                  0.026251  \n1                  0.005321  ",
                        "text/html": "<div>\n<style scoped>\n    .dataframe tbody tr th:only-of-type {\n        vertical-align: middle;\n    }\n\n    .dataframe tbody tr th {\n        vertical-align: top;\n    }\n\n    .dataframe thead th {\n        text-align: right;\n    }\n</style>\n<table border=\"1\" class=\"dataframe\">\n  <thead>\n    <tr style=\"text-align: right;\">\n      <th></th>\n      <th>satisfaction_level</th>\n      <th>last_evaluation</th>\n      <th>number_project</th>\n      <th>average_montly_hours</th>\n      <th>time_spend_company</th>\n      <th>Work_accident</th>\n      <th>promotion_last_5years</th>\n    </tr>\n    <tr>\n      <th>left</th>\n      <th></th>\n      <th></th>\n      <th></th>\n      <th></th>\n      <th></th>\n      <th></th>\n      <th></th>\n    </tr>\n  </thead>\n  <tbody>\n    <tr>\n      <th>0</th>\n      <td>0.666810</td>\n      <td>0.715473</td>\n      <td>3.786664</td>\n      <td>199.060203</td>\n      <td>3.380032</td>\n      <td>0.175009</td>\n      <td>0.026251</td>\n    </tr>\n    <tr>\n      <th>1</th>\n      <td>0.440098</td>\n      <td>0.718113</td>\n      <td>3.855503</td>\n      <td>207.419210</td>\n      <td>3.876505</td>\n      <td>0.047326</td>\n      <td>0.005321</td>\n    </tr>\n  </tbody>\n</table>\n</div>"
                    },
                    "metadata": {},
                    "execution_count": 8,
                    "output_type": "execute_result"
                }
            ],
            "execution_count": 8
        },
        {
            "cell_type": "code",
            "source": [
                "# Step 3. Since Department and Salary are textual and exluded from the step above, we need a visual view to see if these 2 columns are relevant.\r\n",
                "\r\n",
                "# Let's get a bar chat to display Salary. from the Salary bar chat, we can conclude that the more the salary, the less likely an employee will leave.\r\n",
                "# Hence, salary column is also relevant. Also, for the same number of employees retained for low and medium salary, more low paid workers left the company.\r\n",
                "\r\n",
                "\r\n",
                "pd.crosstab(df.salary,df.left).plot(kind='bar')"
            ],
            "metadata": {
                "azdata_cell_guid": "9392dea5-95c8-4dc6-af36-3a2eb0508389",
                "tags": []
            },
            "outputs": [
                {
                    "data": {
                        "text/plain": "<matplotlib.axes._subplots.AxesSubplot at 0x29db9e38160>"
                    },
                    "metadata": {},
                    "execution_count": 9,
                    "output_type": "execute_result"
                },
                {
                    "data": {
                        "text/plain": "<Figure size 432x288 with 1 Axes>",
                        "image/png": "[encoded data removed]"
                    },
                    "metadata": {
                        "needs_background": "light"
                    },
                    "output_type": "display_data"
                }
            ],
            "execution_count": 9
        },
        {
            "cell_type": "code",
            "source": [
                "# Let's get a bar chat to display Department. from the Department bar chat, we can conclude that Department have no effect on employee retainability\r\n",
                "\r\n",
                "pd.crosstab(df.Department,df.left).plot(kind='bar')"
            ],
            "metadata": {
                "azdata_cell_guid": "7598c6b8-e168-460c-af43-b5389ab0b152",
                "tags": []
            },
            "outputs": [
                {
                    "data": {
                        "text/plain": "<matplotlib.axes._subplots.AxesSubplot at 0x29dba020eb8>"
                    },
                    "metadata": {},
                    "execution_count": 10,
                    "output_type": "execute_result"
                },
                {
                    "data": {
                        "text/plain": "<Figure size 432x288 with 1 Axes>",
                        "image/png": "[encoded data removed]"
                    },
                    "metadata": {
                        "needs_background": "light"
                    },
                    "output_type": "display_data"
                }
            ],
            "execution_count": 10
        },
        {
            "cell_type": "code",
            "source": [
                "# Step 4: Let's get dummies for salary column and merge all columns with these dummies\r\n",
                "\r\n",
                "dummies = pd.get_dummies(df.salary)\r\n",
                "print(dummies.head())\r\n",
                "\r\n",
                "\r\n",
                "# merge the dataset using pandas function namely concat that takes in Lists arguments and specify axis as columns\r\n",
                "merged = pd.concat([df,dummies], axis = 'columns')\r\n",
                "print(merged.head())\r\n",
                ""
            ],
            "metadata": {
                "azdata_cell_guid": "3b68e103-fe07-4986-a639-9d7662a7515d",
                "tags": []
            },
            "outputs": [
                {
                    "name": "stdout",
                    "text": "   high  low  medium\n0     1    0       0\n1     1    0       0\n2     1    0       0\n3     1    0       0\n4     1    0       0\n   satisfaction_level  last_evaluation  number_project  average_montly_hours  \\\n0                0.45             0.49             2.0                 149.0   \n1                0.09             0.85             6.0                 289.0   \n2                0.44             0.51             2.0                 156.0   \n3                0.45             0.53             2.0                 129.0   \n4                0.37             0.46             2.0                 149.0   \n\n   time_spend_company  Work_accident  left  promotion_last_5years  \\\n0                   3            0.0     1                    0.0   \n1                   4            0.0     1                    0.0   \n2                   3            0.0     1                    0.0   \n3                   3            0.0     1                    0.0   \n4                   3            0.0     1                    0.0   \n\n    Department salary  high  low  medium  \n0  product_mng   high     1    0       0  \n1           hr   high     1    0       0  \n2    technical   high     1    0       0  \n3    technical   high     1    0       0  \n4    marketing   high     1    0       0  \n",
                    "output_type": "stream"
                }
            ],
            "execution_count": 33
        },
        {
            "cell_type": "code",
            "source": [
                "# Step 5 : let's drop all the irrelevant columns including one column from the dummies column\r\n",
                "\r\n",
                "# get columns for x\r\n",
                "x = merged.drop(['last_evaluation', 'number_project' , 'time_spend_company' , 'Work_accident' , 'left' , 'Department' ,'salary', 'medium'], axis = 'columns')\r\n",
                "print(x.head())\r\n",
                "\r\n",
                "# use left column for y\r\n",
                "y = df.left\r\n",
                "print(y.head())"
            ],
            "metadata": {
                "azdata_cell_guid": "29f16b2e-db55-487a-977a-c9a07d7952c9",
                "tags": []
            },
            "outputs": [
                {
                    "name": "stdout",
                    "text": "   satisfaction_level  average_montly_hours  promotion_last_5years  high  low\n0                0.45                 149.0                    0.0     1    0\n1                0.09                 289.0                    0.0     1    0\n2                0.44                 156.0                    0.0     1    0\n3                0.45                 129.0                    0.0     1    0\n4                0.37                 149.0                    0.0     1    0\n0    1\n1    1\n2    1\n3    1\n4    1\nName: left, dtype: int64\n",
                    "output_type": "stream"
                }
            ],
            "execution_count": 34
        },
        {
            "cell_type": "code",
            "source": [
                "# Step 6: train and fit your model to use available datasets.\r\n",
                "\r\n",
                "x_train, x_test, y_train, y_test = train_test_split(x, y, test_size=0.3, random_state=0) \r\n",
                "reg = LogisticRegression() # get logistic regression object\r\n",
                "reg.fit(x_train,y_train) # fit your logistic regression model. "
            ],
            "metadata": {
                "azdata_cell_guid": "ac8ac091-0cc5-455d-9f21-c1af13b33e27",
                "tags": []
            },
            "outputs": [
                {
                    "data": {
                        "text/plain": "LogisticRegression()"
                    },
                    "metadata": {},
                    "execution_count": 13,
                    "output_type": "execute_result"
                }
            ],
            "execution_count": 13
        },
        {
            "cell_type": "code",
            "source": [
                "# let's make some prediction and check accuracy of the model\r\n",
                "\r\n",
                "y_predict = reg.predict(x_test)\r\n",
                "print(\"The predictions are :\",y_predict)\r\n",
                "\r\n",
                "test_predict = reg.predict([[0.9,300, 0,0,0]])\r\n",
                "print(\"The prediction for 0.9 satisfaction_level, 300 average_montly_hours, no promotion last 5 years and a medium salary is :\"  ,test_predict)\r\n",
                "r2 = reg.score(x_test,y_test)\r\n",
                "print(\"The accuracy of the model is :\" ,r2)"
            ],
            "metadata": {
                "azdata_cell_guid": "c9865626-695c-4ecc-8385-7449e022fce3",
                "tags": []
            },
            "outputs": [
                {
                    "name": "stdout",
                    "text": "The predictions are : [0 0 0 ... 1 0 0]\nThe prediction for 0.9 satisfaction_level, 300 average_montly_hours, no promotion last 5 years and a medium salary is : [0]\nThe accuracy of the model is : 0.7777777777777778\n",
                    "output_type": "stream"
                }
            ],
            "execution_count": 14
        },
        {
            "cell_type": "markdown",
            "source": [
                "## Step 7 : Finally, the interesting part. Let's get the sql table and predict whether an employee left or stay based on the various independent variables"
            ],
            "metadata": {
                "azdata_cell_guid": "3df661e9-e846-4a11-8970-24cbce0a6fe8"
            }
        },
        {
            "cell_type": "code",
            "source": [
                "# let's connect to the prediction table with column \"left\" blank\r\n",
                "query_str1 = \" SELECT  [satisfaction_level],[last_evaluation],[number_project],[average_montly_hours],[time_spend_company],[Work_accident],[left],\\\r\n",
                "  [promotion_last_5years],[Department],[salary]\\\r\n",
                "  FROM [Tutorial].[dbo].[HR_DataPrediction] ORDER BY salary\" \r\n",
                "df1 = pd.read_sql(sql=query_str1, con=conn_str)\r\n",
                "df1.head()"
            ],
            "metadata": {
                "azdata_cell_guid": "11fb34b1-5394-41c2-b17f-d874839ae5c7",
                "tags": []
            },
            "outputs": [
                {
                    "data": {
                        "text/plain": "   satisfaction_level  last_evaluation  number_project  average_montly_hours  \\\n0                 0.0             0.53             2.0               456.399   \n1                 0.0             0.52             2.0               462.213   \n2                 0.0             0.50             2.0               444.771   \n3                 0.0             0.55             2.0               430.236   \n4                 0.0             0.56             2.0               398.259   \n\n   time_spend_company  Work_accident  left  promotion_last_5years Department  \\\n0                   3            0.0  None                    0.0      sales   \n1                   3            0.0  None                    0.0      sales   \n2                   3            0.0  None                    0.0      sales   \n3                   3            0.0  None                    0.0      sales   \n4                   3            0.0  None                    0.0      sales   \n\n  salary  \n0   high  \n1   high  \n2   high  \n3   high  \n4   high  ",
                        "text/html": "<div>\n<style scoped>\n    .dataframe tbody tr th:only-of-type {\n        vertical-align: middle;\n    }\n\n    .dataframe tbody tr th {\n        vertical-align: top;\n    }\n\n    .dataframe thead th {\n        text-align: right;\n    }\n</style>\n<table border=\"1\" class=\"dataframe\">\n  <thead>\n    <tr style=\"text-align: right;\">\n      <th></th>\n      <th>satisfaction_level</th>\n      <th>last_evaluation</th>\n      <th>number_project</th>\n      <th>average_montly_hours</th>\n      <th>time_spend_company</th>\n      <th>Work_accident</th>\n      <th>left</th>\n      <th>promotion_last_5years</th>\n      <th>Department</th>\n      <th>salary</th>\n    </tr>\n  </thead>\n  <tbody>\n    <tr>\n      <th>0</th>\n      <td>0.0</td>\n      <td>0.53</td>\n      <td>2.0</td>\n      <td>456.399</td>\n      <td>3</td>\n      <td>0.0</td>\n      <td>None</td>\n      <td>0.0</td>\n      <td>sales</td>\n      <td>high</td>\n    </tr>\n    <tr>\n      <th>1</th>\n      <td>0.0</td>\n      <td>0.52</td>\n      <td>2.0</td>\n      <td>462.213</td>\n      <td>3</td>\n      <td>0.0</td>\n      <td>None</td>\n      <td>0.0</td>\n      <td>sales</td>\n      <td>high</td>\n    </tr>\n    <tr>\n      <th>2</th>\n      <td>0.0</td>\n      <td>0.50</td>\n      <td>2.0</td>\n      <td>444.771</td>\n      <td>3</td>\n      <td>0.0</td>\n      <td>None</td>\n      <td>0.0</td>\n      <td>sales</td>\n      <td>high</td>\n    </tr>\n    <tr>\n      <th>3</th>\n      <td>0.0</td>\n      <td>0.55</td>\n      <td>2.0</td>\n      <td>430.236</td>\n      <td>3</td>\n      <td>0.0</td>\n      <td>None</td>\n      <td>0.0</td>\n      <td>sales</td>\n      <td>high</td>\n    </tr>\n    <tr>\n      <th>4</th>\n      <td>0.0</td>\n      <td>0.56</td>\n      <td>2.0</td>\n      <td>398.259</td>\n      <td>3</td>\n      <td>0.0</td>\n      <td>None</td>\n      <td>0.0</td>\n      <td>sales</td>\n      <td>high</td>\n    </tr>\n  </tbody>\n</table>\n</div>"
                    },
                    "metadata": {},
                    "execution_count": 15,
                    "output_type": "execute_result"
                }
            ],
            "execution_count": 15
        },
        {
            "cell_type": "code",
            "source": [
                "# Let's get the dummies variables for salary\r\n",
                "dummies1 = pd.get_dummies(df1.salary)\r\n",
                "#  As a rule, always drop one of the dummies. Let's drop medium\r\n",
                "dummies1 = dummies1.drop('medium', axis = 'columns')\r\n",
                "dummies1.head()"
            ],
            "metadata": {
                "azdata_cell_guid": "baa0f54b-4ccf-4e44-a970-b2b6eca73572",
                "tags": []
            },
            "outputs": [
                {
                    "data": {
                        "text/plain": "   high  low\n0     1    0\n1     1    0\n2     1    0\n3     1    0\n4     1    0",
                        "text/html": "<div>\n<style scoped>\n    .dataframe tbody tr th:only-of-type {\n        vertical-align: middle;\n    }\n\n    .dataframe tbody tr th {\n        vertical-align: top;\n    }\n\n    .dataframe thead th {\n        text-align: right;\n    }\n</style>\n<table border=\"1\" class=\"dataframe\">\n  <thead>\n    <tr style=\"text-align: right;\">\n      <th></th>\n      <th>high</th>\n      <th>low</th>\n    </tr>\n  </thead>\n  <tbody>\n    <tr>\n      <th>0</th>\n      <td>1</td>\n      <td>0</td>\n    </tr>\n    <tr>\n      <th>1</th>\n      <td>1</td>\n      <td>0</td>\n    </tr>\n    <tr>\n      <th>2</th>\n      <td>1</td>\n      <td>0</td>\n    </tr>\n    <tr>\n      <th>3</th>\n      <td>1</td>\n      <td>0</td>\n    </tr>\n    <tr>\n      <th>4</th>\n      <td>1</td>\n      <td>0</td>\n    </tr>\n  </tbody>\n</table>\n</div>"
                    },
                    "metadata": {},
                    "execution_count": 16,
                    "output_type": "execute_result"
                }
            ],
            "execution_count": 16
        },
        {
            "cell_type": "code",
            "source": [
                "# Let's get all the relevant columns for x\r\n",
                "# get columns for x\r\n",
                "x_dropped = df1.drop(['last_evaluation', 'number_project' , 'time_spend_company' , 'Work_accident' , 'left' , 'Department', 'salary'], axis = 'columns')\r\n",
                "x_dropped.head(5)"
            ],
            "metadata": {
                "azdata_cell_guid": "785957ca-99b8-4fa3-ae56-778e097ea4b3",
                "tags": []
            },
            "outputs": [
                {
                    "data": {
                        "text/plain": "   satisfaction_level  average_montly_hours  promotion_last_5years\n0                 0.0               456.399                    0.0\n1                 0.0               462.213                    0.0\n2                 0.0               444.771                    0.0\n3                 0.0               430.236                    0.0\n4                 0.0               398.259                    0.0",
                        "text/html": "<div>\n<style scoped>\n    .dataframe tbody tr th:only-of-type {\n        vertical-align: middle;\n    }\n\n    .dataframe tbody tr th {\n        vertical-align: top;\n    }\n\n    .dataframe thead th {\n        text-align: right;\n    }\n</style>\n<table border=\"1\" class=\"dataframe\">\n  <thead>\n    <tr style=\"text-align: right;\">\n      <th></th>\n      <th>satisfaction_level</th>\n      <th>average_montly_hours</th>\n      <th>promotion_last_5years</th>\n    </tr>\n  </thead>\n  <tbody>\n    <tr>\n      <th>0</th>\n      <td>0.0</td>\n      <td>456.399</td>\n      <td>0.0</td>\n    </tr>\n    <tr>\n      <th>1</th>\n      <td>0.0</td>\n      <td>462.213</td>\n      <td>0.0</td>\n    </tr>\n    <tr>\n      <th>2</th>\n      <td>0.0</td>\n      <td>444.771</td>\n      <td>0.0</td>\n    </tr>\n    <tr>\n      <th>3</th>\n      <td>0.0</td>\n      <td>430.236</td>\n      <td>0.0</td>\n    </tr>\n    <tr>\n      <th>4</th>\n      <td>0.0</td>\n      <td>398.259</td>\n      <td>0.0</td>\n    </tr>\n  </tbody>\n</table>\n</div>"
                    },
                    "metadata": {},
                    "execution_count": 17,
                    "output_type": "execute_result"
                }
            ],
            "execution_count": 17
        },
        {
            "cell_type": "code",
            "source": [
                "# Now let's merge dummies1 and x_dropped to get our final x\r\n",
                "\r\n",
                "x = pd.concat([x_dropped,dummies1], axis = 'columns')\r\n",
                "x.head()"
            ],
            "metadata": {
                "azdata_cell_guid": "b6274fbb-23c5-4566-91a1-ba6c207ced23",
                "tags": []
            },
            "outputs": [
                {
                    "data": {
                        "text/plain": "   satisfaction_level  average_montly_hours  promotion_last_5years  high  low\n0                 0.0               456.399                    0.0     1    0\n1                 0.0               462.213                    0.0     1    0\n2                 0.0               444.771                    0.0     1    0\n3                 0.0               430.236                    0.0     1    0\n4                 0.0               398.259                    0.0     1    0",
                        "text/html": "<div>\n<style scoped>\n    .dataframe tbody tr th:only-of-type {\n        vertical-align: middle;\n    }\n\n    .dataframe tbody tr th {\n        vertical-align: top;\n    }\n\n    .dataframe thead th {\n        text-align: right;\n    }\n</style>\n<table border=\"1\" class=\"dataframe\">\n  <thead>\n    <tr style=\"text-align: right;\">\n      <th></th>\n      <th>satisfaction_level</th>\n      <th>average_montly_hours</th>\n      <th>promotion_last_5years</th>\n      <th>high</th>\n      <th>low</th>\n    </tr>\n  </thead>\n  <tbody>\n    <tr>\n      <th>0</th>\n      <td>0.0</td>\n      <td>456.399</td>\n      <td>0.0</td>\n      <td>1</td>\n      <td>0</td>\n    </tr>\n    <tr>\n      <th>1</th>\n      <td>0.0</td>\n      <td>462.213</td>\n      <td>0.0</td>\n      <td>1</td>\n      <td>0</td>\n    </tr>\n    <tr>\n      <th>2</th>\n      <td>0.0</td>\n      <td>444.771</td>\n      <td>0.0</td>\n      <td>1</td>\n      <td>0</td>\n    </tr>\n    <tr>\n      <th>3</th>\n      <td>0.0</td>\n      <td>430.236</td>\n      <td>0.0</td>\n      <td>1</td>\n      <td>0</td>\n    </tr>\n    <tr>\n      <th>4</th>\n      <td>0.0</td>\n      <td>398.259</td>\n      <td>0.0</td>\n      <td>1</td>\n      <td>0</td>\n    </tr>\n  </tbody>\n</table>\n</div>"
                    },
                    "metadata": {},
                    "execution_count": 18,
                    "output_type": "execute_result"
                }
            ],
            "execution_count": 18
        },
        {
            "cell_type": "code",
            "source": [
                "# Let's make prediction for blank column \"left\" in our prediction table and store the information in variable left\r\n",
                "left = reg.predict(x)\r\n",
                "left"
            ],
            "metadata": {
                "azdata_cell_guid": "135bd4e2-0f66-4b0b-b8b2-91ce16a81c03",
                "tags": []
            },
            "outputs": [
                {
                    "data": {
                        "text/plain": "array([0, 0, 0, ..., 0, 1, 1], dtype=int64)"
                    },
                    "metadata": {},
                    "execution_count": 19,
                    "output_type": "execute_result"
                }
            ],
            "execution_count": 19
        },
        {
            "cell_type": "code",
            "source": [
                "# let's add all relevant columns to x so that we will end up with exactly the same columns as our predictive table\r\n",
                "\r\n",
                "# Add variable \"left\" that holds our prediction\r\n",
                "x['left'] = left\r\n",
                "x.head()"
            ],
            "metadata": {
                "azdata_cell_guid": "9d64e96c-7bcd-45b1-ad3f-278fb134f1e3",
                "tags": []
            },
            "outputs": [
                {
                    "data": {
                        "text/plain": "   satisfaction_level  average_montly_hours  promotion_last_5years  high  low  \\\n0                 0.0               456.399                    0.0     1    0   \n1                 0.0               462.213                    0.0     1    0   \n2                 0.0               444.771                    0.0     1    0   \n3                 0.0               430.236                    0.0     1    0   \n4                 0.0               398.259                    0.0     1    0   \n\n   left  \n0     0  \n1     0  \n2     0  \n3     0  \n4     0  ",
                        "text/html": "<div>\n<style scoped>\n    .dataframe tbody tr th:only-of-type {\n        vertical-align: middle;\n    }\n\n    .dataframe tbody tr th {\n        vertical-align: top;\n    }\n\n    .dataframe thead th {\n        text-align: right;\n    }\n</style>\n<table border=\"1\" class=\"dataframe\">\n  <thead>\n    <tr style=\"text-align: right;\">\n      <th></th>\n      <th>satisfaction_level</th>\n      <th>average_montly_hours</th>\n      <th>promotion_last_5years</th>\n      <th>high</th>\n      <th>low</th>\n      <th>left</th>\n    </tr>\n  </thead>\n  <tbody>\n    <tr>\n      <th>0</th>\n      <td>0.0</td>\n      <td>456.399</td>\n      <td>0.0</td>\n      <td>1</td>\n      <td>0</td>\n      <td>0</td>\n    </tr>\n    <tr>\n      <th>1</th>\n      <td>0.0</td>\n      <td>462.213</td>\n      <td>0.0</td>\n      <td>1</td>\n      <td>0</td>\n      <td>0</td>\n    </tr>\n    <tr>\n      <th>2</th>\n      <td>0.0</td>\n      <td>444.771</td>\n      <td>0.0</td>\n      <td>1</td>\n      <td>0</td>\n      <td>0</td>\n    </tr>\n    <tr>\n      <th>3</th>\n      <td>0.0</td>\n      <td>430.236</td>\n      <td>0.0</td>\n      <td>1</td>\n      <td>0</td>\n      <td>0</td>\n    </tr>\n    <tr>\n      <th>4</th>\n      <td>0.0</td>\n      <td>398.259</td>\n      <td>0.0</td>\n      <td>1</td>\n      <td>0</td>\n      <td>0</td>\n    </tr>\n  </tbody>\n</table>\n</div>"
                    },
                    "metadata": {},
                    "execution_count": 20,
                    "output_type": "execute_result"
                }
            ],
            "execution_count": 20
        },
        {
            "cell_type": "code",
            "source": [
                "# add other dropped columns\r\n",
                "dropped_columns = df1.drop(['satisfaction_level', 'average_montly_hours' , 'promotion_last_5years' , 'left' ], axis = 'columns')\r\n",
                "dropped_columns.head()"
            ],
            "metadata": {
                "azdata_cell_guid": "60232c9e-8892-4a2b-b0af-1bc6512f33e3",
                "tags": []
            },
            "outputs": [
                {
                    "data": {
                        "text/plain": "   last_evaluation  number_project  time_spend_company  Work_accident  \\\n0             0.53             2.0                   3            0.0   \n1             0.52             2.0                   3            0.0   \n2             0.50             2.0                   3            0.0   \n3             0.55             2.0                   3            0.0   \n4             0.56             2.0                   3            0.0   \n\n  Department salary  \n0      sales   high  \n1      sales   high  \n2      sales   high  \n3      sales   high  \n4      sales   high  ",
                        "text/html": "<div>\n<style scoped>\n    .dataframe tbody tr th:only-of-type {\n        vertical-align: middle;\n    }\n\n    .dataframe tbody tr th {\n        vertical-align: top;\n    }\n\n    .dataframe thead th {\n        text-align: right;\n    }\n</style>\n<table border=\"1\" class=\"dataframe\">\n  <thead>\n    <tr style=\"text-align: right;\">\n      <th></th>\n      <th>last_evaluation</th>\n      <th>number_project</th>\n      <th>time_spend_company</th>\n      <th>Work_accident</th>\n      <th>Department</th>\n      <th>salary</th>\n    </tr>\n  </thead>\n  <tbody>\n    <tr>\n      <th>0</th>\n      <td>0.53</td>\n      <td>2.0</td>\n      <td>3</td>\n      <td>0.0</td>\n      <td>sales</td>\n      <td>high</td>\n    </tr>\n    <tr>\n      <th>1</th>\n      <td>0.52</td>\n      <td>2.0</td>\n      <td>3</td>\n      <td>0.0</td>\n      <td>sales</td>\n      <td>high</td>\n    </tr>\n    <tr>\n      <th>2</th>\n      <td>0.50</td>\n      <td>2.0</td>\n      <td>3</td>\n      <td>0.0</td>\n      <td>sales</td>\n      <td>high</td>\n    </tr>\n    <tr>\n      <th>3</th>\n      <td>0.55</td>\n      <td>2.0</td>\n      <td>3</td>\n      <td>0.0</td>\n      <td>sales</td>\n      <td>high</td>\n    </tr>\n    <tr>\n      <th>4</th>\n      <td>0.56</td>\n      <td>2.0</td>\n      <td>3</td>\n      <td>0.0</td>\n      <td>sales</td>\n      <td>high</td>\n    </tr>\n  </tbody>\n</table>\n</div>"
                    },
                    "metadata": {},
                    "execution_count": 21,
                    "output_type": "execute_result"
                }
            ],
            "execution_count": 21
        },
        {
            "cell_type": "code",
            "source": [
                "final_x = pd.concat([x,dropped_columns], axis = 'columns')\r\n",
                "final_x.head()\r\n",
                "# take a look to see that salary column matches our dummies value"
            ],
            "metadata": {
                "azdata_cell_guid": "35feaf3b-a5cd-4d24-97c0-9786bb748e39",
                "tags": []
            },
            "outputs": [
                {
                    "data": {
                        "text/plain": "   satisfaction_level  average_montly_hours  promotion_last_5years  high  low  \\\n0                 0.0               456.399                    0.0     1    0   \n1                 0.0               462.213                    0.0     1    0   \n2                 0.0               444.771                    0.0     1    0   \n3                 0.0               430.236                    0.0     1    0   \n4                 0.0               398.259                    0.0     1    0   \n\n   left  last_evaluation  number_project  time_spend_company  Work_accident  \\\n0     0             0.53             2.0                   3            0.0   \n1     0             0.52             2.0                   3            0.0   \n2     0             0.50             2.0                   3            0.0   \n3     0             0.55             2.0                   3            0.0   \n4     0             0.56             2.0                   3            0.0   \n\n  Department salary  \n0      sales   high  \n1      sales   high  \n2      sales   high  \n3      sales   high  \n4      sales   high  ",
                        "text/html": "<div>\n<style scoped>\n    .dataframe tbody tr th:only-of-type {\n        vertical-align: middle;\n    }\n\n    .dataframe tbody tr th {\n        vertical-align: top;\n    }\n\n    .dataframe thead th {\n        text-align: right;\n    }\n</style>\n<table border=\"1\" class=\"dataframe\">\n  <thead>\n    <tr style=\"text-align: right;\">\n      <th></th>\n      <th>satisfaction_level</th>\n      <th>average_montly_hours</th>\n      <th>promotion_last_5years</th>\n      <th>high</th>\n      <th>low</th>\n      <th>left</th>\n      <th>last_evaluation</th>\n      <th>number_project</th>\n      <th>time_spend_company</th>\n      <th>Work_accident</th>\n      <th>Department</th>\n      <th>salary</th>\n    </tr>\n  </thead>\n  <tbody>\n    <tr>\n      <th>0</th>\n      <td>0.0</td>\n      <td>456.399</td>\n      <td>0.0</td>\n      <td>1</td>\n      <td>0</td>\n      <td>0</td>\n      <td>0.53</td>\n      <td>2.0</td>\n      <td>3</td>\n      <td>0.0</td>\n      <td>sales</td>\n      <td>high</td>\n    </tr>\n    <tr>\n      <th>1</th>\n      <td>0.0</td>\n      <td>462.213</td>\n      <td>0.0</td>\n      <td>1</td>\n      <td>0</td>\n      <td>0</td>\n      <td>0.52</td>\n      <td>2.0</td>\n      <td>3</td>\n      <td>0.0</td>\n      <td>sales</td>\n      <td>high</td>\n    </tr>\n    <tr>\n      <th>2</th>\n      <td>0.0</td>\n      <td>444.771</td>\n      <td>0.0</td>\n      <td>1</td>\n      <td>0</td>\n      <td>0</td>\n      <td>0.50</td>\n      <td>2.0</td>\n      <td>3</td>\n      <td>0.0</td>\n      <td>sales</td>\n      <td>high</td>\n    </tr>\n    <tr>\n      <th>3</th>\n      <td>0.0</td>\n      <td>430.236</td>\n      <td>0.0</td>\n      <td>1</td>\n      <td>0</td>\n      <td>0</td>\n      <td>0.55</td>\n      <td>2.0</td>\n      <td>3</td>\n      <td>0.0</td>\n      <td>sales</td>\n      <td>high</td>\n    </tr>\n    <tr>\n      <th>4</th>\n      <td>0.0</td>\n      <td>398.259</td>\n      <td>0.0</td>\n      <td>1</td>\n      <td>0</td>\n      <td>0</td>\n      <td>0.56</td>\n      <td>2.0</td>\n      <td>3</td>\n      <td>0.0</td>\n      <td>sales</td>\n      <td>high</td>\n    </tr>\n  </tbody>\n</table>\n</div>"
                    },
                    "metadata": {},
                    "execution_count": 22,
                    "output_type": "execute_result"
                }
            ],
            "execution_count": 22
        },
        {
            "cell_type": "code",
            "source": [
                "# Let's add a Status column of value Predicted so that we can differential between actual and predicted tables\r\n",
                "final_x['Status'] = \"Predicted\"\r\n",
                "final_x.head()"
            ],
            "metadata": {
                "azdata_cell_guid": "875eabcc-0b3f-4f18-86c5-e7fc4b616ec8",
                "tags": []
            },
            "outputs": [
                {
                    "data": {
                        "text/plain": "   satisfaction_level  average_montly_hours  promotion_last_5years  high  low  \\\n0                 0.0               456.399                    0.0     1    0   \n1                 0.0               462.213                    0.0     1    0   \n2                 0.0               444.771                    0.0     1    0   \n3                 0.0               430.236                    0.0     1    0   \n4                 0.0               398.259                    0.0     1    0   \n\n   left  last_evaluation  number_project  time_spend_company  Work_accident  \\\n0     0             0.53             2.0                   3            0.0   \n1     0             0.52             2.0                   3            0.0   \n2     0             0.50             2.0                   3            0.0   \n3     0             0.55             2.0                   3            0.0   \n4     0             0.56             2.0                   3            0.0   \n\n  Department salary     Status  \n0      sales   high  Predicted  \n1      sales   high  Predicted  \n2      sales   high  Predicted  \n3      sales   high  Predicted  \n4      sales   high  Predicted  ",
                        "text/html": "<div>\n<style scoped>\n    .dataframe tbody tr th:only-of-type {\n        vertical-align: middle;\n    }\n\n    .dataframe tbody tr th {\n        vertical-align: top;\n    }\n\n    .dataframe thead th {\n        text-align: right;\n    }\n</style>\n<table border=\"1\" class=\"dataframe\">\n  <thead>\n    <tr style=\"text-align: right;\">\n      <th></th>\n      <th>satisfaction_level</th>\n      <th>average_montly_hours</th>\n      <th>promotion_last_5years</th>\n      <th>high</th>\n      <th>low</th>\n      <th>left</th>\n      <th>last_evaluation</th>\n      <th>number_project</th>\n      <th>time_spend_company</th>\n      <th>Work_accident</th>\n      <th>Department</th>\n      <th>salary</th>\n      <th>Status</th>\n    </tr>\n  </thead>\n  <tbody>\n    <tr>\n      <th>0</th>\n      <td>0.0</td>\n      <td>456.399</td>\n      <td>0.0</td>\n      <td>1</td>\n      <td>0</td>\n      <td>0</td>\n      <td>0.53</td>\n      <td>2.0</td>\n      <td>3</td>\n      <td>0.0</td>\n      <td>sales</td>\n      <td>high</td>\n      <td>Predicted</td>\n    </tr>\n    <tr>\n      <th>1</th>\n      <td>0.0</td>\n      <td>462.213</td>\n      <td>0.0</td>\n      <td>1</td>\n      <td>0</td>\n      <td>0</td>\n      <td>0.52</td>\n      <td>2.0</td>\n      <td>3</td>\n      <td>0.0</td>\n      <td>sales</td>\n      <td>high</td>\n      <td>Predicted</td>\n    </tr>\n    <tr>\n      <th>2</th>\n      <td>0.0</td>\n      <td>444.771</td>\n      <td>0.0</td>\n      <td>1</td>\n      <td>0</td>\n      <td>0</td>\n      <td>0.50</td>\n      <td>2.0</td>\n      <td>3</td>\n      <td>0.0</td>\n      <td>sales</td>\n      <td>high</td>\n      <td>Predicted</td>\n    </tr>\n    <tr>\n      <th>3</th>\n      <td>0.0</td>\n      <td>430.236</td>\n      <td>0.0</td>\n      <td>1</td>\n      <td>0</td>\n      <td>0</td>\n      <td>0.55</td>\n      <td>2.0</td>\n      <td>3</td>\n      <td>0.0</td>\n      <td>sales</td>\n      <td>high</td>\n      <td>Predicted</td>\n    </tr>\n    <tr>\n      <th>4</th>\n      <td>0.0</td>\n      <td>398.259</td>\n      <td>0.0</td>\n      <td>1</td>\n      <td>0</td>\n      <td>0</td>\n      <td>0.56</td>\n      <td>2.0</td>\n      <td>3</td>\n      <td>0.0</td>\n      <td>sales</td>\n      <td>high</td>\n      <td>Predicted</td>\n    </tr>\n  </tbody>\n</table>\n</div>"
                    },
                    "metadata": {},
                    "execution_count": 23,
                    "output_type": "execute_result"
                }
            ],
            "execution_count": 23
        },
        {
            "cell_type": "code",
            "source": [
                "# lastly, insert predicted table into TimeSpeed table\r\n",
                "cursor = conn_str.cursor()\r\n",
                "cursor.execute(\"EXEC [LoadHR_Data]\") # truncate table and only load it with actual data.\r\n",
                "for i, row in final_x.iterrows():\r\n",
                " cursor.execute(\"INSERT INTO [Tutorial].[dbo].[HR_Data]([satisfaction_level],[last_evaluation],[number_project],[average_montly_hours], \\\r\n",
                " [time_spend_company],[Work_accident], [left],[promotion_last_5years], [Department],[salary], [Status]) values(?,?,?,?,?,?,?,?,?,?,?)\", \r\n",
                " row['satisfaction_level'],row['last_evaluation'],row['number_project'],row['average_montly_hours'], row['time_spend_company'],row['Work_accident'],\\\r\n",
                " row['left'],row['promotion_last_5years'], row['Department'],row['salary'], row['Status']) \r\n",
                "conn_str.commit()\r\n",
                "cursor.close()\r\n",
                "conn_str.close()"
            ],
            "metadata": {
                "azdata_cell_guid": "c2d462cd-7c78-4125-a8a1-30149337ad45",
                "tags": []
            },
            "outputs": [],
            "execution_count": 24
        }
    ]
}