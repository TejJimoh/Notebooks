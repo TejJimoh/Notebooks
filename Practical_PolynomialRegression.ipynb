{
    "metadata": {
        "kernelspec": {
            "name": "python3",
            "display_name": "Python 3"
        },
        "language_info": {
            "name": "python",
            "version": "3.6.6",
            "mimetype": "text/x-python",
            "codemirror_mode": {
                "name": "ipython",
                "version": 3
            },
            "pygments_lexer": "ipython3",
            "nbconvert_exporter": "python",
            "file_extension": ".py"
        }
    },
    "nbformat_minor": 2,
    "nbformat": 4,
    "cells": [
        {
            "cell_type": "code",
            "source": [
                "# Example 1: This is a basic example of Polynomial Regression\r\n",
                "# If your data points clearly will not fit a linear regression (a straight line through all data points), it might be ideal for polynomial regression.\r\n",
                "# Polynomial regression, like linear regression, uses the relationship between the variables x and y to find the best way to draw a line through the data points.\r\n",
                "\r\n",
                "# In the example below, we have registered 18 cars as they were passing a certain tollbooth.\r\n",
                "# We have registered the car's speed, and the time of day (hour) the passing occurred.\r\n",
                "# The x-axis represents the hours of the day and the y-axis represents the speed:\r\n",
                "\r\n",
                "import numpy as np\r\n",
                "import pandas as pd\r\n",
                "import matplotlib.pyplot as plt\r\n",
                "from sklearn.linear_model import LinearRegression\r\n",
                "from sklearn.preprocessing import PolynomialFeatures\r\n",
                "from sklearn.model_selection import train_test_split\r\n",
                "from sklearn.metrics import mean_squared_error, r2_score\r\n",
                "\r\n",
                "\r\n",
                "\r\n",
                "# good array for linearregression. bad array for polynomialregresssion\r\n",
                "#x = np.array([5,7,8,7,2,17,2,9,4,11,12,9,6])\r\n",
                "#y = np.array([99,86,87,88,111,86,103,87,94,78,77,85,86])\r\n",
                "\r\n",
                "# bad array for linearregression. good array for polynomialregresssion\r\n",
                "x = np.array([1,2,3,5,6,7,8,9,10,12,13,14,15,16,18,19,21,22])\r\n",
                "y = np.array([100,90,80,60,60,55,60,65,70,70,75,76,78,79,90,99,99,100])\r\n",
                "\r\n",
                "x = x.reshape(-1,1)\r\n",
                "y = y.reshape(-1,1)\r\n",
                "\r\n",
                "lr = LinearRegression()\r\n",
                "lr.fit(x,y)\r\n",
                "y_pred = lr.predict(x)\r\n",
                "plt.scatter(x,y)\r\n",
                "plt.plot(x,y_pred)\r\n",
                "print(r2_score(y,y_pred))\r\n",
                "\r\n",
                "# Now let's use Polynomial regression to test x and y\r\n",
                "\r\n",
                "poynom  = PolynomialFeatures(degree = 3)\r\n",
                "x_polynom = poynom.fit_transform(x) # only takes x as an argument\r\n",
                "x_polynom\r\n",
                "\r\n",
                "lrPoly = LinearRegression()\r\n",
                "lrPoly.fit(x_polynom,y) # fit takes fit_transform x and y as an argument\r\n",
                "y_pred1 = lrPoly.predict(x_polynom)\r\n",
                "plt.scatter(x,y)\r\n",
                "plt.plot(x,y_pred1)\r\n",
                "print(r2_score(y,y_pred1))\r\n",
                "\r\n",
                "\r\n",
                "\r\n",
                "\r\n",
                "\r\n",
                "\r\n",
                "\r\n",
                "\r\n",
                ""
            ],
            "metadata": {
                "azdata_cell_guid": "c2f09a00-1f3e-4025-be7a-fd67465bc7d1"
            },
            "outputs": [
                {
                    "name": "stdout",
                    "text": "0.18231625879420676\n0.9432150416451026\n",
                    "output_type": "stream"
                },
                {
                    "data": {
                        "text/plain": "<Figure size 432x288 with 1 Axes>",
                        "image/png": "[encoded data removed]"
                    },
                    "metadata": {
                        "needs_background": "light"
                    },
                    "output_type": "display_data"
                }
            ],
            "execution_count": 745
        },
        {
            "cell_type": "code",
            "source": [
                "# Example 2 : This is a practical more advance Polynonial Regression. We have a table namely [Tutorial].[dbo].[TimeSpeedActual] in SQL Server.\r\n",
                "# In the example below, we have registered 5 different type of automomobile as they were passing a certain tollbooth.\r\n",
                "# We have registered the automobile speed,type of automobile and the time of day (hour) the passing occurred.\r\n",
                "# The x-axis represents the type of automobile and hours of the day and the y-axis represents the speed:\r\n",
                "# The type of automobiles are: Heavy Truck cc500  ,Light Truck cc350 ,Light car cc180 , Medium Car cc220 and Super Car  cc350  \r\n",
                "\r\n",
                "import numpy as np\r\n",
                "import pandas as pd\r\n",
                "import matplotlib.pyplot as plt\r\n",
                "from sklearn.metrics import mean_squared_error, r2_score\r\n",
                "import pyodbc\r\n",
                "from sklearn.linear_model import LinearRegression\r\n",
                "from sklearn.preprocessing import PolynomialFeatures\r\n",
                "from sklearn.model_selection import train_test_split\r\n",
                "\r\n",
                "\r\n",
                "# Step 1: get your data from SQL Server and assign it to a pandas variable\r\n",
                "conn_str = pyodbc.connect('Driver={SQL Server};' 'Server=LAPTOP-CHKIB79A;''Database=Tutorial;''Trusted_Connection=yes;')\r\n",
                "\r\n",
                "# ORDER BY clause is important here bcos we have to make sure that dummies variables are in the same order in prediction and actual table after using get_dummies.\r\n",
                "query_str = \"SELECT * FROM [Tutorial].[dbo].[TimeSpeedActual] ORDER BY AutomobileType\" \r\n",
                "df = pd.read_sql(sql=query_str, con=conn_str)\r\n",
                "df\r\n",
                "\r\n",
                "\r\n",
                ""
            ],
            "metadata": {
                "azdata_cell_guid": "0103ca86-7b8e-49fb-92ac-1b262c51ced1"
            },
            "outputs": [
                {
                    "data": {
                        "text/plain": "               AutomobileType  Time_of_Day  AverageSpeed\n0   Heavy Truck cc500                    1            88\n1   Heavy Truck cc500                    2            78\n2   Heavy Truck cc500                    3            68\n3   Heavy Truck cc500                    5            48\n4   Heavy Truck cc500                    6            48\n..                        ...          ...           ...\n85  Super Car  cc350                    16            86\n86  Super Car  cc350                    18            97\n87  Super Car  cc350                    19           106\n88  Super Car  cc350                    21           106\n89  Super Car  cc350                    22           107\n\n[90 rows x 3 columns]",
                        "text/html": "<div>\n<style scoped>\n    .dataframe tbody tr th:only-of-type {\n        vertical-align: middle;\n    }\n\n    .dataframe tbody tr th {\n        vertical-align: top;\n    }\n\n    .dataframe thead th {\n        text-align: right;\n    }\n</style>\n<table border=\"1\" class=\"dataframe\">\n  <thead>\n    <tr style=\"text-align: right;\">\n      <th></th>\n      <th>AutomobileType</th>\n      <th>Time_of_Day</th>\n      <th>AverageSpeed</th>\n    </tr>\n  </thead>\n  <tbody>\n    <tr>\n      <th>0</th>\n      <td>Heavy Truck cc500</td>\n      <td>1</td>\n      <td>88</td>\n    </tr>\n    <tr>\n      <th>1</th>\n      <td>Heavy Truck cc500</td>\n      <td>2</td>\n      <td>78</td>\n    </tr>\n    <tr>\n      <th>2</th>\n      <td>Heavy Truck cc500</td>\n      <td>3</td>\n      <td>68</td>\n    </tr>\n    <tr>\n      <th>3</th>\n      <td>Heavy Truck cc500</td>\n      <td>5</td>\n      <td>48</td>\n    </tr>\n    <tr>\n      <th>4</th>\n      <td>Heavy Truck cc500</td>\n      <td>6</td>\n      <td>48</td>\n    </tr>\n    <tr>\n      <th>...</th>\n      <td>...</td>\n      <td>...</td>\n      <td>...</td>\n    </tr>\n    <tr>\n      <th>85</th>\n      <td>Super Car  cc350</td>\n      <td>16</td>\n      <td>86</td>\n    </tr>\n    <tr>\n      <th>86</th>\n      <td>Super Car  cc350</td>\n      <td>18</td>\n      <td>97</td>\n    </tr>\n    <tr>\n      <th>87</th>\n      <td>Super Car  cc350</td>\n      <td>19</td>\n      <td>106</td>\n    </tr>\n    <tr>\n      <th>88</th>\n      <td>Super Car  cc350</td>\n      <td>21</td>\n      <td>106</td>\n    </tr>\n    <tr>\n      <th>89</th>\n      <td>Super Car  cc350</td>\n      <td>22</td>\n      <td>107</td>\n    </tr>\n  </tbody>\n</table>\n<p>90 rows × 3 columns</p>\n</div>"
                    },
                    "metadata": {},
                    "execution_count": 746,
                    "output_type": "execute_result"
                }
            ],
            "execution_count": 746
        },
        {
            "cell_type": "code",
            "source": [
                "# Step 2: Let's use Dummy Variables get_dummies function to turn AutomobileType rows to integer columns and also change columns name using columns function.\r\n",
                "dummies = pd.get_dummies(df.AutomobileType)\r\n",
                "dummies.columns = ['HeavyTruck_cc500', 'LightTruck_cc350','LightCar_cc180', 'MediumCar_cc220' , 'SuperCar_cc350']  \r\n",
                "dummies                                                           "
            ],
            "metadata": {
                "azdata_cell_guid": "40385c40-1317-4d60-8c05-7fdd82e2531d",
                "tags": []
            },
            "outputs": [
                {
                    "data": {
                        "text/plain": "    HeavyTruck_cc500  LightTruck_cc350  LightCar_cc180  MediumCar_cc220  \\\n0                  1                 0               0                0   \n1                  1                 0               0                0   \n2                  1                 0               0                0   \n3                  1                 0               0                0   \n4                  1                 0               0                0   \n..               ...               ...             ...              ...   \n85                 0                 0               0                0   \n86                 0                 0               0                0   \n87                 0                 0               0                0   \n88                 0                 0               0                0   \n89                 0                 0               0                0   \n\n    SuperCar_cc350  \n0                0  \n1                0  \n2                0  \n3                0  \n4                0  \n..             ...  \n85               1  \n86               1  \n87               1  \n88               1  \n89               1  \n\n[90 rows x 5 columns]",
                        "text/html": "<div>\n<style scoped>\n    .dataframe tbody tr th:only-of-type {\n        vertical-align: middle;\n    }\n\n    .dataframe tbody tr th {\n        vertical-align: top;\n    }\n\n    .dataframe thead th {\n        text-align: right;\n    }\n</style>\n<table border=\"1\" class=\"dataframe\">\n  <thead>\n    <tr style=\"text-align: right;\">\n      <th></th>\n      <th>HeavyTruck_cc500</th>\n      <th>LightTruck_cc350</th>\n      <th>LightCar_cc180</th>\n      <th>MediumCar_cc220</th>\n      <th>SuperCar_cc350</th>\n    </tr>\n  </thead>\n  <tbody>\n    <tr>\n      <th>0</th>\n      <td>1</td>\n      <td>0</td>\n      <td>0</td>\n      <td>0</td>\n      <td>0</td>\n    </tr>\n    <tr>\n      <th>1</th>\n      <td>1</td>\n      <td>0</td>\n      <td>0</td>\n      <td>0</td>\n      <td>0</td>\n    </tr>\n    <tr>\n      <th>2</th>\n      <td>1</td>\n      <td>0</td>\n      <td>0</td>\n      <td>0</td>\n      <td>0</td>\n    </tr>\n    <tr>\n      <th>3</th>\n      <td>1</td>\n      <td>0</td>\n      <td>0</td>\n      <td>0</td>\n      <td>0</td>\n    </tr>\n    <tr>\n      <th>4</th>\n      <td>1</td>\n      <td>0</td>\n      <td>0</td>\n      <td>0</td>\n      <td>0</td>\n    </tr>\n    <tr>\n      <th>...</th>\n      <td>...</td>\n      <td>...</td>\n      <td>...</td>\n      <td>...</td>\n      <td>...</td>\n    </tr>\n    <tr>\n      <th>85</th>\n      <td>0</td>\n      <td>0</td>\n      <td>0</td>\n      <td>0</td>\n      <td>1</td>\n    </tr>\n    <tr>\n      <th>86</th>\n      <td>0</td>\n      <td>0</td>\n      <td>0</td>\n      <td>0</td>\n      <td>1</td>\n    </tr>\n    <tr>\n      <th>87</th>\n      <td>0</td>\n      <td>0</td>\n      <td>0</td>\n      <td>0</td>\n      <td>1</td>\n    </tr>\n    <tr>\n      <th>88</th>\n      <td>0</td>\n      <td>0</td>\n      <td>0</td>\n      <td>0</td>\n      <td>1</td>\n    </tr>\n    <tr>\n      <th>89</th>\n      <td>0</td>\n      <td>0</td>\n      <td>0</td>\n      <td>0</td>\n      <td>1</td>\n    </tr>\n  </tbody>\n</table>\n<p>90 rows × 5 columns</p>\n</div>"
                    },
                    "metadata": {},
                    "execution_count": 747,
                    "output_type": "execute_result"
                }
            ],
            "execution_count": 747
        },
        {
            "cell_type": "code",
            "source": [
                "# Now, let's merge our dummies variables with df using concac function of pandas library.\r\n",
                "merge = pd.concat([df,dummies], axis = 'columns')\r\n",
                "merge"
            ],
            "metadata": {
                "azdata_cell_guid": "daaa758d-23ee-4a2d-a7e0-cdd741911f7e",
                "tags": []
            },
            "outputs": [
                {
                    "data": {
                        "text/plain": "               AutomobileType  Time_of_Day  AverageSpeed  HeavyTruck_cc500  \\\n0   Heavy Truck cc500                    1            88                 1   \n1   Heavy Truck cc500                    2            78                 1   \n2   Heavy Truck cc500                    3            68                 1   \n3   Heavy Truck cc500                    5            48                 1   \n4   Heavy Truck cc500                    6            48                 1   \n..                        ...          ...           ...               ...   \n85  Super Car  cc350                    16            86                 0   \n86  Super Car  cc350                    18            97                 0   \n87  Super Car  cc350                    19           106                 0   \n88  Super Car  cc350                    21           106                 0   \n89  Super Car  cc350                    22           107                 0   \n\n    LightTruck_cc350  LightCar_cc180  MediumCar_cc220  SuperCar_cc350  \n0                  0               0                0               0  \n1                  0               0                0               0  \n2                  0               0                0               0  \n3                  0               0                0               0  \n4                  0               0                0               0  \n..               ...             ...              ...             ...  \n85                 0               0                0               1  \n86                 0               0                0               1  \n87                 0               0                0               1  \n88                 0               0                0               1  \n89                 0               0                0               1  \n\n[90 rows x 8 columns]",
                        "text/html": "<div>\n<style scoped>\n    .dataframe tbody tr th:only-of-type {\n        vertical-align: middle;\n    }\n\n    .dataframe tbody tr th {\n        vertical-align: top;\n    }\n\n    .dataframe thead th {\n        text-align: right;\n    }\n</style>\n<table border=\"1\" class=\"dataframe\">\n  <thead>\n    <tr style=\"text-align: right;\">\n      <th></th>\n      <th>AutomobileType</th>\n      <th>Time_of_Day</th>\n      <th>AverageSpeed</th>\n      <th>HeavyTruck_cc500</th>\n      <th>LightTruck_cc350</th>\n      <th>LightCar_cc180</th>\n      <th>MediumCar_cc220</th>\n      <th>SuperCar_cc350</th>\n    </tr>\n  </thead>\n  <tbody>\n    <tr>\n      <th>0</th>\n      <td>Heavy Truck cc500</td>\n      <td>1</td>\n      <td>88</td>\n      <td>1</td>\n      <td>0</td>\n      <td>0</td>\n      <td>0</td>\n      <td>0</td>\n    </tr>\n    <tr>\n      <th>1</th>\n      <td>Heavy Truck cc500</td>\n      <td>2</td>\n      <td>78</td>\n      <td>1</td>\n      <td>0</td>\n      <td>0</td>\n      <td>0</td>\n      <td>0</td>\n    </tr>\n    <tr>\n      <th>2</th>\n      <td>Heavy Truck cc500</td>\n      <td>3</td>\n      <td>68</td>\n      <td>1</td>\n      <td>0</td>\n      <td>0</td>\n      <td>0</td>\n      <td>0</td>\n    </tr>\n    <tr>\n      <th>3</th>\n      <td>Heavy Truck cc500</td>\n      <td>5</td>\n      <td>48</td>\n      <td>1</td>\n      <td>0</td>\n      <td>0</td>\n      <td>0</td>\n      <td>0</td>\n    </tr>\n    <tr>\n      <th>4</th>\n      <td>Heavy Truck cc500</td>\n      <td>6</td>\n      <td>48</td>\n      <td>1</td>\n      <td>0</td>\n      <td>0</td>\n      <td>0</td>\n      <td>0</td>\n    </tr>\n    <tr>\n      <th>...</th>\n      <td>...</td>\n      <td>...</td>\n      <td>...</td>\n      <td>...</td>\n      <td>...</td>\n      <td>...</td>\n      <td>...</td>\n      <td>...</td>\n    </tr>\n    <tr>\n      <th>85</th>\n      <td>Super Car  cc350</td>\n      <td>16</td>\n      <td>86</td>\n      <td>0</td>\n      <td>0</td>\n      <td>0</td>\n      <td>0</td>\n      <td>1</td>\n    </tr>\n    <tr>\n      <th>86</th>\n      <td>Super Car  cc350</td>\n      <td>18</td>\n      <td>97</td>\n      <td>0</td>\n      <td>0</td>\n      <td>0</td>\n      <td>0</td>\n      <td>1</td>\n    </tr>\n    <tr>\n      <th>87</th>\n      <td>Super Car  cc350</td>\n      <td>19</td>\n      <td>106</td>\n      <td>0</td>\n      <td>0</td>\n      <td>0</td>\n      <td>0</td>\n      <td>1</td>\n    </tr>\n    <tr>\n      <th>88</th>\n      <td>Super Car  cc350</td>\n      <td>21</td>\n      <td>106</td>\n      <td>0</td>\n      <td>0</td>\n      <td>0</td>\n      <td>0</td>\n      <td>1</td>\n    </tr>\n    <tr>\n      <th>89</th>\n      <td>Super Car  cc350</td>\n      <td>22</td>\n      <td>107</td>\n      <td>0</td>\n      <td>0</td>\n      <td>0</td>\n      <td>0</td>\n      <td>1</td>\n    </tr>\n  </tbody>\n</table>\n<p>90 rows × 8 columns</p>\n</div>"
                    },
                    "metadata": {},
                    "execution_count": 748,
                    "output_type": "execute_result"
                }
            ],
            "execution_count": 748
        },
        {
            "cell_type": "code",
            "source": [
                "# Now the next step is to always drop 2 columns. The first one is your textual column(s) and the second one is that by rule of thumb, you must drop\r\n",
                "# one of the dummy variable column. \r\n",
                "final = merge.drop(['AutomobileType','HeavyTruck_cc500'], axis = 'columns')\r\n",
                "final"
            ],
            "metadata": {
                "azdata_cell_guid": "5eeeb27c-3533-413d-b815-48da0f5fa63d",
                "tags": []
            },
            "outputs": [
                {
                    "data": {
                        "text/plain": "    Time_of_Day  AverageSpeed  LightTruck_cc350  LightCar_cc180  \\\n0             1            88                 0               0   \n1             2            78                 0               0   \n2             3            68                 0               0   \n3             5            48                 0               0   \n4             6            48                 0               0   \n..          ...           ...               ...             ...   \n85           16            86                 0               0   \n86           18            97                 0               0   \n87           19           106                 0               0   \n88           21           106                 0               0   \n89           22           107                 0               0   \n\n    MediumCar_cc220  SuperCar_cc350  \n0                 0               0  \n1                 0               0  \n2                 0               0  \n3                 0               0  \n4                 0               0  \n..              ...             ...  \n85                0               1  \n86                0               1  \n87                0               1  \n88                0               1  \n89                0               1  \n\n[90 rows x 6 columns]",
                        "text/html": "<div>\n<style scoped>\n    .dataframe tbody tr th:only-of-type {\n        vertical-align: middle;\n    }\n\n    .dataframe tbody tr th {\n        vertical-align: top;\n    }\n\n    .dataframe thead th {\n        text-align: right;\n    }\n</style>\n<table border=\"1\" class=\"dataframe\">\n  <thead>\n    <tr style=\"text-align: right;\">\n      <th></th>\n      <th>Time_of_Day</th>\n      <th>AverageSpeed</th>\n      <th>LightTruck_cc350</th>\n      <th>LightCar_cc180</th>\n      <th>MediumCar_cc220</th>\n      <th>SuperCar_cc350</th>\n    </tr>\n  </thead>\n  <tbody>\n    <tr>\n      <th>0</th>\n      <td>1</td>\n      <td>88</td>\n      <td>0</td>\n      <td>0</td>\n      <td>0</td>\n      <td>0</td>\n    </tr>\n    <tr>\n      <th>1</th>\n      <td>2</td>\n      <td>78</td>\n      <td>0</td>\n      <td>0</td>\n      <td>0</td>\n      <td>0</td>\n    </tr>\n    <tr>\n      <th>2</th>\n      <td>3</td>\n      <td>68</td>\n      <td>0</td>\n      <td>0</td>\n      <td>0</td>\n      <td>0</td>\n    </tr>\n    <tr>\n      <th>3</th>\n      <td>5</td>\n      <td>48</td>\n      <td>0</td>\n      <td>0</td>\n      <td>0</td>\n      <td>0</td>\n    </tr>\n    <tr>\n      <th>4</th>\n      <td>6</td>\n      <td>48</td>\n      <td>0</td>\n      <td>0</td>\n      <td>0</td>\n      <td>0</td>\n    </tr>\n    <tr>\n      <th>...</th>\n      <td>...</td>\n      <td>...</td>\n      <td>...</td>\n      <td>...</td>\n      <td>...</td>\n      <td>...</td>\n    </tr>\n    <tr>\n      <th>85</th>\n      <td>16</td>\n      <td>86</td>\n      <td>0</td>\n      <td>0</td>\n      <td>0</td>\n      <td>1</td>\n    </tr>\n    <tr>\n      <th>86</th>\n      <td>18</td>\n      <td>97</td>\n      <td>0</td>\n      <td>0</td>\n      <td>0</td>\n      <td>1</td>\n    </tr>\n    <tr>\n      <th>87</th>\n      <td>19</td>\n      <td>106</td>\n      <td>0</td>\n      <td>0</td>\n      <td>0</td>\n      <td>1</td>\n    </tr>\n    <tr>\n      <th>88</th>\n      <td>21</td>\n      <td>106</td>\n      <td>0</td>\n      <td>0</td>\n      <td>0</td>\n      <td>1</td>\n    </tr>\n    <tr>\n      <th>89</th>\n      <td>22</td>\n      <td>107</td>\n      <td>0</td>\n      <td>0</td>\n      <td>0</td>\n      <td>1</td>\n    </tr>\n  </tbody>\n</table>\n<p>90 rows × 6 columns</p>\n</div>"
                    },
                    "metadata": {},
                    "execution_count": 749,
                    "output_type": "execute_result"
                }
            ],
            "execution_count": 749
        },
        {
            "cell_type": "code",
            "source": [
                "# Now, let's get all the independent variable x by simply droping depenedent variable y namely AverageSpeed\r\n",
                "# x = np.array(final.drop(['AverageSpeed'], axis = 'columns'))\r\n",
                "x = final.drop(['AverageSpeed'], axis = 'columns')\r\n",
                "# x = x.values\r\n",
                "x\r\n",
                "\r\n",
                ""
            ],
            "metadata": {
                "azdata_cell_guid": "7e182706-bbd7-42fb-91c5-1f70df8fe537"
            },
            "outputs": [
                {
                    "data": {
                        "text/plain": "    Time_of_Day  LightTruck_cc350  LightCar_cc180  MediumCar_cc220  \\\n0             1                 0               0                0   \n1             2                 0               0                0   \n2             3                 0               0                0   \n3             5                 0               0                0   \n4             6                 0               0                0   \n..          ...               ...             ...              ...   \n85           16                 0               0                0   \n86           18                 0               0                0   \n87           19                 0               0                0   \n88           21                 0               0                0   \n89           22                 0               0                0   \n\n    SuperCar_cc350  \n0                0  \n1                0  \n2                0  \n3                0  \n4                0  \n..             ...  \n85               1  \n86               1  \n87               1  \n88               1  \n89               1  \n\n[90 rows x 5 columns]",
                        "text/html": "<div>\n<style scoped>\n    .dataframe tbody tr th:only-of-type {\n        vertical-align: middle;\n    }\n\n    .dataframe tbody tr th {\n        vertical-align: top;\n    }\n\n    .dataframe thead th {\n        text-align: right;\n    }\n</style>\n<table border=\"1\" class=\"dataframe\">\n  <thead>\n    <tr style=\"text-align: right;\">\n      <th></th>\n      <th>Time_of_Day</th>\n      <th>LightTruck_cc350</th>\n      <th>LightCar_cc180</th>\n      <th>MediumCar_cc220</th>\n      <th>SuperCar_cc350</th>\n    </tr>\n  </thead>\n  <tbody>\n    <tr>\n      <th>0</th>\n      <td>1</td>\n      <td>0</td>\n      <td>0</td>\n      <td>0</td>\n      <td>0</td>\n    </tr>\n    <tr>\n      <th>1</th>\n      <td>2</td>\n      <td>0</td>\n      <td>0</td>\n      <td>0</td>\n      <td>0</td>\n    </tr>\n    <tr>\n      <th>2</th>\n      <td>3</td>\n      <td>0</td>\n      <td>0</td>\n      <td>0</td>\n      <td>0</td>\n    </tr>\n    <tr>\n      <th>3</th>\n      <td>5</td>\n      <td>0</td>\n      <td>0</td>\n      <td>0</td>\n      <td>0</td>\n    </tr>\n    <tr>\n      <th>4</th>\n      <td>6</td>\n      <td>0</td>\n      <td>0</td>\n      <td>0</td>\n      <td>0</td>\n    </tr>\n    <tr>\n      <th>...</th>\n      <td>...</td>\n      <td>...</td>\n      <td>...</td>\n      <td>...</td>\n      <td>...</td>\n    </tr>\n    <tr>\n      <th>85</th>\n      <td>16</td>\n      <td>0</td>\n      <td>0</td>\n      <td>0</td>\n      <td>1</td>\n    </tr>\n    <tr>\n      <th>86</th>\n      <td>18</td>\n      <td>0</td>\n      <td>0</td>\n      <td>0</td>\n      <td>1</td>\n    </tr>\n    <tr>\n      <th>87</th>\n      <td>19</td>\n      <td>0</td>\n      <td>0</td>\n      <td>0</td>\n      <td>1</td>\n    </tr>\n    <tr>\n      <th>88</th>\n      <td>21</td>\n      <td>0</td>\n      <td>0</td>\n      <td>0</td>\n      <td>1</td>\n    </tr>\n    <tr>\n      <th>89</th>\n      <td>22</td>\n      <td>0</td>\n      <td>0</td>\n      <td>0</td>\n      <td>1</td>\n    </tr>\n  </tbody>\n</table>\n<p>90 rows × 5 columns</p>\n</div>"
                    },
                    "metadata": {},
                    "execution_count": 750,
                    "output_type": "execute_result"
                }
            ],
            "execution_count": 750
        },
        {
            "cell_type": "code",
            "source": [
                "# Let's get our dependent variable y\r\n",
                "y = final.AverageSpeed\r\n",
                "#y = y.values\r\n",
                "y"
            ],
            "metadata": {
                "azdata_cell_guid": "638bea60-5c9c-4552-ab46-8fcf889a4080"
            },
            "outputs": [
                {
                    "data": {
                        "text/plain": "0      88\n1      78\n2      68\n3      48\n4      48\n     ... \n85     86\n86     97\n87    106\n88    106\n89    107\nName: AverageSpeed, Length: 90, dtype: int64"
                    },
                    "metadata": {},
                    "execution_count": 751,
                    "output_type": "execute_result"
                }
            ],
            "execution_count": 751
        },
        {
            "cell_type": "code",
            "source": [
                "# Let's try Linear regression\r\n",
                "#  fit your model to use available datasets.\r\n",
                "x_train, x_test, y_train, y_test = train_test_split(x, y, test_size=0.3, random_state=0)\r\n",
                "lr1 = LinearRegression() # get linear regression object\r\n",
                "#lr1.fit(x_train[['Time_of_Day','LightTruck_cc350','LightCar_cc180', 'MediumCar_cc220' , 'SuperCar_cc350']],y_train) # fit your linear regression model. Note that your independent first argument is a 2d array\r\n",
                "lr1.fit(x_train,y_train) # fit your linear regression model. \r\n",
                "\r\n",
                "# Step 4 : let's get the predicted salary. Pass in your x variable to a predict function to get y. Note that predict takes 2d array\r\n",
                "#predicted_speed = lr1.predict(x_train[['Time_of_Day','LightTruck_cc350','LightCar_cc180', 'MediumCar_cc220' , 'SuperCar_cc350']])\r\n",
                "predicted_speed = lr1.predict(x_train)\r\n",
                "gradient = lr1.coef_ # this gives you the gradient or slope\r\n",
                "intercept = lr1.intercept_ # this gives you the intercept on the y axix.\r\n",
                "r2 = r2_score(y_train,predicted_speed)\r\n",
                "print(\"The r2 score is : \", r2)\r\n",
                "\r\n",
                "print(\"Predicted speeds are : \",predicted_speed)\r\n",
                "\r\n",
                "# Let's predict with linear progression : the result is quite poor with linear regression\r\n",
                "p = lr1.predict([[23,0,0,0,0]])\r\n",
                "print(\"Speed at 23:00 for HeavyTruck_cc500 is :\",p)\r\n",
                "\r\n",
                "# We can see from the scatered graph below that the shape is u or v. This explains why r2_score using linear regression is quite poor. \r\n",
                "# This shape will be perfect for polynomial regression.\r\n",
                "plt.scatter(x_train.Time_of_Day,y_train)\r\n",
                ""
            ],
            "metadata": {
                "azdata_cell_guid": "16d49411-6aaa-488f-a2d9-234705b55030"
            },
            "outputs": [
                {
                    "name": "stdout",
                    "text": "The r2 score is :  0.3134419359613836\nPredicted speeds are :  [83.77666992 87.53704604 61.61942015 77.68131424 80.0162938  78.86317095\n 68.52213662 78.39402289 79.33411692 78.13610574 74.86103215 70.160562\n 62.55951418 74.78073657 77.60101866 67.11289453 64.29261244 63.49960821\n 86.59695201 85.20206648 57.85904403 87.32401722 79.80326498 70.08026642\n 88.26411125 74.1627008  81.21430498 69.14017239 82.62354707 75.80112618\n 72.98084409 88.96244259 58.79913806 84.50373513 80.95638783 73.84064254\n 90.35732813 69.46223065 80.74335901 76.51383483 93.17761022 95.05779828\n 86.14216051 70.40232468 89.4172341  76.25591768 76.04288886 63.35251841\n 73.69355274 66.1728005  81.44169036 73.92093812 71.02036045 88.02234856\n 62.41242438 72.28251274 88.47714007 68.20007836 92.23751619 83.32187842\n 80.50159633 74.63364677 70.87327065]\nSpeed at 23:00 for HeavyTruck_cc500 is : [78.54111269]\n",
                    "output_type": "stream"
                },
                {
                    "data": {
                        "text/plain": "<matplotlib.collections.PathCollection at 0x1979ce94c18>"
                    },
                    "metadata": {},
                    "execution_count": 752,
                    "output_type": "execute_result"
                },
                {
                    "data": {
                        "text/plain": "<Figure size 432x288 with 1 Axes>",
                        "image/png": "[encoded data removed]"
                    },
                    "metadata": {
                        "needs_background": "light"
                    },
                    "output_type": "display_data"
                }
            ],
            "execution_count": 752
        },
        {
            "cell_type": "code",
            "source": [
                "# Add the polynomial term to the equation/model\r\n",
                "# get PolynomialFeatures function and pass in degree. The default is 2 but this can be increase or decrease. By increasing degree, you might end up over-fitting\r\n",
                "# your model. This means the actual values and predicted values is almost the same. On the other hand, if you use a very low number for degree, you might end up\r\n",
                "# under-fitting your model. This means, the difference between predicted values and actual values will be large.\r\n",
                "polynom  = PolynomialFeatures(degree = 4)\r\n",
                "x_polynom = polynom.fit_transform(x_train) # only takes x as an argument\r\n",
                "\r\n",
                "polynom.fit(x_polynom,y_train)\r\n",
                "\r\n",
                "LinReg = LinearRegression()\r\n",
                "LinReg.fit(x_polynom,y_train)\r\n",
                "\r\n",
                "\r\n",
                "\r\n",
                ""
            ],
            "metadata": {
                "azdata_cell_guid": "df44033c-9be7-4f0c-b114-ce9d9084efa7",
                "tags": []
            },
            "outputs": [
                {
                    "data": {
                        "text/plain": "LinearRegression()"
                    },
                    "metadata": {},
                    "execution_count": 753,
                    "output_type": "execute_result"
                }
            ],
            "execution_count": 753
        },
        {
            "cell_type": "code",
            "source": [
                "y_predict = LinReg.predict(x_polynom)\r\n",
                "\r\n",
                "\r\n",
                "print(\"Speed at 23:00 for HeavyTruck_cc500 is :\",LinReg.predict(polynom.fit_transform([[23,0,0,0,0]]) ))\r\n",
                "\r\n",
                "r2 = r2_score(y_train,y_predict) # Note that polynomial gives a very good r2_score compared to linear regression above\r\n",
                "print(\"The r2 score is : \", r2)\r\n",
                "print(\"Predicted speed using polynomial regresiion are :\", y_predict)"
            ],
            "metadata": {
                "azdata_cell_guid": "e84f26c8-a05f-4536-9f81-ac5e62c8257a"
            },
            "outputs": [
                {
                    "name": "stdout",
                    "text": "Speed at 23:00 for HeavyTruck_cc500 is : [92.15512739]\nThe r2 score is :  0.9672720613003991\nPredicted speed using polynomial regresiion are : [ 68.72554585  79.99825179  48.98476387  65.27180271  71.04020504\n  67.37946922 100.38068151  80.53265753  83.74982615  83.42348472\n  60.59063311  90.5092176   45.93551968  82.11229221  89.56937941\n  51.84591867  67.13550833  44.89696786  76.68344327  93.03898171\n  90.55563955  95.62748032  70.80432117  65.25567704  98.79494865\n  57.23444304  90.6501414   61.25065464  80.95512726  61.02973218\n  64.84734375 103.1679753   74.73626938  87.03207355  68.21341666\n  79.29989804  90.2660525   85.61514418  74.27272207  74.06679821\n 100.49543306 108.08773207  95.75242623  74.53341944  86.85203172\n 107.7619532   58.98589764  77.6729688   63.92313026  54.66692277\n  79.65912512  61.73258535  69.14159891 100.70178589  91.73503964\n  61.38427194  83.4148643   57.2613394   97.03758582  86.84048429\n  75.85790675  67.33363074  54.6874575 ]\n",
                    "output_type": "stream"
                }
            ],
            "execution_count": 754
        },
        {
            "cell_type": "code",
            "source": [
                "# let's get the sql table and predict any of our automobiles speed for the independent variables\r\n",
                "# get your data and assign it to a pandas variable myvars\r\n",
                "\r\n",
                "#Step 1\r\n",
                "conn_str = pyodbc.connect('Driver={SQL Server};' 'Server=LAPTOP-CHKIB79A;''Database=Tutorial;''Trusted_Connection=yes;')\r\n",
                "myquery_str1 = \"SELECT [AutomobileType],[Time_of_Day],[AverageSpeed] FROM [Tutorial].[dbo].[TimeSpeedPrediction] ORDER BY [AutomobileType]\"\r\n",
                "myvars1 = pd.read_sql(sql=myquery_str1, con=conn_str)\r\n",
                "myvars1.head()"
            ],
            "metadata": {
                "azdata_cell_guid": "0cc03b2b-69be-4847-8f63-ec9cbc2b6b67"
            },
            "outputs": [
                {
                    "data": {
                        "text/plain": "              AutomobileType  Time_of_Day AverageSpeed\n0  Heavy Truck cc500                    0         None\n1  Heavy Truck cc500                    4         None\n2  Heavy Truck cc500                   11         None\n3  Heavy Truck cc500                   17         None\n4  Heavy Truck cc500                   20         None",
                        "text/html": "<div>\n<style scoped>\n    .dataframe tbody tr th:only-of-type {\n        vertical-align: middle;\n    }\n\n    .dataframe tbody tr th {\n        vertical-align: top;\n    }\n\n    .dataframe thead th {\n        text-align: right;\n    }\n</style>\n<table border=\"1\" class=\"dataframe\">\n  <thead>\n    <tr style=\"text-align: right;\">\n      <th></th>\n      <th>AutomobileType</th>\n      <th>Time_of_Day</th>\n      <th>AverageSpeed</th>\n    </tr>\n  </thead>\n  <tbody>\n    <tr>\n      <th>0</th>\n      <td>Heavy Truck cc500</td>\n      <td>0</td>\n      <td>None</td>\n    </tr>\n    <tr>\n      <th>1</th>\n      <td>Heavy Truck cc500</td>\n      <td>4</td>\n      <td>None</td>\n    </tr>\n    <tr>\n      <th>2</th>\n      <td>Heavy Truck cc500</td>\n      <td>11</td>\n      <td>None</td>\n    </tr>\n    <tr>\n      <th>3</th>\n      <td>Heavy Truck cc500</td>\n      <td>17</td>\n      <td>None</td>\n    </tr>\n    <tr>\n      <th>4</th>\n      <td>Heavy Truck cc500</td>\n      <td>20</td>\n      <td>None</td>\n    </tr>\n  </tbody>\n</table>\n</div>"
                    },
                    "metadata": {},
                    "execution_count": 755,
                    "output_type": "execute_result"
                }
            ],
            "execution_count": 755
        },
        {
            "cell_type": "code",
            "source": [
                "# Step 2: Let's use Dummy Variables get_dummies function to turn AutomobileType rows to integer columns and also change columns name using columns function.\r\n",
                "dummies1 = pd.get_dummies(myvars1.AutomobileType)\r\n",
                "dummies1.columns = ['HeavyTruck_cc500', 'LightTruck_cc350','LightCar_cc180', 'MediumCar_cc220' , 'SuperCar_cc350']  \r\n",
                "dummies1.head() \r\n",
                ""
            ],
            "metadata": {
                "azdata_cell_guid": "97aec561-45a0-4012-963b-8f37e18a956d"
            },
            "outputs": [
                {
                    "data": {
                        "text/plain": "   HeavyTruck_cc500  LightTruck_cc350  LightCar_cc180  MediumCar_cc220  \\\n0                 1                 0               0                0   \n1                 1                 0               0                0   \n2                 1                 0               0                0   \n3                 1                 0               0                0   \n4                 1                 0               0                0   \n\n   SuperCar_cc350  \n0               0  \n1               0  \n2               0  \n3               0  \n4               0  ",
                        "text/html": "<div>\n<style scoped>\n    .dataframe tbody tr th:only-of-type {\n        vertical-align: middle;\n    }\n\n    .dataframe tbody tr th {\n        vertical-align: top;\n    }\n\n    .dataframe thead th {\n        text-align: right;\n    }\n</style>\n<table border=\"1\" class=\"dataframe\">\n  <thead>\n    <tr style=\"text-align: right;\">\n      <th></th>\n      <th>HeavyTruck_cc500</th>\n      <th>LightTruck_cc350</th>\n      <th>LightCar_cc180</th>\n      <th>MediumCar_cc220</th>\n      <th>SuperCar_cc350</th>\n    </tr>\n  </thead>\n  <tbody>\n    <tr>\n      <th>0</th>\n      <td>1</td>\n      <td>0</td>\n      <td>0</td>\n      <td>0</td>\n      <td>0</td>\n    </tr>\n    <tr>\n      <th>1</th>\n      <td>1</td>\n      <td>0</td>\n      <td>0</td>\n      <td>0</td>\n      <td>0</td>\n    </tr>\n    <tr>\n      <th>2</th>\n      <td>1</td>\n      <td>0</td>\n      <td>0</td>\n      <td>0</td>\n      <td>0</td>\n    </tr>\n    <tr>\n      <th>3</th>\n      <td>1</td>\n      <td>0</td>\n      <td>0</td>\n      <td>0</td>\n      <td>0</td>\n    </tr>\n    <tr>\n      <th>4</th>\n      <td>1</td>\n      <td>0</td>\n      <td>0</td>\n      <td>0</td>\n      <td>0</td>\n    </tr>\n  </tbody>\n</table>\n</div>"
                    },
                    "metadata": {},
                    "execution_count": 756,
                    "output_type": "execute_result"
                }
            ],
            "execution_count": 756
        },
        {
            "cell_type": "code",
            "source": [
                "# Now, let's merge our dummies variables with df using concac function of pandas library.\r\n",
                "merge1 = pd.concat([myvars1,dummies1], axis = 'columns')\r\n",
                "merge1.head()"
            ],
            "metadata": {
                "azdata_cell_guid": "044ddb98-a43a-4de5-a424-7ef7f03255ec"
            },
            "outputs": [
                {
                    "data": {
                        "text/plain": "              AutomobileType  Time_of_Day AverageSpeed  HeavyTruck_cc500  \\\n0  Heavy Truck cc500                    0         None                 1   \n1  Heavy Truck cc500                    4         None                 1   \n2  Heavy Truck cc500                   11         None                 1   \n3  Heavy Truck cc500                   17         None                 1   \n4  Heavy Truck cc500                   20         None                 1   \n\n   LightTruck_cc350  LightCar_cc180  MediumCar_cc220  SuperCar_cc350  \n0                 0               0                0               0  \n1                 0               0                0               0  \n2                 0               0                0               0  \n3                 0               0                0               0  \n4                 0               0                0               0  ",
                        "text/html": "<div>\n<style scoped>\n    .dataframe tbody tr th:only-of-type {\n        vertical-align: middle;\n    }\n\n    .dataframe tbody tr th {\n        vertical-align: top;\n    }\n\n    .dataframe thead th {\n        text-align: right;\n    }\n</style>\n<table border=\"1\" class=\"dataframe\">\n  <thead>\n    <tr style=\"text-align: right;\">\n      <th></th>\n      <th>AutomobileType</th>\n      <th>Time_of_Day</th>\n      <th>AverageSpeed</th>\n      <th>HeavyTruck_cc500</th>\n      <th>LightTruck_cc350</th>\n      <th>LightCar_cc180</th>\n      <th>MediumCar_cc220</th>\n      <th>SuperCar_cc350</th>\n    </tr>\n  </thead>\n  <tbody>\n    <tr>\n      <th>0</th>\n      <td>Heavy Truck cc500</td>\n      <td>0</td>\n      <td>None</td>\n      <td>1</td>\n      <td>0</td>\n      <td>0</td>\n      <td>0</td>\n      <td>0</td>\n    </tr>\n    <tr>\n      <th>1</th>\n      <td>Heavy Truck cc500</td>\n      <td>4</td>\n      <td>None</td>\n      <td>1</td>\n      <td>0</td>\n      <td>0</td>\n      <td>0</td>\n      <td>0</td>\n    </tr>\n    <tr>\n      <th>2</th>\n      <td>Heavy Truck cc500</td>\n      <td>11</td>\n      <td>None</td>\n      <td>1</td>\n      <td>0</td>\n      <td>0</td>\n      <td>0</td>\n      <td>0</td>\n    </tr>\n    <tr>\n      <th>3</th>\n      <td>Heavy Truck cc500</td>\n      <td>17</td>\n      <td>None</td>\n      <td>1</td>\n      <td>0</td>\n      <td>0</td>\n      <td>0</td>\n      <td>0</td>\n    </tr>\n    <tr>\n      <th>4</th>\n      <td>Heavy Truck cc500</td>\n      <td>20</td>\n      <td>None</td>\n      <td>1</td>\n      <td>0</td>\n      <td>0</td>\n      <td>0</td>\n      <td>0</td>\n    </tr>\n  </tbody>\n</table>\n</div>"
                    },
                    "metadata": {},
                    "execution_count": 757,
                    "output_type": "execute_result"
                }
            ],
            "execution_count": 757
        },
        {
            "cell_type": "code",
            "source": [
                "# Now the next step is to always drop 2 columns. The first one is your textual column(s) and the second one is that by rule of thumb, you must drop\r\n",
                "# one of the dummy variable column. \r\n",
                "final1 = merge1.drop(['AutomobileType','HeavyTruck_cc500'], axis = 'columns')\r\n",
                "final1.head()"
            ],
            "metadata": {
                "azdata_cell_guid": "c45670bd-899e-4773-85c5-7d3453f90af4"
            },
            "outputs": [
                {
                    "data": {
                        "text/plain": "   Time_of_Day AverageSpeed  LightTruck_cc350  LightCar_cc180  \\\n0            0         None                 0               0   \n1            4         None                 0               0   \n2           11         None                 0               0   \n3           17         None                 0               0   \n4           20         None                 0               0   \n\n   MediumCar_cc220  SuperCar_cc350  \n0                0               0  \n1                0               0  \n2                0               0  \n3                0               0  \n4                0               0  ",
                        "text/html": "<div>\n<style scoped>\n    .dataframe tbody tr th:only-of-type {\n        vertical-align: middle;\n    }\n\n    .dataframe tbody tr th {\n        vertical-align: top;\n    }\n\n    .dataframe thead th {\n        text-align: right;\n    }\n</style>\n<table border=\"1\" class=\"dataframe\">\n  <thead>\n    <tr style=\"text-align: right;\">\n      <th></th>\n      <th>Time_of_Day</th>\n      <th>AverageSpeed</th>\n      <th>LightTruck_cc350</th>\n      <th>LightCar_cc180</th>\n      <th>MediumCar_cc220</th>\n      <th>SuperCar_cc350</th>\n    </tr>\n  </thead>\n  <tbody>\n    <tr>\n      <th>0</th>\n      <td>0</td>\n      <td>None</td>\n      <td>0</td>\n      <td>0</td>\n      <td>0</td>\n      <td>0</td>\n    </tr>\n    <tr>\n      <th>1</th>\n      <td>4</td>\n      <td>None</td>\n      <td>0</td>\n      <td>0</td>\n      <td>0</td>\n      <td>0</td>\n    </tr>\n    <tr>\n      <th>2</th>\n      <td>11</td>\n      <td>None</td>\n      <td>0</td>\n      <td>0</td>\n      <td>0</td>\n      <td>0</td>\n    </tr>\n    <tr>\n      <th>3</th>\n      <td>17</td>\n      <td>None</td>\n      <td>0</td>\n      <td>0</td>\n      <td>0</td>\n      <td>0</td>\n    </tr>\n    <tr>\n      <th>4</th>\n      <td>20</td>\n      <td>None</td>\n      <td>0</td>\n      <td>0</td>\n      <td>0</td>\n      <td>0</td>\n    </tr>\n  </tbody>\n</table>\n</div>"
                    },
                    "metadata": {},
                    "execution_count": 758,
                    "output_type": "execute_result"
                }
            ],
            "execution_count": 758
        },
        {
            "cell_type": "code",
            "source": [
                "# Now, let's get all the independent variable x by simply droping depenedent variable y namely AverageSpeed\r\n",
                "x = final1.drop(['AverageSpeed'], axis = 'columns')\r\n",
                "x.head()"
            ],
            "metadata": {
                "azdata_cell_guid": "8c14b1f7-d190-4f63-8572-65950989aa01"
            },
            "outputs": [
                {
                    "data": {
                        "text/plain": "   Time_of_Day  LightTruck_cc350  LightCar_cc180  MediumCar_cc220  \\\n0            0                 0               0                0   \n1            4                 0               0                0   \n2           11                 0               0                0   \n3           17                 0               0                0   \n4           20                 0               0                0   \n\n   SuperCar_cc350  \n0               0  \n1               0  \n2               0  \n3               0  \n4               0  ",
                        "text/html": "<div>\n<style scoped>\n    .dataframe tbody tr th:only-of-type {\n        vertical-align: middle;\n    }\n\n    .dataframe tbody tr th {\n        vertical-align: top;\n    }\n\n    .dataframe thead th {\n        text-align: right;\n    }\n</style>\n<table border=\"1\" class=\"dataframe\">\n  <thead>\n    <tr style=\"text-align: right;\">\n      <th></th>\n      <th>Time_of_Day</th>\n      <th>LightTruck_cc350</th>\n      <th>LightCar_cc180</th>\n      <th>MediumCar_cc220</th>\n      <th>SuperCar_cc350</th>\n    </tr>\n  </thead>\n  <tbody>\n    <tr>\n      <th>0</th>\n      <td>0</td>\n      <td>0</td>\n      <td>0</td>\n      <td>0</td>\n      <td>0</td>\n    </tr>\n    <tr>\n      <th>1</th>\n      <td>4</td>\n      <td>0</td>\n      <td>0</td>\n      <td>0</td>\n      <td>0</td>\n    </tr>\n    <tr>\n      <th>2</th>\n      <td>11</td>\n      <td>0</td>\n      <td>0</td>\n      <td>0</td>\n      <td>0</td>\n    </tr>\n    <tr>\n      <th>3</th>\n      <td>17</td>\n      <td>0</td>\n      <td>0</td>\n      <td>0</td>\n      <td>0</td>\n    </tr>\n    <tr>\n      <th>4</th>\n      <td>20</td>\n      <td>0</td>\n      <td>0</td>\n      <td>0</td>\n      <td>0</td>\n    </tr>\n  </tbody>\n</table>\n</div>"
                    },
                    "metadata": {},
                    "execution_count": 759,
                    "output_type": "execute_result"
                }
            ],
            "execution_count": 759
        },
        {
            "cell_type": "code",
            "source": [
                "# Now, let's get the predicted speed for all independent variables stored in x.\r\n",
                "# remember to go back to your fit model ie LinReg and pass in x to your predict function\r\n",
                "\r\n",
                "# this gives you predicted speed that are now assign to variable p.\r\n",
                "p = LinReg.predict(polynom.fit_transform(x) )\r\n",
                "\r\n",
                "\r\n",
                "\r\n",
                "print(\"Predicted speeds are :\", p)"
            ],
            "metadata": {
                "azdata_cell_guid": "bec098cd-fa85-4e50-ab35-3deea47979af"
            },
            "outputs": [
                {
                    "name": "stdout",
                    "text": "Predicted speeds are : [110.93711812  54.47988852  53.46008655  76.20464821  84.6947608\n  92.15512739 119.3862498   66.61683645  64.14136149  84.07047876\n  92.70971053 102.4068482  109.86052926  59.62139742  57.45548457\n  77.32563238  87.07663825  99.27314894 126.35297626  70.3642107\n  68.47900225  90.07542382  98.27457317 105.84459986 125.6735309\n  75.97050204  73.58923539  93.65077268 104.13080306 117.73014979]\n",
                    "output_type": "stream"
                }
            ],
            "execution_count": 760
        },
        {
            "cell_type": "code",
            "source": [
                "# now, let assign p to a newly created column namely PredictedPrices. Note that areasize is actually your pandas variable. It act like a table. you are simply adding\r\n",
                "# a newly created PredictedPrices column to Pandas variable table namely areasize.\r\n",
                "\r\n",
                "x['PredictedSpeed'] = p\r\n",
                "\r\n",
                "\r\n",
                "# add AutomobileType column\r\n",
                "x[\"AutomobileType\"] = \"HeavyTruck_cc500\"\r\n",
                "x[\"AutomobileType\"][x[\"LightCar_cc180\"] == 1] = \"LightCar_cc180\"\r\n",
                "x[\"AutomobileType\"][x[\"LightTruck_cc350\"] == 1] = \"LightTruck_cc350\"\r\n",
                "x[\"AutomobileType\"][x[\"MediumCar_cc220\"] == 1] = \"MediumCar_cc220\"\r\n",
                "x[\"AutomobileType\"][x[\"SuperCar_cc350\"] == 1] = \"SuperCar_cc350\"\r\n",
                "\r\n",
                "print(x.head())\r\n",
                "\r\n",
                "\r\n",
                "\r\n",
                ""
            ],
            "metadata": {
                "azdata_cell_guid": "b8963d1c-dbe6-4712-a047-230cbc0d0455"
            },
            "outputs": [
                {
                    "name": "stdout",
                    "text": "   Time_of_Day  LightTruck_cc350  LightCar_cc180  MediumCar_cc220  \\\n0            0                 0               0                0   \n1            4                 0               0                0   \n2           11                 0               0                0   \n3           17                 0               0                0   \n4           20                 0               0                0   \n\n   SuperCar_cc350  PredictedSpeed    AutomobileType  \n0               0      110.937118  HeavyTruck_cc500  \n1               0       54.479889  HeavyTruck_cc500  \n2               0       53.460087  HeavyTruck_cc500  \n3               0       76.204648  HeavyTruck_cc500  \n4               0       84.694761  HeavyTruck_cc500  \n",
                    "output_type": "stream"
                },
                {
                    "name": "stderr",
                    "text": "C:\\Users\\tej_j\\AppData\\Roaming\\Python\\Python36\\site-packages\\ipykernel_launcher.py:9: SettingWithCopyWarning: \nA value is trying to be set on a copy of a slice from a DataFrame\n\nSee the caveats in the documentation: https://pandas.pydata.org/pandas-docs/stable/user_guide/indexing.html#returning-a-view-versus-a-copy\n  if __name__ == '__main__':\nC:\\Users\\tej_j\\AppData\\Roaming\\Python\\Python36\\site-packages\\ipykernel_launcher.py:10: SettingWithCopyWarning: \nA value is trying to be set on a copy of a slice from a DataFrame\n\nSee the caveats in the documentation: https://pandas.pydata.org/pandas-docs/stable/user_guide/indexing.html#returning-a-view-versus-a-copy\n  # Remove the CWD from sys.path while we load stuff.\nC:\\Users\\tej_j\\AppData\\Roaming\\Python\\Python36\\site-packages\\ipykernel_launcher.py:11: SettingWithCopyWarning: \nA value is trying to be set on a copy of a slice from a DataFrame\n\nSee the caveats in the documentation: https://pandas.pydata.org/pandas-docs/stable/user_guide/indexing.html#returning-a-view-versus-a-copy\n  # This is added back by InteractiveShellApp.init_path()\nC:\\Users\\tej_j\\AppData\\Roaming\\Python\\Python36\\site-packages\\ipykernel_launcher.py:12: SettingWithCopyWarning: \nA value is trying to be set on a copy of a slice from a DataFrame\n\nSee the caveats in the documentation: https://pandas.pydata.org/pandas-docs/stable/user_guide/indexing.html#returning-a-view-versus-a-copy\n  if sys.path[0] == '':\n",
                    "output_type": "stream"
                }
            ],
            "execution_count": 761
        },
        {
            "cell_type": "code",
            "source": [
                "# Drop dummies columns\r\n",
                "x = x.drop(['LightCar_cc180','LightTruck_cc350','MediumCar_cc220','SuperCar_cc350'], axis = 'columns')\r\n",
                "# Let's add a Status column of value Predicted so that we can differential between actual and predicted tables\r\n",
                "x['Status'] = \"Predicted\"\r\n",
                "x.head()"
            ],
            "metadata": {
                "azdata_cell_guid": "b0b12b28-4a99-48fb-a91b-506356e7d867"
            },
            "outputs": [
                {
                    "data": {
                        "text/plain": "   Time_of_Day  PredictedSpeed    AutomobileType     Status\n0            0      110.937118  HeavyTruck_cc500  Predicted\n1            4       54.479889  HeavyTruck_cc500  Predicted\n2           11       53.460087  HeavyTruck_cc500  Predicted\n3           17       76.204648  HeavyTruck_cc500  Predicted\n4           20       84.694761  HeavyTruck_cc500  Predicted",
                        "text/html": "<div>\n<style scoped>\n    .dataframe tbody tr th:only-of-type {\n        vertical-align: middle;\n    }\n\n    .dataframe tbody tr th {\n        vertical-align: top;\n    }\n\n    .dataframe thead th {\n        text-align: right;\n    }\n</style>\n<table border=\"1\" class=\"dataframe\">\n  <thead>\n    <tr style=\"text-align: right;\">\n      <th></th>\n      <th>Time_of_Day</th>\n      <th>PredictedSpeed</th>\n      <th>AutomobileType</th>\n      <th>Status</th>\n    </tr>\n  </thead>\n  <tbody>\n    <tr>\n      <th>0</th>\n      <td>0</td>\n      <td>110.937118</td>\n      <td>HeavyTruck_cc500</td>\n      <td>Predicted</td>\n    </tr>\n    <tr>\n      <th>1</th>\n      <td>4</td>\n      <td>54.479889</td>\n      <td>HeavyTruck_cc500</td>\n      <td>Predicted</td>\n    </tr>\n    <tr>\n      <th>2</th>\n      <td>11</td>\n      <td>53.460087</td>\n      <td>HeavyTruck_cc500</td>\n      <td>Predicted</td>\n    </tr>\n    <tr>\n      <th>3</th>\n      <td>17</td>\n      <td>76.204648</td>\n      <td>HeavyTruck_cc500</td>\n      <td>Predicted</td>\n    </tr>\n    <tr>\n      <th>4</th>\n      <td>20</td>\n      <td>84.694761</td>\n      <td>HeavyTruck_cc500</td>\n      <td>Predicted</td>\n    </tr>\n  </tbody>\n</table>\n</div>"
                    },
                    "metadata": {},
                    "execution_count": 762,
                    "output_type": "execute_result"
                }
            ],
            "execution_count": 762
        },
        {
            "cell_type": "code",
            "source": [
                "# lastly, insert predicted table into TimeSpeed table\r\n",
                "cursor = conn_str.cursor()\r\n",
                "cursor.execute(\"EXEC [LoadTimeSpeed]\") # truncate table and only load it with actual data.\r\n",
                "for i, row in x.iterrows():\r\n",
                " cursor.execute(\"INSERT INTO [Tutorial].[dbo].[TimeSpeed]([AutomobileType],[Time_of_Day],[AverageSpeed],[Status]) values(?,?,?,?)\", row['AutomobileType'],row['Time_of_Day'],row['PredictedSpeed'] ,row['Status']) \r\n",
                "conn_str.commit()\r\n",
                "cursor.close()\r\n",
                "conn_str.close()\r\n",
                ""
            ],
            "metadata": {
                "azdata_cell_guid": "f282a896-633f-4f72-a370-567c90523627"
            },
            "outputs": [],
            "execution_count": 763
        }
    ]
}