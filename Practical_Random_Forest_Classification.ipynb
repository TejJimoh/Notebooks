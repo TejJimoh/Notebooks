{
    "metadata": {
        "kernelspec": {
            "name": "python3",
            "display_name": "Python 3"
        },
        "language_info": {
            "name": "python",
            "version": "3.6.6",
            "mimetype": "text/x-python",
            "codemirror_mode": {
                "name": "ipython",
                "version": 3
            },
            "pygments_lexer": "ipython3",
            "nbconvert_exporter": "python",
            "file_extension": ".py"
        }
    },
    "nbformat_minor": 2,
    "nbformat": 4,
    "cells": [
        {
            "cell_type": "code",
            "source": [
                "# This is a good example of how to use Ramdom Forest classification with data in SQL Server table using the popular Iris data.\r\n",
                "import numpy as np\r\n",
                "import pandas as pd\r\n",
                "from sklearn.model_selection import train_test_split\r\n",
                "import matplotlib.pyplot as plt\r\n",
                "from sklearn.metrics import mean_squared_error, r2_score\r\n",
                "import pyodbc\r\n",
                "from sklearn.ensemble import RandomForestClassifier\r\n",
                "\r\n",
                "# STEP 1: get your data from SQL Server and assign it to a pandas variable\r\n",
                "conn_str = pyodbc.connect('Driver={SQL Server};' 'Server=LAPTOP-CHKIB79A;''Database=Tutorial;''Trusted_Connection=yes;')\r\n",
                "query_str = \"SELECT  [sepal_length_cm],[sepal_width_cm],[petal_length_cm],[petal_width_cm],[target] ,[Flower_Name] FROM [Tutorial].[dbo].[IrisData]\"\r\n",
                "df = pd.read_sql(sql=query_str, con=conn_str)\r\n",
                "df.head()\r\n",
                ""
            ],
            "metadata": {
                "azdata_cell_guid": "6423bce6-0e9f-4ac7-9c7c-8bc0801e78ec",
                "tags": []
            },
            "outputs": [
                {
                    "data": {
                        "text/plain": "   sepal_length_cm  sepal_width_cm  petal_length_cm  petal_width_cm  target  \\\n0              5.1             3.5              1.4             0.2       0   \n1              4.9             3.0              1.4             0.2       0   \n2              4.7             3.2              1.3             0.2       0   \n3              4.6             3.1              1.5             0.2       0   \n4              5.0             3.6              1.4             0.2       0   \n\n  Flower_Name  \n0      setosa  \n1      setosa  \n2      setosa  \n3      setosa  \n4      setosa  ",
                        "text/html": "<div>\n<style scoped>\n    .dataframe tbody tr th:only-of-type {\n        vertical-align: middle;\n    }\n\n    .dataframe tbody tr th {\n        vertical-align: top;\n    }\n\n    .dataframe thead th {\n        text-align: right;\n    }\n</style>\n<table border=\"1\" class=\"dataframe\">\n  <thead>\n    <tr style=\"text-align: right;\">\n      <th></th>\n      <th>sepal_length_cm</th>\n      <th>sepal_width_cm</th>\n      <th>petal_length_cm</th>\n      <th>petal_width_cm</th>\n      <th>target</th>\n      <th>Flower_Name</th>\n    </tr>\n  </thead>\n  <tbody>\n    <tr>\n      <th>0</th>\n      <td>5.1</td>\n      <td>3.5</td>\n      <td>1.4</td>\n      <td>0.2</td>\n      <td>0</td>\n      <td>setosa</td>\n    </tr>\n    <tr>\n      <th>1</th>\n      <td>4.9</td>\n      <td>3.0</td>\n      <td>1.4</td>\n      <td>0.2</td>\n      <td>0</td>\n      <td>setosa</td>\n    </tr>\n    <tr>\n      <th>2</th>\n      <td>4.7</td>\n      <td>3.2</td>\n      <td>1.3</td>\n      <td>0.2</td>\n      <td>0</td>\n      <td>setosa</td>\n    </tr>\n    <tr>\n      <th>3</th>\n      <td>4.6</td>\n      <td>3.1</td>\n      <td>1.5</td>\n      <td>0.2</td>\n      <td>0</td>\n      <td>setosa</td>\n    </tr>\n    <tr>\n      <th>4</th>\n      <td>5.0</td>\n      <td>3.6</td>\n      <td>1.4</td>\n      <td>0.2</td>\n      <td>0</td>\n      <td>setosa</td>\n    </tr>\n  </tbody>\n</table>\n</div>"
                    },
                    "metadata": {},
                    "execution_count": 224,
                    "output_type": "execute_result"
                }
            ],
            "execution_count": 224
        },
        {
            "cell_type": "markdown",
            "source": [
                "## There are 3 types of Iris flowers namely Setosa,versicolor and virginica. The 4 factors that will determine the type of Iris flowers are : Sepal length, Sepal Width, Petal length and Petal Width."
            ],
            "metadata": {
                "azdata_cell_guid": "9b64eb0f-2b08-440c-a74b-0ec4bb06d70c"
            }
        },
        {
            "cell_type": "code",
            "source": [
                "# Let's get the independent variables and assign it to x.\r\n",
                "x = df.drop(['target','Flower_Name'], axis = 'columns')\r\n",
                "x.head()"
            ],
            "metadata": {
                "azdata_cell_guid": "b5704693-7893-4c85-a786-c8e0e354ed95"
            },
            "outputs": [
                {
                    "data": {
                        "text/plain": "   sepal_length_cm  sepal_width_cm  petal_length_cm  petal_width_cm\n0              5.1             3.5              1.4             0.2\n1              4.9             3.0              1.4             0.2\n2              4.7             3.2              1.3             0.2\n3              4.6             3.1              1.5             0.2\n4              5.0             3.6              1.4             0.2",
                        "text/html": "<div>\n<style scoped>\n    .dataframe tbody tr th:only-of-type {\n        vertical-align: middle;\n    }\n\n    .dataframe tbody tr th {\n        vertical-align: top;\n    }\n\n    .dataframe thead th {\n        text-align: right;\n    }\n</style>\n<table border=\"1\" class=\"dataframe\">\n  <thead>\n    <tr style=\"text-align: right;\">\n      <th></th>\n      <th>sepal_length_cm</th>\n      <th>sepal_width_cm</th>\n      <th>petal_length_cm</th>\n      <th>petal_width_cm</th>\n    </tr>\n  </thead>\n  <tbody>\n    <tr>\n      <th>0</th>\n      <td>5.1</td>\n      <td>3.5</td>\n      <td>1.4</td>\n      <td>0.2</td>\n    </tr>\n    <tr>\n      <th>1</th>\n      <td>4.9</td>\n      <td>3.0</td>\n      <td>1.4</td>\n      <td>0.2</td>\n    </tr>\n    <tr>\n      <th>2</th>\n      <td>4.7</td>\n      <td>3.2</td>\n      <td>1.3</td>\n      <td>0.2</td>\n    </tr>\n    <tr>\n      <th>3</th>\n      <td>4.6</td>\n      <td>3.1</td>\n      <td>1.5</td>\n      <td>0.2</td>\n    </tr>\n    <tr>\n      <th>4</th>\n      <td>5.0</td>\n      <td>3.6</td>\n      <td>1.4</td>\n      <td>0.2</td>\n    </tr>\n  </tbody>\n</table>\n</div>"
                    },
                    "metadata": {},
                    "execution_count": 225,
                    "output_type": "execute_result"
                }
            ],
            "execution_count": 225
        },
        {
            "cell_type": "code",
            "source": [
                "# Let's get our dependent variable y\r\n",
                "y = df.target # target correspond to integer values for Flower_Name\r\n",
                "y.head()"
            ],
            "metadata": {
                "azdata_cell_guid": "c6484c19-adf6-4768-880f-f6e0fc84251c"
            },
            "outputs": [
                {
                    "data": {
                        "text/plain": "0    0\n1    0\n2    0\n3    0\n4    0\nName: target, dtype: int64"
                    },
                    "metadata": {},
                    "execution_count": 226,
                    "output_type": "execute_result"
                }
            ],
            "execution_count": 226
        },
        {
            "cell_type": "code",
            "source": [
                "# Let's do some analysis of Iris flower.\r\n",
                "# Assign all Setosa flower to variable df0. This is equivalent to an sql WHERE clause statement; selecting * where target = 0\r\n",
                "df0 = df[df.target==0] # Equivalent to where clause in sql.\r\n",
                "df0.head()"
            ],
            "metadata": {
                "azdata_cell_guid": "83c28e1a-30c3-4f85-8ee7-a6df7f0ce143"
            },
            "outputs": [
                {
                    "data": {
                        "text/plain": "   sepal_length_cm  sepal_width_cm  petal_length_cm  petal_width_cm  target  \\\n0              5.1             3.5              1.4             0.2       0   \n1              4.9             3.0              1.4             0.2       0   \n2              4.7             3.2              1.3             0.2       0   \n3              4.6             3.1              1.5             0.2       0   \n4              5.0             3.6              1.4             0.2       0   \n\n  Flower_Name  \n0      setosa  \n1      setosa  \n2      setosa  \n3      setosa  \n4      setosa  ",
                        "text/html": "<div>\n<style scoped>\n    .dataframe tbody tr th:only-of-type {\n        vertical-align: middle;\n    }\n\n    .dataframe tbody tr th {\n        vertical-align: top;\n    }\n\n    .dataframe thead th {\n        text-align: right;\n    }\n</style>\n<table border=\"1\" class=\"dataframe\">\n  <thead>\n    <tr style=\"text-align: right;\">\n      <th></th>\n      <th>sepal_length_cm</th>\n      <th>sepal_width_cm</th>\n      <th>petal_length_cm</th>\n      <th>petal_width_cm</th>\n      <th>target</th>\n      <th>Flower_Name</th>\n    </tr>\n  </thead>\n  <tbody>\n    <tr>\n      <th>0</th>\n      <td>5.1</td>\n      <td>3.5</td>\n      <td>1.4</td>\n      <td>0.2</td>\n      <td>0</td>\n      <td>setosa</td>\n    </tr>\n    <tr>\n      <th>1</th>\n      <td>4.9</td>\n      <td>3.0</td>\n      <td>1.4</td>\n      <td>0.2</td>\n      <td>0</td>\n      <td>setosa</td>\n    </tr>\n    <tr>\n      <th>2</th>\n      <td>4.7</td>\n      <td>3.2</td>\n      <td>1.3</td>\n      <td>0.2</td>\n      <td>0</td>\n      <td>setosa</td>\n    </tr>\n    <tr>\n      <th>3</th>\n      <td>4.6</td>\n      <td>3.1</td>\n      <td>1.5</td>\n      <td>0.2</td>\n      <td>0</td>\n      <td>setosa</td>\n    </tr>\n    <tr>\n      <th>4</th>\n      <td>5.0</td>\n      <td>3.6</td>\n      <td>1.4</td>\n      <td>0.2</td>\n      <td>0</td>\n      <td>setosa</td>\n    </tr>\n  </tbody>\n</table>\n</div>"
                    },
                    "metadata": {},
                    "execution_count": 227,
                    "output_type": "execute_result"
                }
            ],
            "execution_count": 227
        },
        {
            "cell_type": "code",
            "source": [
                "# Assign all versicolor flower to variable df0.\r\n",
                "df1 = df[df.target==1]\r\n",
                "df1.head()"
            ],
            "metadata": {
                "azdata_cell_guid": "70c5b6a3-583f-4e0d-9fea-a8f2b924aaed",
                "tags": []
            },
            "outputs": [
                {
                    "data": {
                        "text/plain": "    sepal_length_cm  sepal_width_cm  petal_length_cm  petal_width_cm  target  \\\n50              7.0             3.2              4.7             1.4       1   \n51              6.4             3.2              4.5             1.5       1   \n52              6.9             3.1              4.9             1.5       1   \n53              5.5             2.3              4.0             1.3       1   \n54              6.5             2.8              4.6             1.5       1   \n\n   Flower_Name  \n50  versicolor  \n51  versicolor  \n52  versicolor  \n53  versicolor  \n54  versicolor  ",
                        "text/html": "<div>\n<style scoped>\n    .dataframe tbody tr th:only-of-type {\n        vertical-align: middle;\n    }\n\n    .dataframe tbody tr th {\n        vertical-align: top;\n    }\n\n    .dataframe thead th {\n        text-align: right;\n    }\n</style>\n<table border=\"1\" class=\"dataframe\">\n  <thead>\n    <tr style=\"text-align: right;\">\n      <th></th>\n      <th>sepal_length_cm</th>\n      <th>sepal_width_cm</th>\n      <th>petal_length_cm</th>\n      <th>petal_width_cm</th>\n      <th>target</th>\n      <th>Flower_Name</th>\n    </tr>\n  </thead>\n  <tbody>\n    <tr>\n      <th>50</th>\n      <td>7.0</td>\n      <td>3.2</td>\n      <td>4.7</td>\n      <td>1.4</td>\n      <td>1</td>\n      <td>versicolor</td>\n    </tr>\n    <tr>\n      <th>51</th>\n      <td>6.4</td>\n      <td>3.2</td>\n      <td>4.5</td>\n      <td>1.5</td>\n      <td>1</td>\n      <td>versicolor</td>\n    </tr>\n    <tr>\n      <th>52</th>\n      <td>6.9</td>\n      <td>3.1</td>\n      <td>4.9</td>\n      <td>1.5</td>\n      <td>1</td>\n      <td>versicolor</td>\n    </tr>\n    <tr>\n      <th>53</th>\n      <td>5.5</td>\n      <td>2.3</td>\n      <td>4.0</td>\n      <td>1.3</td>\n      <td>1</td>\n      <td>versicolor</td>\n    </tr>\n    <tr>\n      <th>54</th>\n      <td>6.5</td>\n      <td>2.8</td>\n      <td>4.6</td>\n      <td>1.5</td>\n      <td>1</td>\n      <td>versicolor</td>\n    </tr>\n  </tbody>\n</table>\n</div>"
                    },
                    "metadata": {},
                    "execution_count": 228,
                    "output_type": "execute_result"
                }
            ],
            "execution_count": 228
        },
        {
            "cell_type": "code",
            "source": [
                "# Assign all virginica flower to variable df0.\r\n",
                "df2 = df[df.target==2]\r\n",
                "df2.head()"
            ],
            "metadata": {
                "azdata_cell_guid": "5b9d73a5-93ca-4c1a-8d93-6c1b76030177"
            },
            "outputs": [
                {
                    "data": {
                        "text/plain": "     sepal_length_cm  sepal_width_cm  petal_length_cm  petal_width_cm  target  \\\n100              6.3             3.3              6.0             2.5       2   \n101              5.8             2.7              5.1             1.9       2   \n102              7.1             3.0              5.9             2.1       2   \n103              6.3             2.9              5.6             1.8       2   \n104              6.5             3.0              5.8             2.2       2   \n\n    Flower_Name  \n100   virginica  \n101   virginica  \n102   virginica  \n103   virginica  \n104   virginica  ",
                        "text/html": "<div>\n<style scoped>\n    .dataframe tbody tr th:only-of-type {\n        vertical-align: middle;\n    }\n\n    .dataframe tbody tr th {\n        vertical-align: top;\n    }\n\n    .dataframe thead th {\n        text-align: right;\n    }\n</style>\n<table border=\"1\" class=\"dataframe\">\n  <thead>\n    <tr style=\"text-align: right;\">\n      <th></th>\n      <th>sepal_length_cm</th>\n      <th>sepal_width_cm</th>\n      <th>petal_length_cm</th>\n      <th>petal_width_cm</th>\n      <th>target</th>\n      <th>Flower_Name</th>\n    </tr>\n  </thead>\n  <tbody>\n    <tr>\n      <th>100</th>\n      <td>6.3</td>\n      <td>3.3</td>\n      <td>6.0</td>\n      <td>2.5</td>\n      <td>2</td>\n      <td>virginica</td>\n    </tr>\n    <tr>\n      <th>101</th>\n      <td>5.8</td>\n      <td>2.7</td>\n      <td>5.1</td>\n      <td>1.9</td>\n      <td>2</td>\n      <td>virginica</td>\n    </tr>\n    <tr>\n      <th>102</th>\n      <td>7.1</td>\n      <td>3.0</td>\n      <td>5.9</td>\n      <td>2.1</td>\n      <td>2</td>\n      <td>virginica</td>\n    </tr>\n    <tr>\n      <th>103</th>\n      <td>6.3</td>\n      <td>2.9</td>\n      <td>5.6</td>\n      <td>1.8</td>\n      <td>2</td>\n      <td>virginica</td>\n    </tr>\n    <tr>\n      <th>104</th>\n      <td>6.5</td>\n      <td>3.0</td>\n      <td>5.8</td>\n      <td>2.2</td>\n      <td>2</td>\n      <td>virginica</td>\n    </tr>\n  </tbody>\n</table>\n</div>"
                    },
                    "metadata": {},
                    "execution_count": 229,
                    "output_type": "execute_result"
                }
            ],
            "execution_count": 229
        },
        {
            "cell_type": "code",
            "source": [
                "# let us use a scatter plot to have a view of Petal length and width of versicolor and virginica.\r\n",
                "plt.xlabel('Petal Length')\r\n",
                "plt.ylabel('Petal Width')\r\n",
                "plt.scatter(df1['petal_length_cm'], df1['petal_width_cm'],color=\"green\",marker='+')\r\n",
                "plt.scatter(df2['petal_length_cm'], df2['petal_width_cm'],color=\"red\",marker='+')"
            ],
            "metadata": {
                "azdata_cell_guid": "75fd078a-b066-4119-b2c7-7b8097537c47"
            },
            "outputs": [
                {
                    "data": {
                        "text/plain": "<matplotlib.collections.PathCollection at 0x24ce73a9860>"
                    },
                    "metadata": {},
                    "execution_count": 230,
                    "output_type": "execute_result"
                },
                {
                    "data": {
                        "text/plain": "<Figure size 432x288 with 1 Axes>",
                        "image/png": "[encoded data removed]"
                    },
                    "metadata": {
                        "needs_background": "light"
                    },
                    "output_type": "display_data"
                }
            ],
            "execution_count": 230
        },
        {
            "cell_type": "code",
            "source": [
                "# Let's train our model\r\n",
                "\r\n",
                "x_train, x_test, y_train, y_test = train_test_split(x, y, test_size=0.3, random_state=0) \r\n",
                "len(x_train)"
            ],
            "metadata": {
                "azdata_cell_guid": "b3a1e690-5f1c-4e1e-a09e-8e4988c09784",
                "tags": []
            },
            "outputs": [
                {
                    "data": {
                        "text/plain": "105"
                    },
                    "metadata": {},
                    "execution_count": 231,
                    "output_type": "execute_result"
                }
            ],
            "execution_count": 231
        },
        {
            "cell_type": "code",
            "source": [
                "# Let's fit our model\r\n",
                "model = RandomForestClassifier(10) # get RandomForestClassifier class."
            ],
            "metadata": {
                "azdata_cell_guid": "57bad037-fe81-4b49-89b1-bf5c61115056"
            },
            "outputs": [],
            "execution_count": 232
        },
        {
            "cell_type": "code",
            "source": [
                "model.fit(x_train, y_train)"
            ],
            "metadata": {
                "azdata_cell_guid": "7d3ad330-c742-4ada-8912-2f5fc60d7342"
            },
            "outputs": [
                {
                    "data": {
                        "text/plain": "RandomForestClassifier(n_estimators=10)"
                    },
                    "metadata": {},
                    "execution_count": 233,
                    "output_type": "execute_result"
                }
            ],
            "execution_count": 233
        },
        {
            "cell_type": "code",
            "source": [
                "# let's make some prediction and check accuracy of the model\r\n",
                "\r\n",
                "y_predict = model.predict(x_test)\r\n",
                "print(\"The predictions are :\",y_predict)\r\n",
                "\r\n",
                "r2 = model.score(x_test,y_test)\r\n",
                "print(\"The accuracy of the model n_estimators of 10 is :\" ,r2)"
            ],
            "metadata": {
                "azdata_cell_guid": "04d266d7-7c95-4d51-a3a8-37bcc7daaf2f"
            },
            "outputs": [
                {
                    "name": "stdout",
                    "text": "The predictions are : [2 1 0 2 0 2 0 1 1 1 1 1 1 1 1 0 1 1 0 0 2 1 0 0 2 0 0 1 1 0 2 1 0 2 2 1 0\n 2 1 1 2 0 2 0 0]\nThe accuracy of the model n_estimators of 10 is : 0.9555555555555556\n",
                    "output_type": "stream"
                }
            ],
            "execution_count": 234
        },
        {
            "cell_type": "code",
            "source": [
                "# Now, let's see if we can tune our model parameter to get better result\r\n",
                "# Let's try n_estimators=30  \r\n",
                "\r\n",
                "model30 = RandomForestClassifier(n_estimators=30) # Let's get estimators of 30.\r\n",
                "model30.fit(x_train, y_train)\r\n",
                "r3 = model30.score(x_test,y_test)\r\n",
                "print(\"The accuracy of the model n_estimators of 30 is :\" ,r3)"
            ],
            "metadata": {
                "azdata_cell_guid": "24e31dc8-3c75-40a0-b7dc-f0ea561b73e6"
            },
            "outputs": [
                {
                    "name": "stdout",
                    "text": "The accuracy of the model n_estimators of 30 is : 0.9777777777777777\n",
                    "output_type": "stream"
                }
            ],
            "execution_count": 235
        },
        {
            "cell_type": "code",
            "source": [
                "# Let's try n_estimators=40  \r\n",
                "\r\n",
                "model40 = RandomForestClassifier(n_estimators=40) # Let's get estimators of 40.\r\n",
                "model40.fit(x_train, y_train)\r\n",
                "r4 = model40.score(x_test,y_test)\r\n",
                "print(\"The accuracy of the model n_estimators of 40 is :\" ,r4)"
            ],
            "metadata": {
                "azdata_cell_guid": "5ebe2582-19de-4b43-9ef8-b368b5ae2b5a"
            },
            "outputs": [
                {
                    "name": "stdout",
                    "text": "The accuracy of the model n_estimators of 40 is : 0.9777777777777777\n",
                    "output_type": "stream"
                }
            ],
            "execution_count": 236
        },
        {
            "cell_type": "code",
            "source": [
                "# Let's try n_estimators=50  \r\n",
                "\r\n",
                "model50 = RandomForestClassifier(n_estimators=50) # Let's get estimators of 50.\r\n",
                "model50.fit(x_train, y_train)\r\n",
                "r5 = model50.score(x_test,y_test)\r\n",
                "print(\"The accuracy of the model n_estimators of 50 is :\" ,r5)"
            ],
            "metadata": {
                "azdata_cell_guid": "e2666933-b5cb-4d1a-9ccc-b7e3b1bda6a8"
            },
            "outputs": [
                {
                    "name": "stdout",
                    "text": "The accuracy of the model n_estimators of 50 is : 0.9777777777777777\n",
                    "output_type": "stream"
                }
            ],
            "execution_count": 237
        },
        {
            "cell_type": "markdown",
            "source": [
                "### From the various parameters values of n_estimators above, it looks like 97.7% is the best accuracy we can get despite changing the value of n_estimators. This matched the best value we got for Support Vector Machine Algorithm. "
            ],
            "metadata": {
                "azdata_cell_guid": "f21bcf22-124f-4710-ae62-b234e4f226fd"
            }
        }
    ]
}