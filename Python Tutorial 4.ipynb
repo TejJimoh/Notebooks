{
    "metadata": {
        "kernelspec": {
            "name": "python3",
            "display_name": "Python 3"
        },
        "language_info": {
            "name": "python",
            "version": "3.6.6",
            "mimetype": "text/x-python",
            "codemirror_mode": {
                "name": "ipython",
                "version": 3
            },
            "pygments_lexer": "ipython3",
            "nbconvert_exporter": "python",
            "file_extension": ".py"
        }
    },
    "nbformat_minor": 2,
    "nbformat": 4,
    "cells": [
        {
            "cell_type": "code",
            "source": [
                "##  PYTHON DATES      PYTHON DATES     PYTHON DATES    PYTHON DATES    PYTHON DATES    PYTHON DATES     PYTHON DATES     PYTHON DATES\r\n",
                "\r\n",
                "# Import the datetime module and display the current date:\r\n",
                "import datetime\r\n",
                "x = datetime.datetime.now()\r\n",
                "print(x)\r\n",
                "\r\n",
                "# The datetime() class requires three parameters to create a date: year, month, day.\r\n",
                "# Create a date object:\r\n",
                "import datetime\r\n",
                "x = datetime.datetime(2020, 5, 17)\r\n",
                "print(x) \r\n",
                "\r\n",
                "## The strftime() Method\r\n",
                "## The datetime object has a method for formatting date objects into readable strings.\r\n",
                "## The method is called strftime(), and takes one parameter, format, to specify the format of the returned string:\r\n",
                "\r\n",
                "# To get weekday short version use strftime(\"%a\")\r\n",
                "import datetime\r\n",
                "x = datetime.datetime.now()\r\n",
                "print(x.strftime(\"%a\"))\r\n",
                "\r\n",
                "# To get weekday full version use strftime(\"%A\")\r\n",
                "import datetime\r\n",
                "x = datetime.datetime.now()\r\n",
                "print(x.strftime(\"%A\"))\r\n",
                "\r\n",
                "# To get Weekday as a number 0-6, 0 is Sunday use strftime(\"%w\") \r\n",
                "import datetime\r\n",
                "x = datetime.datetime.now()\r\n",
                "print(x.strftime(\"%w\"))\r\n",
                "\r\n",
                "\r\n",
                ""
            ],
            "metadata": {
                "azdata_cell_guid": "4fc4aa77-ee05-42a6-b753-645d820cdfca",
                "tags": []
            },
            "outputs": [
                {
                    "name": "stdout",
                    "text": "2020-06-10 13:09:19.577319\n2020-05-17 00:00:00\nWed\nWednesday\n3\n",
                    "output_type": "stream"
                }
            ],
            "execution_count": 6
        },
        {
            "cell_type": "code",
            "source": [
                "# To get Day of month 01-31 use strftime(\"%d\")\r\n",
                "import datetime\r\n",
                "x = datetime.datetime.now()\r\n",
                "print(x.strftime(\"%d\"))\r\n",
                "\r\n",
                "# To get Month name, short version use strftime(\"%b\")\r\n",
                "import datetime\r\n",
                "x = datetime.datetime.now()\r\n",
                "print(x.strftime(\"%b\"))\r\n",
                "\r\n",
                "\r\n",
                "# To get Month name, full versionuse strftime(\"%B\")\r\n",
                "import datetime\r\n",
                "x = datetime.datetime.now()\r\n",
                "print(x.strftime(\"%B\"))\r\n",
                "\r\n",
                "# To get Month as a number 01-12 use strftime(\"%m\")\r\n",
                "import datetime\r\n",
                "x = datetime.datetime.now()\r\n",
                "print(x.strftime(\"%m\"))\r\n",
                "\r\n",
                "# To get Year, short version, without century use strftime(\"%y\")\r\n",
                "import datetime\r\n",
                "x = datetime.datetime.now()\r\n",
                "print(x.strftime(\"%y\"))\r\n",
                "\r\n",
                "# To get year long version use strftime(\"%Y\")\r\n",
                "import datetime\r\n",
                "x = datetime.datetime.now()\r\n",
                "print(x.strftime(\"%Y\"))\r\n",
                "\r\n",
                "# To get 24 hours time format use strftime(\"%H\")\r\n",
                "import datetime\r\n",
                "x = datetime.datetime.now()\r\n",
                "print(x.strftime(\"%H\"))\r\n",
                "\r\n",
                "# To get 12 hours time format use strftime(\"%I\")\r\n",
                "import datetime\r\n",
                "x = datetime.datetime.now()\r\n",
                "print(x.strftime(\"%I\"))\r\n",
                "\r\n",
                "\r\n",
                ""
            ],
            "metadata": {
                "azdata_cell_guid": "734be5c9-137d-4374-886e-f7029b9d08ff",
                "tags": []
            },
            "outputs": [
                {
                    "name": "stdout",
                    "text": "10\nJun\nJune\n06\n20\n2020\n13\n01\n",
                    "output_type": "stream"
                }
            ],
            "execution_count": 13
        },
        {
            "cell_type": "code",
            "source": [
                "# To get minutes use strftime(\"%M\")\r\n",
                "import datetime\r\n",
                "x = datetime.datetime.now()\r\n",
                "print(x.strftime(\"%M\"))\r\n",
                "\r\n",
                "# To get seconds use strftime(\"%M\")\r\n",
                "import datetime\r\n",
                "x = datetime.datetime.now()\r\n",
                "print(x.strftime(\"%S\"))\r\n",
                "\r\n",
                "# To get Day number of year 001-366 use strftime(\"%j\")\r\n",
                "import datetime\r\n",
                "x = datetime.datetime.now()\r\n",
                "print(x.strftime(\"%j\"))\r\n",
                "\r\n",
                "# To get Week number of year, Sunday as the first day of week, 00-53 use strftime(\"%U\")\r\n",
                "import datetime\r\n",
                "x = datetime.datetime.now()\r\n",
                "print(x.strftime(\"%U\"))\r\n",
                "\r\n",
                "# To get Week number of year, Monday as the first day of week, 00-53 use strftime(\"%W\")\r\n",
                "import datetime\r\n",
                "x = datetime.datetime.now()\r\n",
                "print(x.strftime(\"%W\"))\r\n",
                "\r\n",
                "\r\n",
                ""
            ],
            "metadata": {
                "azdata_cell_guid": "f3c78a50-dd56-4b9b-abd4-824c574c1606"
            },
            "outputs": [
                {
                    "name": "stdout",
                    "text": "25\n31\n162\n23\n23\n",
                    "output_type": "stream"
                }
            ],
            "execution_count": 19
        }
    ]
}