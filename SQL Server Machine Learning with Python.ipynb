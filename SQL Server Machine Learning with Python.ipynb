{
    "metadata": {
        "kernelspec": {
            "name": "python3",
            "display_name": "Python 3"
        },
        "language_info": {
            "name": "python",
            "version": "3.6.6",
            "mimetype": "text/x-python",
            "codemirror_mode": {
                "name": "ipython",
                "version": 3
            },
            "pygments_lexer": "ipython3",
            "nbconvert_exporter": "python",
            "file_extension": ".py"
        }
    },
    "nbformat_minor": 2,
    "nbformat": 4,
    "cells": [
        {
            "cell_type": "code",
            "source": [
                "### GET ME THE AVERAGE SALES GROUP BY TERRITORIES : Example 4 SQL EQUIVALENT\r\n",
                "\r\n",
                "import pyodbc\r\n",
                "import pandas\r\n",
                "\r\n",
                "\r\n",
                "# Connection string to your SQL Server instance\r\n",
                "\r\n",
                "conn_str = pyodbc.connect('Driver={SQL Server};' 'Server=LAPTOP-CHKIB79A;''Database=AdventureWorks2017;''Trusted_Connection=yes;')\r\n",
                "\r\n",
                "query_str = \"SELECT t.Name AS Territories,  CAST(h.Subtotal AS FLOAT) AS Sales  \\\r\n",
                "  FROM Sales.SalesOrderHeader h INNER JOIN Sales.SalesTerritory t  ON h.TerritoryID = t.TerritoryID;\"\r\n",
                "\r\n",
                "df = pandas.read_sql(sql=query_str, con=conn_str)\r\n",
                "df2 = df.groupby('Territories').agg({'Sales': 'sum'})\r\n",
                "df2.columns = ['Total Sales']\r\n",
                "df2 = df2.reset_index()\r\n",
                "\r\n",
                "# add Performance column\r\n",
                "df2[\"Performance\"] = \"Acceptable\"\r\n",
                "df2[\"Performance\"][df2[\"Total Sales\"] < 7000000] = \"Poor\"\r\n",
                "df2[\"Performance\"][df2[\"Total Sales\"] > 10000000] = \"Excellent\"\r\n",
                "\r\n",
                "print(df2)"
            ],
            "metadata": {
                "azdata_cell_guid": "82bd514a-c8ef-4731-8f55-a4ab4662e530",
                "tags": []
            },
            "outputs": [
                {
                    "name": "stdout",
                    "text": "      Territories   Total Sales Performance\n0       Australia  1.065534e+07   Excellent\n1          Canada  1.635577e+07   Excellent\n2         Central  7.909009e+06  Acceptable\n3          France  7.251556e+06  Acceptable\n4         Germany  4.915408e+06        Poor\n5       Northeast  6.939374e+06        Poor\n6       Northwest  1.608494e+07   Excellent\n7       Southeast  7.879655e+06  Acceptable\n8       Southwest  2.418461e+07   Excellent\n9  United Kingdom  7.670721e+06  Acceptable\n",
                    "output_type": "stream"
                },
                {
                    "name": "stderr",
                    "text": "C:\\Users\\tej_j\\AppData\\Roaming\\Python\\Python36\\site-packages\\ipykernel_launcher.py:21: SettingWithCopyWarning: \nA value is trying to be set on a copy of a slice from a DataFrame\n\nSee the caveats in the documentation: https://pandas.pydata.org/pandas-docs/stable/user_guide/indexing.html#returning-a-view-versus-a-copy\nC:\\Users\\tej_j\\AppData\\Roaming\\Python\\Python36\\site-packages\\ipykernel_launcher.py:22: SettingWithCopyWarning: \nA value is trying to be set on a copy of a slice from a DataFrame\n\nSee the caveats in the documentation: https://pandas.pydata.org/pandas-docs/stable/user_guide/indexing.html#returning-a-view-versus-a-copy\n",
                    "output_type": "stream"
                }
            ],
            "execution_count": 3
        },
        {
            "cell_type": "code",
            "source": [
                "### GET ME THE AVERAGE SALES GROUP BY TERRITORIES AND CONTINENT: Example 5 SQL EQUIVALENT\r\n",
                "\r\n",
                "import pyodbc\r\n",
                "import pandas\r\n",
                "\r\n",
                "\r\n",
                "# Connection string to your SQL Server instance\r\n",
                "\r\n",
                "conn_str = pyodbc.connect('Driver={SQL Server};' 'Server=LAPTOP-CHKIB79A;''Database=AdventureWorks2017;''Trusted_Connection=yes;')\r\n",
                "\r\n",
                "query_str = \"SELECT t.Name AS Territories, t.[Group] as Continent, CAST(h.Subtotal AS FLOAT) AS Sales  \\\r\n",
                "  FROM Sales.SalesOrderHeader h INNER JOIN Sales.SalesTerritory t  \\\r\n",
                "    ON h.TerritoryID = t.TerritoryID;\"\r\n",
                "\r\n",
                "df = pandas.read_sql(sql=query_str, con=conn_str)\r\n",
                "\r\n",
                "df2 = df.groupby([\"Territories\",\"Continent\"]).agg({\"Sales\": \"sum\"})\r\n",
                "df2.columns = [\"Total Sales\"]\r\n",
                "df2 = df2.reset_index()\r\n",
                "\r\n",
                "# add Performance column\r\n",
                "df2[\"Performance\"] = \"Acceptable\"\r\n",
                "df2[\"Performance\"][df2[\"Total Sales\"] < 7000000] = \"Poor\"\r\n",
                "df2[\"Performance\"][df2[\"Total Sales\"] > 10000000] = \"Excellent\"\r\n",
                "\r\n",
                "\r\n",
                "\r\n",
                "print(df2)"
            ],
            "metadata": {
                "azdata_cell_guid": "76329ea5-d5b0-42aa-9364-1587eb51c050",
                "tags": []
            },
            "outputs": [
                {
                    "name": "stdout",
                    "text": "      Territories      Continent   Total Sales Performance\n0       Australia        Pacific  1.065534e+07   Excellent\n1          Canada  North America  1.635577e+07   Excellent\n2         Central  North America  7.909009e+06  Acceptable\n3          France         Europe  7.251556e+06  Acceptable\n4         Germany         Europe  4.915408e+06        Poor\n5       Northeast  North America  6.939374e+06        Poor\n6       Northwest  North America  1.608494e+07   Excellent\n7       Southeast  North America  7.879655e+06  Acceptable\n8       Southwest  North America  2.418461e+07   Excellent\n9  United Kingdom         Europe  7.670721e+06  Acceptable\n",
                    "output_type": "stream"
                },
                {
                    "name": "stderr",
                    "text": "C:\\Users\\tej_j\\AppData\\Roaming\\Python\\Python36\\site-packages\\ipykernel_launcher.py:23: SettingWithCopyWarning: \nA value is trying to be set on a copy of a slice from a DataFrame\n\nSee the caveats in the documentation: https://pandas.pydata.org/pandas-docs/stable/user_guide/indexing.html#returning-a-view-versus-a-copy\nC:\\Users\\tej_j\\AppData\\Roaming\\Python\\Python36\\site-packages\\ipykernel_launcher.py:24: SettingWithCopyWarning: \nA value is trying to be set on a copy of a slice from a DataFrame\n\nSee the caveats in the documentation: https://pandas.pydata.org/pandas-docs/stable/user_guide/indexing.html#returning-a-view-versus-a-copy\n",
                    "output_type": "stream"
                }
            ],
            "execution_count": 4
        },
        {
            "cell_type": "code",
            "source": [
                "### AGGREGATING ONE FACT : GET ME THE AVERAGE, MIN , MAX AND TOTAL SALES GROUP BY TERRITORIES : Example 6 SQL EQUIVALENT\r\n",
                "\r\n",
                "import pyodbc\r\n",
                "import pandas\r\n",
                "\r\n",
                "\r\n",
                "# Connection string to your SQL Server instance\r\n",
                "\r\n",
                "conn_str = pyodbc.connect('Driver={SQL Server};' 'Server=LAPTOP-CHKIB79A;''Database=AdventureWorks2017;''Trusted_Connection=yes;')\r\n",
                "\r\n",
                "query_str = \"SELECT t.Name AS Territories,t.[Group] as Continent,  CAST(h.Subtotal AS FLOAT) AS Sales ,TaxAmt  \\\r\n",
                "  FROM Sales.SalesOrderHeader h INNER JOIN Sales.SalesTerritory t  \\\r\n",
                "    ON h.TerritoryID = t.TerritoryID;\"\r\n",
                "\r\n",
                "\r\n",
                "df = pandas.read_sql(sql=query_str, con=conn_str)\r\n",
                "\r\n",
                "# Multiple aggregation by one fact and one group by\r\n",
                "df2 = df.groupby([\"Territories\",\"Continent\"]).agg({'Sales': ['mean', 'sum','min', 'max' ]})\r\n",
                "df2.columns = [\"Avg Sales\", \"Total Sales\",\"Mim Sales\", \"Max Sales\"]\r\n",
                "\r\n",
                "#df2 = df2.reset_index()\r\n",
                "\r\n",
                "# add Performance column\r\n",
                "df2[\"Performance\"] = \"Acceptable\"\r\n",
                "df2[\"Performance\"][df2[\"Avg Sales\"] < 2000] = \"Poor\"\r\n",
                "df2[\"Performance\"][df2[\"Avg Sales\"] > 15000] = \"Excellent\"\r\n",
                "\r\n",
                "print(df2)"
            ],
            "metadata": {
                "azdata_cell_guid": "6c2390ab-e99a-40e9-a853-a7852543dedc",
                "tags": []
            },
            "outputs": [
                {
                    "name": "stdout",
                    "text": "                                 Avg Sales   Total Sales  Mim Sales  \\\nTerritories    Continent                                              \nAustralia      Pacific         1557.114710  1.065534e+07      2.290   \nCanada         North America   4021.581130  1.635577e+07      2.290   \nCentral        North America  20542.880536  7.909009e+06      7.280   \nFrance         Europe          2713.905557  7.251556e+06      3.990   \nGermany        Europe          1873.964009  4.915408e+06      3.990   \nNortheast      North America  19714.132049  6.939374e+06      1.374   \nNorthwest      North America   3501.293546  1.608494e+07      2.290   \nSoutheast      North America  16213.282043  7.879655e+06      2.290   \nSouthwest      North America   3885.702057  2.418461e+07      2.290   \nUnited Kingdom Europe          2382.951549  7.670721e+06      2.748   \n\n                                Max Sales Performance  \nTerritories    Continent                               \nAustralia      Pacific         63669.4800        Poor  \nCanada         North America  150837.4387  Acceptable  \nCentral        North America  128873.2206   Excellent  \nFrance         Europe         147390.9328  Acceptable  \nGermany        Europe         104153.3951        Poor  \nNortheast      North America  146154.5653   Excellent  \nNorthwest      North America  112611.9697  Acceptable  \nSoutheast      North America  126198.3362   Excellent  \nSouthwest      North America  163930.3943  Acceptable  \nUnited Kingdom Europe         115310.4777  Acceptable  \n",
                    "output_type": "stream"
                },
                {
                    "name": "stderr",
                    "text": "C:\\Users\\tej_j\\AppData\\Roaming\\Python\\Python36\\site-packages\\ipykernel_launcher.py:26: SettingWithCopyWarning: \nA value is trying to be set on a copy of a slice from a DataFrame\n\nSee the caveats in the documentation: https://pandas.pydata.org/pandas-docs/stable/user_guide/indexing.html#returning-a-view-versus-a-copy\nC:\\Users\\tej_j\\AppData\\Roaming\\Python\\Python36\\site-packages\\ipykernel_launcher.py:27: SettingWithCopyWarning: \nA value is trying to be set on a copy of a slice from a DataFrame\n\nSee the caveats in the documentation: https://pandas.pydata.org/pandas-docs/stable/user_guide/indexing.html#returning-a-view-versus-a-copy\n",
                    "output_type": "stream"
                }
            ],
            "execution_count": 5
        },
        {
            "cell_type": "code",
            "source": [
                "### AGGREGATING MULTIPLE  FACTS : FOR SALES :GET ME THE AVERAGE AND TOTAL SALES :FOR TAX: GET ME AVERAGE TAX : Example 7 SQL EQUIVALENT\r\n",
                "## GROUP BY TERRITORIES\r\n",
                "\r\n",
                "import pyodbc\r\n",
                "import pandas\r\n",
                "\r\n",
                "\r\n",
                "# Connection string to your SQL Server instance\r\n",
                "\r\n",
                "conn_str = pyodbc.connect('Driver={SQL Server};' 'Server=LAPTOP-CHKIB79A;''Database=AdventureWorks2017;''Trusted_Connection=yes;')\r\n",
                "\r\n",
                "query_str = \"SELECT t.Name AS Territories, t.[Group] as Continent, CAST(h.Subtotal AS FLOAT) AS Sales ,TaxAmt  \\\r\n",
                "  FROM Sales.SalesOrderHeader h INNER JOIN Sales.SalesTerritory t  \\\r\n",
                "    ON h.TerritoryID = t.TerritoryID;\"\r\n",
                "\r\n",
                "\r\n",
                "df = pandas.read_sql(sql=query_str, con=conn_str)\r\n",
                "\r\n",
                "# Multiple aggregation by 2 facts and one group by\r\n",
                "df3 = df.groupby([\"Territories\",\"Continent\"]).agg({'Sales': ['mean', 'sum','min', 'max' ],'TaxAmt' : ['mean']})\r\n",
                "df3.columns = ['Avg Sales', 'Total Sales','Mim Sales', 'Max Sales', 'AvgTax']\r\n",
                "df3 = df3.reset_index()\r\n",
                "# add Performance column\r\n",
                "df3[\"Performance\"] = \"Acceptable\"\r\n",
                "df3[\"Performance\"][df3[\"Avg Sales\"] < 2000] = \"Poor\"\r\n",
                "df3[\"Performance\"][df3[\"Avg Sales\"] > 15000] = \"Excellent\"\r\n",
                "\r\n",
                "print(df3)"
            ],
            "metadata": {
                "azdata_cell_guid": "91e5dc5f-4412-49bb-89a7-19f659b02acf",
                "tags": []
            },
            "outputs": [
                {
                    "name": "stdout",
                    "text": "      Territories      Continent     Avg Sales   Total Sales  Mim Sales  \\\n0       Australia        Pacific   1557.114710  1.065534e+07      2.290   \n1          Canada  North America   4021.581130  1.635577e+07      2.290   \n2         Central  North America  20542.880536  7.909009e+06      7.280   \n3          France         Europe   2713.905557  7.251556e+06      3.990   \n4         Germany         Europe   1873.964009  4.915408e+06      3.990   \n5       Northeast  North America  19714.132049  6.939374e+06      1.374   \n6       Northwest  North America   3501.293546  1.608494e+07      2.290   \n7       Southeast  North America  16213.282043  7.879655e+06      2.290   \n8       Southwest  North America   3885.702057  2.418461e+07      2.290   \n9  United Kingdom         Europe   2382.951549  7.670721e+06      2.748   \n\n     Max Sales       AvgTax Performance  \n0   63669.4800   129.048378        Poor  \n1  150837.4387   382.761814  Acceptable  \n2  128873.2206  1987.463678   Excellent  \n3  147390.9328   247.560205  Acceptable  \n4  104153.3951   163.945149        Poor  \n5  146154.5653  1906.569581   Excellent  \n6  112611.9697   327.834272  Acceptable  \n7  126198.3362  1574.672612   Excellent  \n8  163930.3943   363.078081  Acceptable  \n9  115310.4777   213.808511  Acceptable  \n",
                    "output_type": "stream"
                },
                {
                    "name": "stderr",
                    "text": "C:\\Users\\tej_j\\AppData\\Roaming\\Python\\Python36\\site-packages\\ipykernel_launcher.py:25: SettingWithCopyWarning: \nA value is trying to be set on a copy of a slice from a DataFrame\n\nSee the caveats in the documentation: https://pandas.pydata.org/pandas-docs/stable/user_guide/indexing.html#returning-a-view-versus-a-copy\nC:\\Users\\tej_j\\AppData\\Roaming\\Python\\Python36\\site-packages\\ipykernel_launcher.py:26: SettingWithCopyWarning: \nA value is trying to be set on a copy of a slice from a DataFrame\n\nSee the caveats in the documentation: https://pandas.pydata.org/pandas-docs/stable/user_guide/indexing.html#returning-a-view-versus-a-copy\n",
                    "output_type": "stream"
                }
            ],
            "execution_count": 6
        },
        {
            "cell_type": "code",
            "source": [
                "#  Extensive use of datetime strftime() : Example 10 SQL equivalent\r\n",
                "import pyodbc\r\n",
                "import pandas\r\n",
                "import datetime as dt\r\n",
                "\r\n",
                "\r\n",
                "# Connection string to your SQL Server instance\r\n",
                "\r\n",
                "conn_str = pyodbc.connect('Driver={SQL Server};' 'Server=LAPTOP-CHKIB79A;''Database=AdventureWorks2017;''Trusted_Connection=yes;')\r\n",
                "\r\n",
                "query_str = \"SELECT t.Name AS Territories, h.OrderDate as OrderDates, CAST(h.Subtotal AS FLOAT) AS Sales   \\\r\n",
                "  FROM Sales.SalesOrderHeader h INNER JOIN Sales.SalesTerritory t  \\\r\n",
                "    ON h.TerritoryID = t.TerritoryID   WHERE YEAR(h.OrderDate) = 2013 ;\"\r\n",
                "\r\n",
                "\r\n",
                "df = pandas.read_sql(sql=query_str, con=conn_str)\r\n",
                "\r\n",
                "df[\"MonthYearName\"] = df[\"OrderDates\"].dt.strftime(\"%b  %Y\")\r\n",
                "df[\"MonthYearNo\"] = df[\"OrderDates\"].dt.strftime(\"%m  %Y\")\r\n",
                "df[\"LongMonthName\"] = df[\"OrderDates\"].dt.strftime(\"%B\")\r\n",
                "df[\"ShortMonthName\"] = df[\"OrderDates\"].dt.strftime(\"%b\")\r\n",
                "# as_index=False will give you all the column names. \r\n",
                "df1 = df.groupby([\"Territories\", \"MonthYearName\",\"MonthYearNo\",\"LongMonthName\",\"ShortMonthName\"],as_index=False).agg({\"Sales\": [\"sum\"]})\r\n",
                "df1.reset_index()\r\n",
                "print(df1)"
            ],
            "metadata": {
                "azdata_cell_guid": "24cb8a1d-627e-449b-9c16-560046318918"
            },
            "outputs": [
                {
                    "name": "stdout",
                    "text": "        Territories MonthYearName MonthYearNo LongMonthName ShortMonthName  \\\n                                                                             \n0         Australia     Apr  2013    04  2013         April            Apr   \n1         Australia     Aug  2013    08  2013        August            Aug   \n2         Australia     Dec  2013    12  2013      December            Dec   \n3         Australia     Feb  2013    02  2013      February            Feb   \n4         Australia     Jan  2013    01  2013       January            Jan   \n..              ...           ...         ...           ...            ...   \n115  United Kingdom     Mar  2013    03  2013         March            Mar   \n116  United Kingdom     May  2013    05  2013           May            May   \n117  United Kingdom     Nov  2013    11  2013      November            Nov   \n118  United Kingdom     Oct  2013    10  2013       October            Oct   \n119  United Kingdom     Sep  2013    09  2013     September            Sep   \n\n           Sales  \n             sum  \n0    205166.1319  \n1    394785.6320  \n2    468650.3400  \n3    177688.0601  \n4    222513.7199  \n..           ...  \n115  166535.5923  \n116  213416.7193  \n117  297249.2690  \n118  602234.0745  \n119  347461.7014  \n\n[120 rows x 6 columns]\n",
                    "output_type": "stream"
                }
            ],
            "execution_count": 7
        },
        {
            "cell_type": "code",
            "source": [
                "#  Extensive use of datetime strftime() : Example 11 Method 1 SQL equivalent\r\n",
                "import pyodbc\r\n",
                "import pandas\r\n",
                "import datetime as dt\r\n",
                "\r\n",
                "\r\n",
                "# Connection string to your SQL Server instance\r\n",
                "\r\n",
                "conn_str = pyodbc.connect('Driver={SQL Server};' 'Server=LAPTOP-CHKIB79A;''Database=AdventureWorks2017;''Trusted_Connection=yes;')\r\n",
                "\r\n",
                "query_str = \"SELECT t.Name AS Territories, h.OrderDate as OrderDates, CAST(h.Subtotal AS FLOAT) AS Sales   \\\r\n",
                "  FROM Sales.SalesOrderHeader h INNER JOIN Sales.SalesTerritory t  \\\r\n",
                "    ON h.TerritoryID = t.TerritoryID   WHERE YEAR(h.OrderDate) = 2013 ;\"\r\n",
                "\r\n",
                "\r\n",
                "df = pandas.read_sql(sql=query_str, con=conn_str)\r\n",
                "\r\n",
                "df[\"MonthYearName\"] = df[\"OrderDates\"].dt.strftime(\"%b  %Y\")\r\n",
                "df[\"MonthYearNo\"] = df[\"OrderDates\"].dt.strftime(\"%m  %Y\")\r\n",
                "df[\"LongMonthName\"] = df[\"OrderDates\"].dt.strftime(\"%B\")\r\n",
                "df[\"ShortMonthName\"] = df[\"OrderDates\"].dt.strftime(\"%b\")\r\n",
                "df1 = df.groupby([\"Territories\", \"MonthYearName\",\"MonthYearNo\",\"LongMonthName\",\"ShortMonthName\"],as_index=False).agg({\"Sales\": [\"sum\"]})\r\n",
                "\r\n",
                "#df1.reset_index()\r\n",
                "\r\n",
                "# Note that I was able to specify all my column names because I set as_index=False\r\n",
                "df1.columns = [\"Territories\", \"MonthYearName\",\"MonthYearNo\",\"LongMonthName\",\"ShortMonthName\",\"Total Sales\"]\r\n",
                "\r\n",
                "\r\n",
                "# Add computed column namely TargetSales to the dataframe df2\r\n",
                "df1[\"TargetSales\"] = df1[\"Total Sales\"] * 2\r\n",
                "\r\n",
                "# Filter rows. Below would have failed without df2.columns above bcos Total Sales had no header name after aggregation until df2.columns was used.\r\n",
                "df1 = df1[(df1[\"Territories\"] == \"Australia\")  & (df1[\"Total Sales\"] > 300000)]\r\n",
                "\r\n",
                "# Drop ShortMonthName ( Method 1)\r\n",
                "\r\n",
                "df1.drop(\"ShortMonthName\", axis=1, inplace=True)\r\n",
                "\r\n",
                "\r\n",
                "\r\n",
                "\r\n",
                "print(df1)"
            ],
            "metadata": {
                "azdata_cell_guid": "eb7c7645-b0ca-4307-abcc-bb29ece7cbb1"
            },
            "outputs": [
                {
                    "name": "stdout",
                    "text": "   Territories MonthYearName MonthYearNo LongMonthName  Total Sales  \\\n1    Australia     Aug  2013    08  2013        August  394785.6320   \n2    Australia     Dec  2013    12  2013      December  468650.3400   \n5    Australia     Jul  2013    07  2013          July  456778.3180   \n6    Australia     Jun  2013    06  2013          June  380028.9423   \n9    Australia     Nov  2013    11  2013      November  427532.8060   \n10   Australia     Oct  2013    10  2013       October  572304.2426   \n11   Australia     Sep  2013    09  2013     September  457109.6440   \n\n     TargetSales  \n1   7.895713e+05  \n2   9.373007e+05  \n5   9.135566e+05  \n6   7.600579e+05  \n9   8.550656e+05  \n10  1.144608e+06  \n11  9.142193e+05  \n",
                    "output_type": "stream"
                }
            ],
            "execution_count": 8
        }
    ]
}