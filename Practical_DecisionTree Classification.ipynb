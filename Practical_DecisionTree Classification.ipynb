{
    "metadata": {
        "kernelspec": {
            "name": "python3",
            "display_name": "Python 3"
        },
        "language_info": {
            "name": "python",
            "version": "3.6.6",
            "mimetype": "text/x-python",
            "codemirror_mode": {
                "name": "ipython",
                "version": 3
            },
            "pygments_lexer": "ipython3",
            "nbconvert_exporter": "python",
            "file_extension": ".py"
        }
    },
    "nbformat_minor": 2,
    "nbformat": 4,
    "cells": [
        {
            "cell_type": "code",
            "source": [
                "# This is a good example of how to use Linear Regression single variable with data in SQL Server tables\r\n",
                "import numpy as np\r\n",
                "import pandas as pd\r\n",
                "from sklearn.preprocessing import LabelEncoder\r\n",
                "from sklearn import tree\r\n",
                "from sklearn.model_selection import train_test_split\r\n",
                "import matplotlib.pyplot as plt\r\n",
                "from sklearn.metrics import mean_squared_error, r2_score\r\n",
                "import pyodbc\r\n",
                "\r\n",
                "# STEP 1: get your data from SQL Server and assign it to a pandas variable\r\n",
                "conn_str = pyodbc.connect('Driver={SQL Server};' 'Server=LAPTOP-CHKIB79A;''Database=Tutorial;''Trusted_Connection=yes;')\r\n",
                "query_str = \"SELECT * FROM [Tutorial].[dbo].[TitanicActual] Where Age is not null\"\r\n",
                "df = pd.read_sql(sql=query_str, con=conn_str)\r\n",
                "df.head()\r\n",
                ""
            ],
            "metadata": {
                "azdata_cell_guid": "43f4ea2d-7bab-441e-896d-bcd7ff256cb3"
            },
            "outputs": [
                {
                    "data": {
                        "text/plain": "   PassengerId  Survived  Pclass  \\\n0            1         0       3   \n1            2         1       1   \n2            3         1       3   \n3            4         1       1   \n4            5         0       3   \n\n                                                Name         Sex   Age  \\\n0                            Braund, Mr. Owen Harris  male        22.0   \n1  Cumings, Mrs. John Bradley (Florence Briggs Th...  female      38.0   \n2                             Heikkinen, Miss. Laina  female      26.0   \n3       Futrelle, Mrs. Jacques Heath (Lily May Peel)  female      35.0   \n4                           Allen, Mr. William Henry  male        35.0   \n\n        SibSp       Parch      Ticket     Fare       Cabin    Embarked  \n0  1           0           A/5 21171    7.2500        None  S           \n1  1           0           PC 17599    71.2833  C85         C           \n2  0           0           STON/O2. 3   7.9250        None  S           \n3  1           0           113803      53.1000  C123        S           \n4  0           0           373450       8.0500        None  S           ",
                        "text/html": "<div>\n<style scoped>\n    .dataframe tbody tr th:only-of-type {\n        vertical-align: middle;\n    }\n\n    .dataframe tbody tr th {\n        vertical-align: top;\n    }\n\n    .dataframe thead th {\n        text-align: right;\n    }\n</style>\n<table border=\"1\" class=\"dataframe\">\n  <thead>\n    <tr style=\"text-align: right;\">\n      <th></th>\n      <th>PassengerId</th>\n      <th>Survived</th>\n      <th>Pclass</th>\n      <th>Name</th>\n      <th>Sex</th>\n      <th>Age</th>\n      <th>SibSp</th>\n      <th>Parch</th>\n      <th>Ticket</th>\n      <th>Fare</th>\n      <th>Cabin</th>\n      <th>Embarked</th>\n    </tr>\n  </thead>\n  <tbody>\n    <tr>\n      <th>0</th>\n      <td>1</td>\n      <td>0</td>\n      <td>3</td>\n      <td>Braund, Mr. Owen Harris</td>\n      <td>male</td>\n      <td>22.0</td>\n      <td>1</td>\n      <td>0</td>\n      <td>A/5 21171</td>\n      <td>7.2500</td>\n      <td>None</td>\n      <td>S</td>\n    </tr>\n    <tr>\n      <th>1</th>\n      <td>2</td>\n      <td>1</td>\n      <td>1</td>\n      <td>Cumings, Mrs. John Bradley (Florence Briggs Th...</td>\n      <td>female</td>\n      <td>38.0</td>\n      <td>1</td>\n      <td>0</td>\n      <td>PC 17599</td>\n      <td>71.2833</td>\n      <td>C85</td>\n      <td>C</td>\n    </tr>\n    <tr>\n      <th>2</th>\n      <td>3</td>\n      <td>1</td>\n      <td>3</td>\n      <td>Heikkinen, Miss. Laina</td>\n      <td>female</td>\n      <td>26.0</td>\n      <td>0</td>\n      <td>0</td>\n      <td>STON/O2. 3</td>\n      <td>7.9250</td>\n      <td>None</td>\n      <td>S</td>\n    </tr>\n    <tr>\n      <th>3</th>\n      <td>4</td>\n      <td>1</td>\n      <td>1</td>\n      <td>Futrelle, Mrs. Jacques Heath (Lily May Peel)</td>\n      <td>female</td>\n      <td>35.0</td>\n      <td>1</td>\n      <td>0</td>\n      <td>113803</td>\n      <td>53.1000</td>\n      <td>C123</td>\n      <td>S</td>\n    </tr>\n    <tr>\n      <th>4</th>\n      <td>5</td>\n      <td>0</td>\n      <td>3</td>\n      <td>Allen, Mr. William Henry</td>\n      <td>male</td>\n      <td>35.0</td>\n      <td>0</td>\n      <td>0</td>\n      <td>373450</td>\n      <td>8.0500</td>\n      <td>None</td>\n      <td>S</td>\n    </tr>\n  </tbody>\n</table>\n</div>"
                    },
                    "metadata": {},
                    "execution_count": 1,
                    "output_type": "execute_result"
                }
            ],
            "execution_count": 1
        },
        {
            "cell_type": "markdown",
            "source": [
                "## Let's determine x independent variables. For example, will your sex, Age, Fare etc etc  affect your survival rate?"
            ],
            "metadata": {
                "azdata_cell_guid": "7c1773ee-5d85-4777-a7ce-92681eb7c988"
            }
        },
        {
            "cell_type": "code",
            "source": [
                "# STEP 2: \r\n",
                "# Is your survival dependent on your Passenger Class i.e. First Class, Second Class Passenger etc etc? \r\n",
                "# We can coclusively say that you are 3 times more likely to die if you are  in 3rd class cabin and more likely to survive if you are in first class cabin.\r\n",
                "\r\n",
                "df4 = df.groupby([\"Survived\",\"Pclass\"]).agg({'Pclass': ['count']})\r\n",
                "df4"
            ],
            "metadata": {
                "azdata_cell_guid": "ba3b9879-6670-4e47-9bcf-cf2cf2baa73f"
            },
            "outputs": [
                {
                    "data": {
                        "text/plain": "                Pclass\n                 count\nSurvived Pclass       \n0        1          55\n         2          68\n         3         207\n1        1          91\n         2          67\n         3          67",
                        "text/html": "<div>\n<style scoped>\n    .dataframe tbody tr th:only-of-type {\n        vertical-align: middle;\n    }\n\n    .dataframe tbody tr th {\n        vertical-align: top;\n    }\n\n    .dataframe thead tr th {\n        text-align: left;\n    }\n\n    .dataframe thead tr:last-of-type th {\n        text-align: right;\n    }\n</style>\n<table border=\"1\" class=\"dataframe\">\n  <thead>\n    <tr>\n      <th></th>\n      <th></th>\n      <th>Pclass</th>\n    </tr>\n    <tr>\n      <th></th>\n      <th></th>\n      <th>count</th>\n    </tr>\n    <tr>\n      <th>Survived</th>\n      <th>Pclass</th>\n      <th></th>\n    </tr>\n  </thead>\n  <tbody>\n    <tr>\n      <th rowspan=\"3\" valign=\"top\">0</th>\n      <th>1</th>\n      <td>55</td>\n    </tr>\n    <tr>\n      <th>2</th>\n      <td>68</td>\n    </tr>\n    <tr>\n      <th>3</th>\n      <td>207</td>\n    </tr>\n    <tr>\n      <th rowspan=\"3\" valign=\"top\">1</th>\n      <th>1</th>\n      <td>91</td>\n    </tr>\n    <tr>\n      <th>2</th>\n      <td>67</td>\n    </tr>\n    <tr>\n      <th>3</th>\n      <td>67</td>\n    </tr>\n  </tbody>\n</table>\n</div>"
                    },
                    "metadata": {},
                    "execution_count": 2,
                    "output_type": "execute_result"
                }
            ],
            "execution_count": 2
        },
        {
            "cell_type": "code",
            "source": [
                "# Is your survival dependent on fare paid? \r\n",
                "# We can coclusively say that you have a better chance of surviving if your fare was high. This fits in perfectly well with the passenger class above.\r\n",
                "df5 = df.groupby([\"Survived\"]).agg({'Fare': ['mean']})\r\n",
                "df5"
            ],
            "metadata": {
                "azdata_cell_guid": "96842b0a-7599-4569-8c03-d044f6edcb49"
            },
            "outputs": [
                {
                    "data": {
                        "text/plain": "               Fare\n               mean\nSurvived           \n0         24.967094\n1         49.461205",
                        "text/html": "<div>\n<style scoped>\n    .dataframe tbody tr th:only-of-type {\n        vertical-align: middle;\n    }\n\n    .dataframe tbody tr th {\n        vertical-align: top;\n    }\n\n    .dataframe thead tr th {\n        text-align: left;\n    }\n\n    .dataframe thead tr:last-of-type th {\n        text-align: right;\n    }\n</style>\n<table border=\"1\" class=\"dataframe\">\n  <thead>\n    <tr>\n      <th></th>\n      <th>Fare</th>\n    </tr>\n    <tr>\n      <th></th>\n      <th>mean</th>\n    </tr>\n    <tr>\n      <th>Survived</th>\n      <th></th>\n    </tr>\n  </thead>\n  <tbody>\n    <tr>\n      <th>0</th>\n      <td>24.967094</td>\n    </tr>\n    <tr>\n      <th>1</th>\n      <td>49.461205</td>\n    </tr>\n  </tbody>\n</table>\n</div>"
                    },
                    "metadata": {},
                    "execution_count": 3,
                    "output_type": "execute_result"
                }
            ],
            "execution_count": 3
        },
        {
            "cell_type": "code",
            "source": [
                "# As can be seen from the scattered plot, you cannot conclusively say that Age was a factor when considering survival of passengers.\r\n",
                "# We will explore more options to finally conclude whether Age was a factor.\r\n",
                "plt.xlabel('Age in Years')\r\n",
                "plt.ylabel('Survived?')\r\n",
                "plt.scatter(df.Age,df.Survived, color = 'red', marker= '*')"
            ],
            "metadata": {
                "azdata_cell_guid": "eee86065-0e82-4469-a162-810b89790758"
            },
            "outputs": [
                {
                    "data": {
                        "text/plain": "<matplotlib.collections.PathCollection at 0x2b04dc8eda0>"
                    },
                    "metadata": {},
                    "execution_count": 4,
                    "output_type": "execute_result"
                },
                {
                    "data": {
                        "text/plain": "<Figure size 432x288 with 1 Axes>",
                        "image/png": "[encoded data removed]"
                    },
                    "metadata": {
                        "needs_background": "light"
                    },
                    "output_type": "display_data"
                }
            ],
            "execution_count": 4
        },
        {
            "cell_type": "code",
            "source": [
                "# Let's use AgeBand. Note that this method authomatically takes care of null Age.\r\n",
                "\r\n",
                "# add AgeBand column\r\n",
                "#pd.set_option('mode.chained_assignment', None) # use with caution. To get rid of warning\r\n",
                "df2 = df\r\n",
                "df2[\"AgeBand\"] = \"Band 8\"\r\n",
                "df2[\"AgeBand\"][df2[\"Age\"] < 10] = \"Band 1\"\r\n",
                "df2[\"AgeBand\"][ (df2[\"Age\"] >= 10)  &(df2[\"Age\"] < 20 )] = \"Band 2\"\r\n",
                "df2[\"AgeBand\"][ (df2[\"Age\"] >= 20) & (df2[\"Age\"] < 30) ] = \"Band 3\"\r\n",
                "df2[\"AgeBand\"][ (df2[\"Age\"] >= 30) & (df2[\"Age\"] < 40) ] = \"Band 4\"\r\n",
                "df2[\"AgeBand\"][ (df2[\"Age\"] >= 40) & (df2[\"Age\"] < 50) ] = \"Band 5\"\r\n",
                "df2[\"AgeBand\"][ (df2[\"Age\"] >= 50) & (df2[\"Age\"] < 60) ] = \"Band 6\"\r\n",
                "df2[\"AgeBand\"][ (df2[\"Age\"] >= 60) & (df2[\"Age\"] < 70) ] = \"Band 7\"\r\n",
                "df2.head()"
            ],
            "metadata": {
                "azdata_cell_guid": "256ad441-f56e-4641-8ec0-ccab445252bc"
            },
            "outputs": [
                {
                    "name": "stderr",
                    "text": "C:\\Users\\tej_j\\AppData\\Roaming\\Python\\Python36\\site-packages\\ipykernel_launcher.py:7: SettingWithCopyWarning: \nA value is trying to be set on a copy of a slice from a DataFrame\n\nSee the caveats in the documentation: https://pandas.pydata.org/pandas-docs/stable/user_guide/indexing.html#returning-a-view-versus-a-copy\n  import sys\nC:\\Users\\tej_j\\AppData\\Roaming\\Python\\Python36\\site-packages\\ipykernel_launcher.py:8: SettingWithCopyWarning: \nA value is trying to be set on a copy of a slice from a DataFrame\n\nSee the caveats in the documentation: https://pandas.pydata.org/pandas-docs/stable/user_guide/indexing.html#returning-a-view-versus-a-copy\n  \nC:\\Users\\tej_j\\AppData\\Roaming\\Python\\Python36\\site-packages\\ipykernel_launcher.py:9: SettingWithCopyWarning: \nA value is trying to be set on a copy of a slice from a DataFrame\n\nSee the caveats in the documentation: https://pandas.pydata.org/pandas-docs/stable/user_guide/indexing.html#returning-a-view-versus-a-copy\n  if __name__ == '__main__':\nC:\\Users\\tej_j\\AppData\\Roaming\\Python\\Python36\\site-packages\\ipykernel_launcher.py:10: SettingWithCopyWarning: \nA value is trying to be set on a copy of a slice from a DataFrame\n\nSee the caveats in the documentation: https://pandas.pydata.org/pandas-docs/stable/user_guide/indexing.html#returning-a-view-versus-a-copy\n  # Remove the CWD from sys.path while we load stuff.\nC:\\Users\\tej_j\\AppData\\Roaming\\Python\\Python36\\site-packages\\ipykernel_launcher.py:11: SettingWithCopyWarning: \nA value is trying to be set on a copy of a slice from a DataFrame\n\nSee the caveats in the documentation: https://pandas.pydata.org/pandas-docs/stable/user_guide/indexing.html#returning-a-view-versus-a-copy\n  # This is added back by InteractiveShellApp.init_path()\nC:\\Users\\tej_j\\AppData\\Roaming\\Python\\Python36\\site-packages\\ipykernel_launcher.py:12: SettingWithCopyWarning: \nA value is trying to be set on a copy of a slice from a DataFrame\n\nSee the caveats in the documentation: https://pandas.pydata.org/pandas-docs/stable/user_guide/indexing.html#returning-a-view-versus-a-copy\n  if sys.path[0] == '':\nC:\\Users\\tej_j\\AppData\\Roaming\\Python\\Python36\\site-packages\\ipykernel_launcher.py:13: SettingWithCopyWarning: \nA value is trying to be set on a copy of a slice from a DataFrame\n\nSee the caveats in the documentation: https://pandas.pydata.org/pandas-docs/stable/user_guide/indexing.html#returning-a-view-versus-a-copy\n  del sys.path[0]\n",
                    "output_type": "stream"
                },
                {
                    "data": {
                        "text/plain": "   PassengerId  Survived  Pclass  \\\n0            1         0       3   \n1            2         1       1   \n2            3         1       3   \n3            4         1       1   \n4            5         0       3   \n\n                                                Name         Sex   Age  \\\n0                            Braund, Mr. Owen Harris  male        22.0   \n1  Cumings, Mrs. John Bradley (Florence Briggs Th...  female      38.0   \n2                             Heikkinen, Miss. Laina  female      26.0   \n3       Futrelle, Mrs. Jacques Heath (Lily May Peel)  female      35.0   \n4                           Allen, Mr. William Henry  male        35.0   \n\n        SibSp       Parch      Ticket     Fare       Cabin    Embarked AgeBand  \n0  1           0           A/5 21171    7.2500        None  S           Band 3  \n1  1           0           PC 17599    71.2833  C85         C           Band 4  \n2  0           0           STON/O2. 3   7.9250        None  S           Band 3  \n3  1           0           113803      53.1000  C123        S           Band 4  \n4  0           0           373450       8.0500        None  S           Band 4  ",
                        "text/html": "<div>\n<style scoped>\n    .dataframe tbody tr th:only-of-type {\n        vertical-align: middle;\n    }\n\n    .dataframe tbody tr th {\n        vertical-align: top;\n    }\n\n    .dataframe thead th {\n        text-align: right;\n    }\n</style>\n<table border=\"1\" class=\"dataframe\">\n  <thead>\n    <tr style=\"text-align: right;\">\n      <th></th>\n      <th>PassengerId</th>\n      <th>Survived</th>\n      <th>Pclass</th>\n      <th>Name</th>\n      <th>Sex</th>\n      <th>Age</th>\n      <th>SibSp</th>\n      <th>Parch</th>\n      <th>Ticket</th>\n      <th>Fare</th>\n      <th>Cabin</th>\n      <th>Embarked</th>\n      <th>AgeBand</th>\n    </tr>\n  </thead>\n  <tbody>\n    <tr>\n      <th>0</th>\n      <td>1</td>\n      <td>0</td>\n      <td>3</td>\n      <td>Braund, Mr. Owen Harris</td>\n      <td>male</td>\n      <td>22.0</td>\n      <td>1</td>\n      <td>0</td>\n      <td>A/5 21171</td>\n      <td>7.2500</td>\n      <td>None</td>\n      <td>S</td>\n      <td>Band 3</td>\n    </tr>\n    <tr>\n      <th>1</th>\n      <td>2</td>\n      <td>1</td>\n      <td>1</td>\n      <td>Cumings, Mrs. John Bradley (Florence Briggs Th...</td>\n      <td>female</td>\n      <td>38.0</td>\n      <td>1</td>\n      <td>0</td>\n      <td>PC 17599</td>\n      <td>71.2833</td>\n      <td>C85</td>\n      <td>C</td>\n      <td>Band 4</td>\n    </tr>\n    <tr>\n      <th>2</th>\n      <td>3</td>\n      <td>1</td>\n      <td>3</td>\n      <td>Heikkinen, Miss. Laina</td>\n      <td>female</td>\n      <td>26.0</td>\n      <td>0</td>\n      <td>0</td>\n      <td>STON/O2. 3</td>\n      <td>7.9250</td>\n      <td>None</td>\n      <td>S</td>\n      <td>Band 3</td>\n    </tr>\n    <tr>\n      <th>3</th>\n      <td>4</td>\n      <td>1</td>\n      <td>1</td>\n      <td>Futrelle, Mrs. Jacques Heath (Lily May Peel)</td>\n      <td>female</td>\n      <td>35.0</td>\n      <td>1</td>\n      <td>0</td>\n      <td>113803</td>\n      <td>53.1000</td>\n      <td>C123</td>\n      <td>S</td>\n      <td>Band 4</td>\n    </tr>\n    <tr>\n      <th>4</th>\n      <td>5</td>\n      <td>0</td>\n      <td>3</td>\n      <td>Allen, Mr. William Henry</td>\n      <td>male</td>\n      <td>35.0</td>\n      <td>0</td>\n      <td>0</td>\n      <td>373450</td>\n      <td>8.0500</td>\n      <td>None</td>\n      <td>S</td>\n      <td>Band 4</td>\n    </tr>\n  </tbody>\n</table>\n</div>"
                    },
                    "metadata": {},
                    "execution_count": 5,
                    "output_type": "execute_result"
                }
            ],
            "execution_count": 5
        },
        {
            "cell_type": "code",
            "source": [
                "df3 = df2.groupby([\"Survived\",\"AgeBand\"]).agg({'AgeBand': ['count']})\r\n",
                "df3\r\n",
                "\r\n",
                "# From using AgeBand with groupby, we can conclusively say that :\r\n",
                "# You are more like to survive if you are less than 10 years old (Band 1) oherwise, you are more likely to be dead.\r\n",
                "\r\n",
                "\r\n",
                ""
            ],
            "metadata": {
                "azdata_cell_guid": "93eae0e1-19b2-4867-8380-4c2bd3d214ef"
            },
            "outputs": [
                {
                    "data": {
                        "text/plain": "                 AgeBand\n                   count\nSurvived AgeBand        \n0        Band 1       19\n         Band 2       45\n         Band 3      112\n         Band 4       66\n         Band 5       46\n         Band 6       25\n         Band 7       13\n         Band 8        4\n1        Band 1       28\n         Band 2       31\n         Band 3       62\n         Band 4       59\n         Band 5       24\n         Band 6       15\n         Band 7        5\n         Band 8        1",
                        "text/html": "<div>\n<style scoped>\n    .dataframe tbody tr th:only-of-type {\n        vertical-align: middle;\n    }\n\n    .dataframe tbody tr th {\n        vertical-align: top;\n    }\n\n    .dataframe thead tr th {\n        text-align: left;\n    }\n\n    .dataframe thead tr:last-of-type th {\n        text-align: right;\n    }\n</style>\n<table border=\"1\" class=\"dataframe\">\n  <thead>\n    <tr>\n      <th></th>\n      <th></th>\n      <th>AgeBand</th>\n    </tr>\n    <tr>\n      <th></th>\n      <th></th>\n      <th>count</th>\n    </tr>\n    <tr>\n      <th>Survived</th>\n      <th>AgeBand</th>\n      <th></th>\n    </tr>\n  </thead>\n  <tbody>\n    <tr>\n      <th rowspan=\"8\" valign=\"top\">0</th>\n      <th>Band 1</th>\n      <td>19</td>\n    </tr>\n    <tr>\n      <th>Band 2</th>\n      <td>45</td>\n    </tr>\n    <tr>\n      <th>Band 3</th>\n      <td>112</td>\n    </tr>\n    <tr>\n      <th>Band 4</th>\n      <td>66</td>\n    </tr>\n    <tr>\n      <th>Band 5</th>\n      <td>46</td>\n    </tr>\n    <tr>\n      <th>Band 6</th>\n      <td>25</td>\n    </tr>\n    <tr>\n      <th>Band 7</th>\n      <td>13</td>\n    </tr>\n    <tr>\n      <th>Band 8</th>\n      <td>4</td>\n    </tr>\n    <tr>\n      <th rowspan=\"8\" valign=\"top\">1</th>\n      <th>Band 1</th>\n      <td>28</td>\n    </tr>\n    <tr>\n      <th>Band 2</th>\n      <td>31</td>\n    </tr>\n    <tr>\n      <th>Band 3</th>\n      <td>62</td>\n    </tr>\n    <tr>\n      <th>Band 4</th>\n      <td>59</td>\n    </tr>\n    <tr>\n      <th>Band 5</th>\n      <td>24</td>\n    </tr>\n    <tr>\n      <th>Band 6</th>\n      <td>15</td>\n    </tr>\n    <tr>\n      <th>Band 7</th>\n      <td>5</td>\n    </tr>\n    <tr>\n      <th>Band 8</th>\n      <td>1</td>\n    </tr>\n  </tbody>\n</table>\n</div>"
                    },
                    "metadata": {},
                    "execution_count": 6,
                    "output_type": "execute_result"
                }
            ],
            "execution_count": 6
        },
        {
            "cell_type": "code",
            "source": [
                "# Is your survival dependent on your gender?  Going the SQL way, if you are more comfortable with SQL\r\n",
                "# We can coclusively say that you are 4 times more likely to survive if you are female.\r\n",
                "conn_str = pyodbc.connect('Driver={SQL Server};' 'Server=LAPTOP-CHKIB79A;''Database=Tutorial;''Trusted_Connection=yes;')\r\n",
                "query_str1 = \"SELECT * FROM [Tutorial].[dbo].[SurvivalStats]\" # table loaded from LoadSurvival Stored Procedure\r\n",
                "df1 = pd.read_sql(sql=query_str1, con=conn_str)\r\n",
                "df1.head()"
            ],
            "metadata": {
                "azdata_cell_guid": "99ededca-231f-46e9-ac75-a3b8d434e4ac"
            },
            "outputs": [
                {
                    "data": {
                        "text/plain": "   MaleSurvived  TotalMale  PercentageOfMaleSurvived  FemaledSurvived  \\\n0          85.0      449.0                 18.930958            186.0   \n\n   TotalFemale  PercentageOfFemaleSurvived  TotalPassenger  \\\n0        251.0                   74.103586           700.0   \n\n   PercentageOfFemale  PercentageOfMale  \n0           35.857143         64.142857  ",
                        "text/html": "<div>\n<style scoped>\n    .dataframe tbody tr th:only-of-type {\n        vertical-align: middle;\n    }\n\n    .dataframe tbody tr th {\n        vertical-align: top;\n    }\n\n    .dataframe thead th {\n        text-align: right;\n    }\n</style>\n<table border=\"1\" class=\"dataframe\">\n  <thead>\n    <tr style=\"text-align: right;\">\n      <th></th>\n      <th>MaleSurvived</th>\n      <th>TotalMale</th>\n      <th>PercentageOfMaleSurvived</th>\n      <th>FemaledSurvived</th>\n      <th>TotalFemale</th>\n      <th>PercentageOfFemaleSurvived</th>\n      <th>TotalPassenger</th>\n      <th>PercentageOfFemale</th>\n      <th>PercentageOfMale</th>\n    </tr>\n  </thead>\n  <tbody>\n    <tr>\n      <th>0</th>\n      <td>85.0</td>\n      <td>449.0</td>\n      <td>18.930958</td>\n      <td>186.0</td>\n      <td>251.0</td>\n      <td>74.103586</td>\n      <td>700.0</td>\n      <td>35.857143</td>\n      <td>64.142857</td>\n    </tr>\n  </tbody>\n</table>\n</div>"
                    },
                    "metadata": {},
                    "execution_count": 7,
                    "output_type": "execute_result"
                }
            ],
            "execution_count": 7
        },
        {
            "cell_type": "markdown",
            "source": [
                "## Now that we know our independent variables x to be Age,Sex,Fare and PClass, we have to convert sex from text to an integer. We can either use get_dummies or LabelEncoder"
            ],
            "metadata": {
                "azdata_cell_guid": "8a3bec24-c45c-44ca-9ed5-c1d7940c5753"
            }
        },
        {
            "cell_type": "code",
            "source": [
                "# STEP 3:\r\n",
                "# Let's convert sex from text to an integer using LabelEncoder\r\n",
                "le_sex = LabelEncoder() # get LabelEncoder() class\r\n",
                "df['sex_n'] = le_sex.fit_transform(df['Sex']) # add new column sex_n to your dataframe and fit transform\r\n",
                "df.head()"
            ],
            "metadata": {
                "azdata_cell_guid": "61ec5ddf-d3a3-4c98-84b8-551a96746a10",
                "tags": []
            },
            "outputs": [
                {
                    "data": {
                        "text/plain": "   PassengerId  Survived  Pclass  \\\n0            1         0       3   \n1            2         1       1   \n2            3         1       3   \n3            4         1       1   \n4            5         0       3   \n\n                                                Name         Sex   Age  \\\n0                            Braund, Mr. Owen Harris  male        22.0   \n1  Cumings, Mrs. John Bradley (Florence Briggs Th...  female      38.0   \n2                             Heikkinen, Miss. Laina  female      26.0   \n3       Futrelle, Mrs. Jacques Heath (Lily May Peel)  female      35.0   \n4                           Allen, Mr. William Henry  male        35.0   \n\n        SibSp       Parch      Ticket     Fare       Cabin    Embarked  \\\n0  1           0           A/5 21171    7.2500        None  S            \n1  1           0           PC 17599    71.2833  C85         C            \n2  0           0           STON/O2. 3   7.9250        None  S            \n3  1           0           113803      53.1000  C123        S            \n4  0           0           373450       8.0500        None  S            \n\n  AgeBand  sex_n  \n0  Band 3      1  \n1  Band 4      0  \n2  Band 3      0  \n3  Band 4      0  \n4  Band 4      1  ",
                        "text/html": "<div>\n<style scoped>\n    .dataframe tbody tr th:only-of-type {\n        vertical-align: middle;\n    }\n\n    .dataframe tbody tr th {\n        vertical-align: top;\n    }\n\n    .dataframe thead th {\n        text-align: right;\n    }\n</style>\n<table border=\"1\" class=\"dataframe\">\n  <thead>\n    <tr style=\"text-align: right;\">\n      <th></th>\n      <th>PassengerId</th>\n      <th>Survived</th>\n      <th>Pclass</th>\n      <th>Name</th>\n      <th>Sex</th>\n      <th>Age</th>\n      <th>SibSp</th>\n      <th>Parch</th>\n      <th>Ticket</th>\n      <th>Fare</th>\n      <th>Cabin</th>\n      <th>Embarked</th>\n      <th>AgeBand</th>\n      <th>sex_n</th>\n    </tr>\n  </thead>\n  <tbody>\n    <tr>\n      <th>0</th>\n      <td>1</td>\n      <td>0</td>\n      <td>3</td>\n      <td>Braund, Mr. Owen Harris</td>\n      <td>male</td>\n      <td>22.0</td>\n      <td>1</td>\n      <td>0</td>\n      <td>A/5 21171</td>\n      <td>7.2500</td>\n      <td>None</td>\n      <td>S</td>\n      <td>Band 3</td>\n      <td>1</td>\n    </tr>\n    <tr>\n      <th>1</th>\n      <td>2</td>\n      <td>1</td>\n      <td>1</td>\n      <td>Cumings, Mrs. John Bradley (Florence Briggs Th...</td>\n      <td>female</td>\n      <td>38.0</td>\n      <td>1</td>\n      <td>0</td>\n      <td>PC 17599</td>\n      <td>71.2833</td>\n      <td>C85</td>\n      <td>C</td>\n      <td>Band 4</td>\n      <td>0</td>\n    </tr>\n    <tr>\n      <th>2</th>\n      <td>3</td>\n      <td>1</td>\n      <td>3</td>\n      <td>Heikkinen, Miss. Laina</td>\n      <td>female</td>\n      <td>26.0</td>\n      <td>0</td>\n      <td>0</td>\n      <td>STON/O2. 3</td>\n      <td>7.9250</td>\n      <td>None</td>\n      <td>S</td>\n      <td>Band 3</td>\n      <td>0</td>\n    </tr>\n    <tr>\n      <th>3</th>\n      <td>4</td>\n      <td>1</td>\n      <td>1</td>\n      <td>Futrelle, Mrs. Jacques Heath (Lily May Peel)</td>\n      <td>female</td>\n      <td>35.0</td>\n      <td>1</td>\n      <td>0</td>\n      <td>113803</td>\n      <td>53.1000</td>\n      <td>C123</td>\n      <td>S</td>\n      <td>Band 4</td>\n      <td>0</td>\n    </tr>\n    <tr>\n      <th>4</th>\n      <td>5</td>\n      <td>0</td>\n      <td>3</td>\n      <td>Allen, Mr. William Henry</td>\n      <td>male</td>\n      <td>35.0</td>\n      <td>0</td>\n      <td>0</td>\n      <td>373450</td>\n      <td>8.0500</td>\n      <td>None</td>\n      <td>S</td>\n      <td>Band 4</td>\n      <td>1</td>\n    </tr>\n  </tbody>\n</table>\n</div>"
                    },
                    "metadata": {},
                    "execution_count": 8,
                    "output_type": "execute_result"
                }
            ],
            "execution_count": 8
        },
        {
            "cell_type": "code",
            "source": [
                "x = df.drop(['PassengerId', 'Survived','Name','Sex','SibSp','Parch','Ticket','Cabin','Embarked','AgeBand'], axis = 'columns')\r\n",
                "x.head(5)"
            ],
            "metadata": {
                "azdata_cell_guid": "235e08da-25e4-4981-8680-383301f30999"
            },
            "outputs": [
                {
                    "data": {
                        "text/plain": "   Pclass   Age     Fare  sex_n\n0       3  22.0   7.2500      1\n1       1  38.0  71.2833      0\n2       3  26.0   7.9250      0\n3       1  35.0  53.1000      0\n4       3  35.0   8.0500      1",
                        "text/html": "<div>\n<style scoped>\n    .dataframe tbody tr th:only-of-type {\n        vertical-align: middle;\n    }\n\n    .dataframe tbody tr th {\n        vertical-align: top;\n    }\n\n    .dataframe thead th {\n        text-align: right;\n    }\n</style>\n<table border=\"1\" class=\"dataframe\">\n  <thead>\n    <tr style=\"text-align: right;\">\n      <th></th>\n      <th>Pclass</th>\n      <th>Age</th>\n      <th>Fare</th>\n      <th>sex_n</th>\n    </tr>\n  </thead>\n  <tbody>\n    <tr>\n      <th>0</th>\n      <td>3</td>\n      <td>22.0</td>\n      <td>7.2500</td>\n      <td>1</td>\n    </tr>\n    <tr>\n      <th>1</th>\n      <td>1</td>\n      <td>38.0</td>\n      <td>71.2833</td>\n      <td>0</td>\n    </tr>\n    <tr>\n      <th>2</th>\n      <td>3</td>\n      <td>26.0</td>\n      <td>7.9250</td>\n      <td>0</td>\n    </tr>\n    <tr>\n      <th>3</th>\n      <td>1</td>\n      <td>35.0</td>\n      <td>53.1000</td>\n      <td>0</td>\n    </tr>\n    <tr>\n      <th>4</th>\n      <td>3</td>\n      <td>35.0</td>\n      <td>8.0500</td>\n      <td>1</td>\n    </tr>\n  </tbody>\n</table>\n</div>"
                    },
                    "metadata": {},
                    "execution_count": 9,
                    "output_type": "execute_result"
                }
            ],
            "execution_count": 9
        },
        {
            "cell_type": "code",
            "source": [
                "y = df.Survived\r\n",
                "y.head()"
            ],
            "metadata": {
                "azdata_cell_guid": "aba27901-9757-4c37-899d-9e361612ac4c"
            },
            "outputs": [
                {
                    "data": {
                        "text/plain": "0    0\n1    1\n2    1\n3    1\n4    0\nName: Survived, dtype: int64"
                    },
                    "metadata": {},
                    "execution_count": 10,
                    "output_type": "execute_result"
                }
            ],
            "execution_count": 10
        },
        {
            "cell_type": "code",
            "source": [
                "# STEP 4: train and fit your model to use available datasets.\r\n",
                "\r\n",
                "x_train, x_test, y_train, y_test = train_test_split(x, y, test_size=0.3, random_state=0) \r\n",
                "reg = tree.DecisionTreeClassifier() # get decision tree classification object\r\n",
                "reg.fit(x_train,y_train) # fit your decision tree classification object model. "
            ],
            "metadata": {
                "azdata_cell_guid": "99d0e8dc-557b-4c6b-95f4-cdb862abc3f0"
            },
            "outputs": [
                {
                    "data": {
                        "text/plain": "DecisionTreeClassifier()"
                    },
                    "metadata": {},
                    "execution_count": 11,
                    "output_type": "execute_result"
                }
            ],
            "execution_count": 11
        },
        {
            "cell_type": "code",
            "source": [
                "# let's make some prediction and check accuracy of the model\r\n",
                "\r\n",
                "y_predict = reg.predict(x_test)\r\n",
                "print(\"The predictions are :\",y_predict)\r\n",
                "\r\n",
                "test_predict = reg.predict([[1,52,80,0]])\r\n",
                "print(\"The prediction for first class passenger, 52 years old female that paid £80 is :\"  ,test_predict)\r\n",
                "r2 = reg.score(x_test,y_test)\r\n",
                "print(\"The accuracy of the model is :\" ,r2)"
            ],
            "metadata": {
                "azdata_cell_guid": "6049cbcd-1885-41c0-8246-2697d6553e5f"
            },
            "outputs": [
                {
                    "name": "stdout",
                    "text": "The predictions are : [0 1 1 0 0 1 0 0 0 1 1 0 0 1 0 1 0 0 1 1 1 0 0 0 0 1 0 1 0 0 1 1 0 0 0 0 0\n 1 1 0 0 0 0 1 0 1 0 0 1 0 0 1 0 1 1 0 0 1 0 0 0 1 0 0 1 1 0 0 0 1 0 1 1 0\n 0 0 1 0 0 0 1 0 0 0 1 0 0 0 1 1 0 0 0 1 1 1 0 0 1 0 0 0 1 0 0 0 1 1 1 1 0\n 0 0 1 0 0 0 0 0 0 0 1 0 0 1 0 1 1 1 1 0 0 0 1 1 0 0 1 0 0 0 1 0 1 1 0 0 0\n 1 1 0 1 1 1 0 0 0 1 1 0 0 1 1 1 0 0 0]\nThe prediction for first class passenger, 52 years old female that paid £80 is : [1]\nThe accuracy of the model is : 0.7664670658682635\n",
                    "output_type": "stream"
                }
            ],
            "execution_count": 12
        },
        {
            "cell_type": "markdown",
            "source": [
                "## The accuracy of the model is 75%. Is there anything we can do to improve this accuracy?"
            ],
            "metadata": {
                "azdata_cell_guid": "6b1fecf4-34df-441f-962f-5d2eec0a9d62"
            }
        },
        {
            "cell_type": "code",
            "source": [
                "# Let's try and drop Age from the model and rebuild the model?\r\n",
                "\r\n",
                "x1 = x.drop(['Age'], axis = 'columns')\r\n",
                "x1.head()"
            ],
            "metadata": {
                "azdata_cell_guid": "edf4c35f-0012-4eed-b035-48a9362d25b4",
                "tags": []
            },
            "outputs": [
                {
                    "data": {
                        "text/plain": "   Pclass     Fare  sex_n\n0       3   7.2500      1\n1       1  71.2833      0\n2       3   7.9250      0\n3       1  53.1000      0\n4       3   8.0500      1",
                        "text/html": "<div>\n<style scoped>\n    .dataframe tbody tr th:only-of-type {\n        vertical-align: middle;\n    }\n\n    .dataframe tbody tr th {\n        vertical-align: top;\n    }\n\n    .dataframe thead th {\n        text-align: right;\n    }\n</style>\n<table border=\"1\" class=\"dataframe\">\n  <thead>\n    <tr style=\"text-align: right;\">\n      <th></th>\n      <th>Pclass</th>\n      <th>Fare</th>\n      <th>sex_n</th>\n    </tr>\n  </thead>\n  <tbody>\n    <tr>\n      <th>0</th>\n      <td>3</td>\n      <td>7.2500</td>\n      <td>1</td>\n    </tr>\n    <tr>\n      <th>1</th>\n      <td>1</td>\n      <td>71.2833</td>\n      <td>0</td>\n    </tr>\n    <tr>\n      <th>2</th>\n      <td>3</td>\n      <td>7.9250</td>\n      <td>0</td>\n    </tr>\n    <tr>\n      <th>3</th>\n      <td>1</td>\n      <td>53.1000</td>\n      <td>0</td>\n    </tr>\n    <tr>\n      <th>4</th>\n      <td>3</td>\n      <td>8.0500</td>\n      <td>1</td>\n    </tr>\n  </tbody>\n</table>\n</div>"
                    },
                    "metadata": {},
                    "execution_count": 13,
                    "output_type": "execute_result"
                }
            ],
            "execution_count": 13
        },
        {
            "cell_type": "code",
            "source": [
                "x_train, x_test, y_train, y_test = train_test_split(x1, y, test_size=0.3, random_state=0) \r\n",
                "reg1 = tree.DecisionTreeClassifier() # get decision tree classification object\r\n",
                "reg1.fit(x_train,y_train) # fit your decision tree classification object model. "
            ],
            "metadata": {
                "azdata_cell_guid": "0babd7ab-5499-4658-bf27-c86b21a1142d"
            },
            "outputs": [
                {
                    "data": {
                        "text/plain": "DecisionTreeClassifier()"
                    },
                    "metadata": {},
                    "execution_count": 14,
                    "output_type": "execute_result"
                }
            ],
            "execution_count": 14
        },
        {
            "cell_type": "code",
            "source": [
                "# let's make some prediction and check accuracy of the new model.\r\n",
                "# The accuracy of the new model without Age is 80%. \r\n",
                " \r\n",
                "y_predict1 = reg1.predict(x_test)\r\n",
                "print(\"The predictions are :\",y_predict1)\r\n",
                "\r\n",
                "test_predict = reg1.predict([[1,80,0]])\r\n",
                "print(\"The prediction for first class female passenger that paid £80 is :\"  ,test_predict)\r\n",
                "r = reg1.score(x_test,y_test)\r\n",
                "print(\"The accuracy of the model is :\" ,r)"
            ],
            "metadata": {
                "azdata_cell_guid": "6693c602-0515-41ee-963b-3ed22e0498f9"
            },
            "outputs": [
                {
                    "name": "stdout",
                    "text": "The predictions are : [0 0 0 0 1 0 0 0 0 1 1 0 0 1 0 0 0 0 1 1 1 0 0 0 0 1 0 1 1 0 0 1 0 0 1 0 0\n 1 0 0 0 0 0 1 0 1 1 0 0 0 0 1 0 1 0 0 0 1 0 0 0 1 0 0 1 1 0 0 0 1 0 1 1 0\n 0 0 1 0 0 0 1 0 0 0 0 1 0 0 1 1 0 0 0 1 1 1 0 0 1 0 0 0 0 0 0 0 0 1 1 1 0\n 0 1 0 0 0 0 0 0 1 0 1 1 0 1 0 0 1 1 0 0 1 0 0 1 0 0 1 0 0 0 1 0 1 0 1 0 0\n 1 1 0 1 0 1 0 0 0 1 0 0 0 1 0 1 0 0 1]\nThe prediction for first class female passenger that paid £80 is : [1]\nThe accuracy of the model is : 0.8023952095808383\n",
                    "output_type": "stream"
                }
            ],
            "execution_count": 15
        },
        {
            "cell_type": "markdown",
            "source": [
                "## We know that excluding Age improves the model. What happened if we use AgeBand instead of Age in the model?"
            ],
            "metadata": {
                "azdata_cell_guid": "e70b868f-04fc-476e-9f99-94ed52487c0c"
            }
        },
        {
            "cell_type": "code",
            "source": [
                "# Let's convert AgeBand from text to an integer using LabelEncoder\r\n",
                "df_n = df2\r\n",
                "le_age = LabelEncoder() # get LabelEncoder() class\r\n",
                "df_n['Age_n'] = le_age.fit_transform(df['AgeBand']) # add new column le_age to your dataframe and fit transform\r\n",
                "df_n.head(6)"
            ],
            "metadata": {
                "azdata_cell_guid": "a6091028-bdcc-4439-a27f-8556f7790cdd"
            },
            "outputs": [
                {
                    "data": {
                        "text/plain": "   PassengerId  Survived  Pclass  \\\n0            1         0       3   \n1            2         1       1   \n2            3         1       3   \n3            4         1       1   \n4            5         0       3   \n5            7         0       1   \n\n                                                Name         Sex   Age  \\\n0                            Braund, Mr. Owen Harris  male        22.0   \n1  Cumings, Mrs. John Bradley (Florence Briggs Th...  female      38.0   \n2                             Heikkinen, Miss. Laina  female      26.0   \n3       Futrelle, Mrs. Jacques Heath (Lily May Peel)  female      35.0   \n4                           Allen, Mr. William Henry  male        35.0   \n5                            McCarthy, Mr. Timothy J  male        54.0   \n\n        SibSp       Parch      Ticket     Fare       Cabin    Embarked  \\\n0  1           0           A/5 21171    7.2500        None  S            \n1  1           0           PC 17599    71.2833  C85         C            \n2  0           0           STON/O2. 3   7.9250        None  S            \n3  1           0           113803      53.1000  C123        S            \n4  0           0           373450       8.0500        None  S            \n5  0           0           17463       51.8625  E46         S            \n\n  AgeBand  sex_n  Age_n  \n0  Band 3      1      2  \n1  Band 4      0      3  \n2  Band 3      0      2  \n3  Band 4      0      3  \n4  Band 4      1      3  \n5  Band 6      1      5  ",
                        "text/html": "<div>\n<style scoped>\n    .dataframe tbody tr th:only-of-type {\n        vertical-align: middle;\n    }\n\n    .dataframe tbody tr th {\n        vertical-align: top;\n    }\n\n    .dataframe thead th {\n        text-align: right;\n    }\n</style>\n<table border=\"1\" class=\"dataframe\">\n  <thead>\n    <tr style=\"text-align: right;\">\n      <th></th>\n      <th>PassengerId</th>\n      <th>Survived</th>\n      <th>Pclass</th>\n      <th>Name</th>\n      <th>Sex</th>\n      <th>Age</th>\n      <th>SibSp</th>\n      <th>Parch</th>\n      <th>Ticket</th>\n      <th>Fare</th>\n      <th>Cabin</th>\n      <th>Embarked</th>\n      <th>AgeBand</th>\n      <th>sex_n</th>\n      <th>Age_n</th>\n    </tr>\n  </thead>\n  <tbody>\n    <tr>\n      <th>0</th>\n      <td>1</td>\n      <td>0</td>\n      <td>3</td>\n      <td>Braund, Mr. Owen Harris</td>\n      <td>male</td>\n      <td>22.0</td>\n      <td>1</td>\n      <td>0</td>\n      <td>A/5 21171</td>\n      <td>7.2500</td>\n      <td>None</td>\n      <td>S</td>\n      <td>Band 3</td>\n      <td>1</td>\n      <td>2</td>\n    </tr>\n    <tr>\n      <th>1</th>\n      <td>2</td>\n      <td>1</td>\n      <td>1</td>\n      <td>Cumings, Mrs. John Bradley (Florence Briggs Th...</td>\n      <td>female</td>\n      <td>38.0</td>\n      <td>1</td>\n      <td>0</td>\n      <td>PC 17599</td>\n      <td>71.2833</td>\n      <td>C85</td>\n      <td>C</td>\n      <td>Band 4</td>\n      <td>0</td>\n      <td>3</td>\n    </tr>\n    <tr>\n      <th>2</th>\n      <td>3</td>\n      <td>1</td>\n      <td>3</td>\n      <td>Heikkinen, Miss. Laina</td>\n      <td>female</td>\n      <td>26.0</td>\n      <td>0</td>\n      <td>0</td>\n      <td>STON/O2. 3</td>\n      <td>7.9250</td>\n      <td>None</td>\n      <td>S</td>\n      <td>Band 3</td>\n      <td>0</td>\n      <td>2</td>\n    </tr>\n    <tr>\n      <th>3</th>\n      <td>4</td>\n      <td>1</td>\n      <td>1</td>\n      <td>Futrelle, Mrs. Jacques Heath (Lily May Peel)</td>\n      <td>female</td>\n      <td>35.0</td>\n      <td>1</td>\n      <td>0</td>\n      <td>113803</td>\n      <td>53.1000</td>\n      <td>C123</td>\n      <td>S</td>\n      <td>Band 4</td>\n      <td>0</td>\n      <td>3</td>\n    </tr>\n    <tr>\n      <th>4</th>\n      <td>5</td>\n      <td>0</td>\n      <td>3</td>\n      <td>Allen, Mr. William Henry</td>\n      <td>male</td>\n      <td>35.0</td>\n      <td>0</td>\n      <td>0</td>\n      <td>373450</td>\n      <td>8.0500</td>\n      <td>None</td>\n      <td>S</td>\n      <td>Band 4</td>\n      <td>1</td>\n      <td>3</td>\n    </tr>\n    <tr>\n      <th>5</th>\n      <td>7</td>\n      <td>0</td>\n      <td>1</td>\n      <td>McCarthy, Mr. Timothy J</td>\n      <td>male</td>\n      <td>54.0</td>\n      <td>0</td>\n      <td>0</td>\n      <td>17463</td>\n      <td>51.8625</td>\n      <td>E46</td>\n      <td>S</td>\n      <td>Band 6</td>\n      <td>1</td>\n      <td>5</td>\n    </tr>\n  </tbody>\n</table>\n</div>"
                    },
                    "metadata": {},
                    "execution_count": 16,
                    "output_type": "execute_result"
                }
            ],
            "execution_count": 16
        },
        {
            "cell_type": "code",
            "source": [
                "# Let's add AgeBand to our new x\r\n",
                "\r\n",
                "x2 = pd.concat([x1,df_n.Age_n], axis = 'columns')\r\n",
                "x2.head()"
            ],
            "metadata": {
                "azdata_cell_guid": "3c86b974-0a35-42bc-9387-547123f98cfe"
            },
            "outputs": [
                {
                    "data": {
                        "text/plain": "   Pclass     Fare  sex_n  Age_n\n0       3   7.2500      1      2\n1       1  71.2833      0      3\n2       3   7.9250      0      2\n3       1  53.1000      0      3\n4       3   8.0500      1      3",
                        "text/html": "<div>\n<style scoped>\n    .dataframe tbody tr th:only-of-type {\n        vertical-align: middle;\n    }\n\n    .dataframe tbody tr th {\n        vertical-align: top;\n    }\n\n    .dataframe thead th {\n        text-align: right;\n    }\n</style>\n<table border=\"1\" class=\"dataframe\">\n  <thead>\n    <tr style=\"text-align: right;\">\n      <th></th>\n      <th>Pclass</th>\n      <th>Fare</th>\n      <th>sex_n</th>\n      <th>Age_n</th>\n    </tr>\n  </thead>\n  <tbody>\n    <tr>\n      <th>0</th>\n      <td>3</td>\n      <td>7.2500</td>\n      <td>1</td>\n      <td>2</td>\n    </tr>\n    <tr>\n      <th>1</th>\n      <td>1</td>\n      <td>71.2833</td>\n      <td>0</td>\n      <td>3</td>\n    </tr>\n    <tr>\n      <th>2</th>\n      <td>3</td>\n      <td>7.9250</td>\n      <td>0</td>\n      <td>2</td>\n    </tr>\n    <tr>\n      <th>3</th>\n      <td>1</td>\n      <td>53.1000</td>\n      <td>0</td>\n      <td>3</td>\n    </tr>\n    <tr>\n      <th>4</th>\n      <td>3</td>\n      <td>8.0500</td>\n      <td>1</td>\n      <td>3</td>\n    </tr>\n  </tbody>\n</table>\n</div>"
                    },
                    "metadata": {},
                    "execution_count": 17,
                    "output_type": "execute_result"
                }
            ],
            "execution_count": 17
        },
        {
            "cell_type": "code",
            "source": [
                "x_train, x_test, y_train, y_test = train_test_split(x2, y, test_size=0.3, random_state=0) \r\n",
                "reg2 = tree.DecisionTreeClassifier() # get decision tree classification object\r\n",
                "reg2.fit(x_train,y_train) # fit your decision tree classification object model. "
            ],
            "metadata": {
                "azdata_cell_guid": "c3b82103-365a-4bb9-92cf-1dad5892a018"
            },
            "outputs": [
                {
                    "data": {
                        "text/plain": "DecisionTreeClassifier()"
                    },
                    "metadata": {},
                    "execution_count": 18,
                    "output_type": "execute_result"
                }
            ],
            "execution_count": 18
        },
        {
            "cell_type": "code",
            "source": [
                "# let's make some prediction and check accuracy of the model with AgeBand included\r\n",
                "# The accuracy of the new model with AgeBand is 78%. \r\n",
                "\r\n",
                "y_predict2 = reg2.predict(x_test)\r\n",
                "print(\"The predictions are :\",y_predict2)\r\n",
                "\r\n",
                "test_predict = reg2.predict([[1,80,0,5]])\r\n",
                "print(\"The prediction for first class passenger, AgeBand 6 female that paid £80 is :\"  ,test_predict)\r\n",
                "r3 = reg2.score(x_test,y_test)\r\n",
                "print(\"The accuracy of the model is :\" ,r3)"
            ],
            "metadata": {
                "azdata_cell_guid": "14f743fb-12f0-49f7-a18b-d4fcdd019778"
            },
            "outputs": [
                {
                    "name": "stdout",
                    "text": "The predictions are : [0 0 0 0 0 0 0 0 0 1 1 0 0 1 0 1 0 0 1 1 1 0 1 0 0 1 0 1 0 0 0 1 0 0 1 0 0\n 1 0 0 1 0 0 1 0 1 0 0 1 0 0 1 0 1 1 0 0 1 0 0 0 1 0 0 1 1 0 0 0 1 0 1 1 1\n 0 0 1 1 0 0 0 0 0 0 1 1 0 0 0 0 0 1 0 1 1 1 0 0 1 0 0 0 0 0 0 0 1 0 1 1 0\n 0 0 1 0 0 0 0 0 0 0 1 0 0 1 0 1 1 1 1 0 0 0 1 1 0 0 1 0 0 0 1 0 1 1 0 0 0\n 1 1 0 1 0 1 0 0 0 1 1 0 1 0 1 1 0 0 1]\nThe prediction for first class passenger, AgeBand 6 female that paid £80 is : [1]\nThe accuracy of the model is : 0.7964071856287425\n",
                    "output_type": "stream"
                }
            ],
            "execution_count": 19
        },
        {
            "cell_type": "markdown",
            "source": [
                "## The final conclusion is to use AgeBand in our model instead of using Age or leaving Age out completely."
            ],
            "metadata": {
                "azdata_cell_guid": "ee695a06-841a-4f24-bc33-f4eb0ae62574"
            }
        },
        {
            "cell_type": "markdown",
            "source": [
                "##  Finally, the interesting part. Let's get the sql table and predict whether a passenger will survive or die based on the various independent variables x."
            ],
            "metadata": {
                "azdata_cell_guid": "b266409f-2467-4c78-8e46-d82497b4d951"
            }
        },
        {
            "cell_type": "code",
            "source": [
                "# Let's get the query connection to the sql table\r\n",
                "\r\n",
                "query_str1 = \"SELECT * FROM [Tutorial].[dbo].[TitanicPrediction] Where Age is not null\"\r\n",
                "df_p = pd.read_sql(sql=query_str1, con=conn_str)\r\n",
                "df_p.head()"
            ],
            "metadata": {
                "azdata_cell_guid": "4f2ad7b0-29cb-4602-ba8a-2c41289a21fa"
            },
            "outputs": [
                {
                    "data": {
                        "text/plain": "   PassengerId Survived  Pclass  \\\n0          701     None       1   \n1          702     None       1   \n2          703     None       3   \n3          704     None       3   \n4          705     None       3   \n\n                                                Name         Sex   Age  \\\n0  Astor, Mrs. John Jacob (Madeleine Talmadge Force)  female      18.0   \n1                   Silverthorne, Mr. Spencer Victor  male        35.0   \n2                              Barbara, Miss. Saiide  female      18.0   \n3                              Gallagher, Mr. Martin  male        25.0   \n4                            Hansen, Mr. Henrik Juul  male        26.0   \n\n        SibSp       Parch      Ticket      Fare       Cabin Embarked  \n0  1           0           PC 17757    227.5250  C62 C64          C   \n1  0           0           PC 17475     26.2875  E24              S   \n2  0           1           2691         14.4542        None       C   \n3  0           0           36864         7.7417        None       Q   \n4  1           0           350025        7.8542        None       S   ",
                        "text/html": "<div>\n<style scoped>\n    .dataframe tbody tr th:only-of-type {\n        vertical-align: middle;\n    }\n\n    .dataframe tbody tr th {\n        vertical-align: top;\n    }\n\n    .dataframe thead th {\n        text-align: right;\n    }\n</style>\n<table border=\"1\" class=\"dataframe\">\n  <thead>\n    <tr style=\"text-align: right;\">\n      <th></th>\n      <th>PassengerId</th>\n      <th>Survived</th>\n      <th>Pclass</th>\n      <th>Name</th>\n      <th>Sex</th>\n      <th>Age</th>\n      <th>SibSp</th>\n      <th>Parch</th>\n      <th>Ticket</th>\n      <th>Fare</th>\n      <th>Cabin</th>\n      <th>Embarked</th>\n    </tr>\n  </thead>\n  <tbody>\n    <tr>\n      <th>0</th>\n      <td>701</td>\n      <td>None</td>\n      <td>1</td>\n      <td>Astor, Mrs. John Jacob (Madeleine Talmadge Force)</td>\n      <td>female</td>\n      <td>18.0</td>\n      <td>1</td>\n      <td>0</td>\n      <td>PC 17757</td>\n      <td>227.5250</td>\n      <td>C62 C64</td>\n      <td>C</td>\n    </tr>\n    <tr>\n      <th>1</th>\n      <td>702</td>\n      <td>None</td>\n      <td>1</td>\n      <td>Silverthorne, Mr. Spencer Victor</td>\n      <td>male</td>\n      <td>35.0</td>\n      <td>0</td>\n      <td>0</td>\n      <td>PC 17475</td>\n      <td>26.2875</td>\n      <td>E24</td>\n      <td>S</td>\n    </tr>\n    <tr>\n      <th>2</th>\n      <td>703</td>\n      <td>None</td>\n      <td>3</td>\n      <td>Barbara, Miss. Saiide</td>\n      <td>female</td>\n      <td>18.0</td>\n      <td>0</td>\n      <td>1</td>\n      <td>2691</td>\n      <td>14.4542</td>\n      <td>None</td>\n      <td>C</td>\n    </tr>\n    <tr>\n      <th>3</th>\n      <td>704</td>\n      <td>None</td>\n      <td>3</td>\n      <td>Gallagher, Mr. Martin</td>\n      <td>male</td>\n      <td>25.0</td>\n      <td>0</td>\n      <td>0</td>\n      <td>36864</td>\n      <td>7.7417</td>\n      <td>None</td>\n      <td>Q</td>\n    </tr>\n    <tr>\n      <th>4</th>\n      <td>705</td>\n      <td>None</td>\n      <td>3</td>\n      <td>Hansen, Mr. Henrik Juul</td>\n      <td>male</td>\n      <td>26.0</td>\n      <td>1</td>\n      <td>0</td>\n      <td>350025</td>\n      <td>7.8542</td>\n      <td>None</td>\n      <td>S</td>\n    </tr>\n  </tbody>\n</table>\n</div>"
                    },
                    "metadata": {},
                    "execution_count": 20,
                    "output_type": "execute_result"
                }
            ],
            "execution_count": 20
        },
        {
            "cell_type": "code",
            "source": [
                "# We only need Pclass, Sex, Age and Fare\r\n",
                "\r\n",
                "# Put Age in AgeBand and use LabelEncoder() class to turn text to integer.\r\n",
                "\r\n",
                "df_p[\"AgeBand\"] = \"Band 8\"\r\n",
                "df_p[\"AgeBand\"][df_p[\"Age\"] < 10] = \"Band 1\"\r\n",
                "df_p[\"AgeBand\"][ (df_p[\"Age\"] >= 10) &(df_p[\"Age\"] < 20 )] = \"Band 2\"\r\n",
                "df_p[\"AgeBand\"][ (df_p[\"Age\"] >= 20) & (df_p[\"Age\"] < 30) ] = \"Band 3\"\r\n",
                "df_p[\"AgeBand\"][ (df_p[\"Age\"] >= 30) & (df_p[\"Age\"] < 40) ] = \"Band 4\"\r\n",
                "df_p[\"AgeBand\"][ (df_p[\"Age\"] >= 40) & (df_p[\"Age\"] < 50) ] = \"Band 5\"\r\n",
                "df_p[\"AgeBand\"][ (df_p[\"Age\"] >= 50) & (df_p[\"Age\"] < 60) ] = \"Band 6\"\r\n",
                "df_p[\"AgeBand\"][ (df_p[\"Age\"] >= 60) & (df_p[\"Age\"] < 70) ] = \"Band 7\"\r\n",
                "df_p.head()"
            ],
            "metadata": {
                "azdata_cell_guid": "5fc5f35c-0ba5-4d4f-84ee-bac70e4e4510",
                "tags": []
            },
            "outputs": [
                {
                    "name": "stderr",
                    "text": "C:\\Users\\tej_j\\AppData\\Roaming\\Python\\Python36\\site-packages\\ipykernel_launcher.py:6: SettingWithCopyWarning: \nA value is trying to be set on a copy of a slice from a DataFrame\n\nSee the caveats in the documentation: https://pandas.pydata.org/pandas-docs/stable/user_guide/indexing.html#returning-a-view-versus-a-copy\n  \nC:\\Users\\tej_j\\AppData\\Roaming\\Python\\Python36\\site-packages\\ipykernel_launcher.py:7: SettingWithCopyWarning: \nA value is trying to be set on a copy of a slice from a DataFrame\n\nSee the caveats in the documentation: https://pandas.pydata.org/pandas-docs/stable/user_guide/indexing.html#returning-a-view-versus-a-copy\n  import sys\nC:\\Users\\tej_j\\AppData\\Roaming\\Python\\Python36\\site-packages\\ipykernel_launcher.py:8: SettingWithCopyWarning: \nA value is trying to be set on a copy of a slice from a DataFrame\n\nSee the caveats in the documentation: https://pandas.pydata.org/pandas-docs/stable/user_guide/indexing.html#returning-a-view-versus-a-copy\n  \nC:\\Users\\tej_j\\AppData\\Roaming\\Python\\Python36\\site-packages\\ipykernel_launcher.py:9: SettingWithCopyWarning: \nA value is trying to be set on a copy of a slice from a DataFrame\n\nSee the caveats in the documentation: https://pandas.pydata.org/pandas-docs/stable/user_guide/indexing.html#returning-a-view-versus-a-copy\n  if __name__ == '__main__':\nC:\\Users\\tej_j\\AppData\\Roaming\\Python\\Python36\\site-packages\\ipykernel_launcher.py:10: SettingWithCopyWarning: \nA value is trying to be set on a copy of a slice from a DataFrame\n\nSee the caveats in the documentation: https://pandas.pydata.org/pandas-docs/stable/user_guide/indexing.html#returning-a-view-versus-a-copy\n  # Remove the CWD from sys.path while we load stuff.\nC:\\Users\\tej_j\\AppData\\Roaming\\Python\\Python36\\site-packages\\ipykernel_launcher.py:11: SettingWithCopyWarning: \nA value is trying to be set on a copy of a slice from a DataFrame\n\nSee the caveats in the documentation: https://pandas.pydata.org/pandas-docs/stable/user_guide/indexing.html#returning-a-view-versus-a-copy\n  # This is added back by InteractiveShellApp.init_path()\nC:\\Users\\tej_j\\AppData\\Roaming\\Python\\Python36\\site-packages\\ipykernel_launcher.py:12: SettingWithCopyWarning: \nA value is trying to be set on a copy of a slice from a DataFrame\n\nSee the caveats in the documentation: https://pandas.pydata.org/pandas-docs/stable/user_guide/indexing.html#returning-a-view-versus-a-copy\n  if sys.path[0] == '':\n",
                    "output_type": "stream"
                },
                {
                    "data": {
                        "text/plain": "   PassengerId Survived  Pclass  \\\n0          701     None       1   \n1          702     None       1   \n2          703     None       3   \n3          704     None       3   \n4          705     None       3   \n\n                                                Name         Sex   Age  \\\n0  Astor, Mrs. John Jacob (Madeleine Talmadge Force)  female      18.0   \n1                   Silverthorne, Mr. Spencer Victor  male        35.0   \n2                              Barbara, Miss. Saiide  female      18.0   \n3                              Gallagher, Mr. Martin  male        25.0   \n4                            Hansen, Mr. Henrik Juul  male        26.0   \n\n        SibSp       Parch      Ticket      Fare       Cabin Embarked AgeBand  \n0  1           0           PC 17757    227.5250  C62 C64          C   Band 2  \n1  0           0           PC 17475     26.2875  E24              S   Band 4  \n2  0           1           2691         14.4542        None       C   Band 2  \n3  0           0           36864         7.7417        None       Q   Band 3  \n4  1           0           350025        7.8542        None       S   Band 3  ",
                        "text/html": "<div>\n<style scoped>\n    .dataframe tbody tr th:only-of-type {\n        vertical-align: middle;\n    }\n\n    .dataframe tbody tr th {\n        vertical-align: top;\n    }\n\n    .dataframe thead th {\n        text-align: right;\n    }\n</style>\n<table border=\"1\" class=\"dataframe\">\n  <thead>\n    <tr style=\"text-align: right;\">\n      <th></th>\n      <th>PassengerId</th>\n      <th>Survived</th>\n      <th>Pclass</th>\n      <th>Name</th>\n      <th>Sex</th>\n      <th>Age</th>\n      <th>SibSp</th>\n      <th>Parch</th>\n      <th>Ticket</th>\n      <th>Fare</th>\n      <th>Cabin</th>\n      <th>Embarked</th>\n      <th>AgeBand</th>\n    </tr>\n  </thead>\n  <tbody>\n    <tr>\n      <th>0</th>\n      <td>701</td>\n      <td>None</td>\n      <td>1</td>\n      <td>Astor, Mrs. John Jacob (Madeleine Talmadge Force)</td>\n      <td>female</td>\n      <td>18.0</td>\n      <td>1</td>\n      <td>0</td>\n      <td>PC 17757</td>\n      <td>227.5250</td>\n      <td>C62 C64</td>\n      <td>C</td>\n      <td>Band 2</td>\n    </tr>\n    <tr>\n      <th>1</th>\n      <td>702</td>\n      <td>None</td>\n      <td>1</td>\n      <td>Silverthorne, Mr. Spencer Victor</td>\n      <td>male</td>\n      <td>35.0</td>\n      <td>0</td>\n      <td>0</td>\n      <td>PC 17475</td>\n      <td>26.2875</td>\n      <td>E24</td>\n      <td>S</td>\n      <td>Band 4</td>\n    </tr>\n    <tr>\n      <th>2</th>\n      <td>703</td>\n      <td>None</td>\n      <td>3</td>\n      <td>Barbara, Miss. Saiide</td>\n      <td>female</td>\n      <td>18.0</td>\n      <td>0</td>\n      <td>1</td>\n      <td>2691</td>\n      <td>14.4542</td>\n      <td>None</td>\n      <td>C</td>\n      <td>Band 2</td>\n    </tr>\n    <tr>\n      <th>3</th>\n      <td>704</td>\n      <td>None</td>\n      <td>3</td>\n      <td>Gallagher, Mr. Martin</td>\n      <td>male</td>\n      <td>25.0</td>\n      <td>0</td>\n      <td>0</td>\n      <td>36864</td>\n      <td>7.7417</td>\n      <td>None</td>\n      <td>Q</td>\n      <td>Band 3</td>\n    </tr>\n    <tr>\n      <th>4</th>\n      <td>705</td>\n      <td>None</td>\n      <td>3</td>\n      <td>Hansen, Mr. Henrik Juul</td>\n      <td>male</td>\n      <td>26.0</td>\n      <td>1</td>\n      <td>0</td>\n      <td>350025</td>\n      <td>7.8542</td>\n      <td>None</td>\n      <td>S</td>\n      <td>Band 3</td>\n    </tr>\n  </tbody>\n</table>\n</div>"
                    },
                    "metadata": {},
                    "execution_count": 21,
                    "output_type": "execute_result"
                }
            ],
            "execution_count": 21
        },
        {
            "cell_type": "code",
            "source": [
                "# Let's modify Sex and AgeBand by turning them from text to an integer.\r\n",
                "age_p = LabelEncoder()\r\n",
                "sex_p = LabelEncoder()\r\n",
                "df_p['AgeBracket'] = age_p.fit_transform(df_p['AgeBand'])\r\n",
                "df_p['Sex_n'] = sex_p.fit_transform(df_p['Sex'])\r\n",
                "df_p.head()"
            ],
            "metadata": {
                "azdata_cell_guid": "9d599e01-82cc-40f6-9c16-c700a74dd7bc"
            },
            "outputs": [
                {
                    "data": {
                        "text/plain": "   PassengerId Survived  Pclass  \\\n0          701     None       1   \n1          702     None       1   \n2          703     None       3   \n3          704     None       3   \n4          705     None       3   \n\n                                                Name         Sex   Age  \\\n0  Astor, Mrs. John Jacob (Madeleine Talmadge Force)  female      18.0   \n1                   Silverthorne, Mr. Spencer Victor  male        35.0   \n2                              Barbara, Miss. Saiide  female      18.0   \n3                              Gallagher, Mr. Martin  male        25.0   \n4                            Hansen, Mr. Henrik Juul  male        26.0   \n\n        SibSp       Parch      Ticket      Fare       Cabin Embarked AgeBand  \\\n0  1           0           PC 17757    227.5250  C62 C64          C   Band 2   \n1  0           0           PC 17475     26.2875  E24              S   Band 4   \n2  0           1           2691         14.4542        None       C   Band 2   \n3  0           0           36864         7.7417        None       Q   Band 3   \n4  1           0           350025        7.8542        None       S   Band 3   \n\n   AgeBracket  Sex_n  \n0           1      0  \n1           3      1  \n2           1      0  \n3           2      1  \n4           2      1  ",
                        "text/html": "<div>\n<style scoped>\n    .dataframe tbody tr th:only-of-type {\n        vertical-align: middle;\n    }\n\n    .dataframe tbody tr th {\n        vertical-align: top;\n    }\n\n    .dataframe thead th {\n        text-align: right;\n    }\n</style>\n<table border=\"1\" class=\"dataframe\">\n  <thead>\n    <tr style=\"text-align: right;\">\n      <th></th>\n      <th>PassengerId</th>\n      <th>Survived</th>\n      <th>Pclass</th>\n      <th>Name</th>\n      <th>Sex</th>\n      <th>Age</th>\n      <th>SibSp</th>\n      <th>Parch</th>\n      <th>Ticket</th>\n      <th>Fare</th>\n      <th>Cabin</th>\n      <th>Embarked</th>\n      <th>AgeBand</th>\n      <th>AgeBracket</th>\n      <th>Sex_n</th>\n    </tr>\n  </thead>\n  <tbody>\n    <tr>\n      <th>0</th>\n      <td>701</td>\n      <td>None</td>\n      <td>1</td>\n      <td>Astor, Mrs. John Jacob (Madeleine Talmadge Force)</td>\n      <td>female</td>\n      <td>18.0</td>\n      <td>1</td>\n      <td>0</td>\n      <td>PC 17757</td>\n      <td>227.5250</td>\n      <td>C62 C64</td>\n      <td>C</td>\n      <td>Band 2</td>\n      <td>1</td>\n      <td>0</td>\n    </tr>\n    <tr>\n      <th>1</th>\n      <td>702</td>\n      <td>None</td>\n      <td>1</td>\n      <td>Silverthorne, Mr. Spencer Victor</td>\n      <td>male</td>\n      <td>35.0</td>\n      <td>0</td>\n      <td>0</td>\n      <td>PC 17475</td>\n      <td>26.2875</td>\n      <td>E24</td>\n      <td>S</td>\n      <td>Band 4</td>\n      <td>3</td>\n      <td>1</td>\n    </tr>\n    <tr>\n      <th>2</th>\n      <td>703</td>\n      <td>None</td>\n      <td>3</td>\n      <td>Barbara, Miss. Saiide</td>\n      <td>female</td>\n      <td>18.0</td>\n      <td>0</td>\n      <td>1</td>\n      <td>2691</td>\n      <td>14.4542</td>\n      <td>None</td>\n      <td>C</td>\n      <td>Band 2</td>\n      <td>1</td>\n      <td>0</td>\n    </tr>\n    <tr>\n      <th>3</th>\n      <td>704</td>\n      <td>None</td>\n      <td>3</td>\n      <td>Gallagher, Mr. Martin</td>\n      <td>male</td>\n      <td>25.0</td>\n      <td>0</td>\n      <td>0</td>\n      <td>36864</td>\n      <td>7.7417</td>\n      <td>None</td>\n      <td>Q</td>\n      <td>Band 3</td>\n      <td>2</td>\n      <td>1</td>\n    </tr>\n    <tr>\n      <th>4</th>\n      <td>705</td>\n      <td>None</td>\n      <td>3</td>\n      <td>Hansen, Mr. Henrik Juul</td>\n      <td>male</td>\n      <td>26.0</td>\n      <td>1</td>\n      <td>0</td>\n      <td>350025</td>\n      <td>7.8542</td>\n      <td>None</td>\n      <td>S</td>\n      <td>Band 3</td>\n      <td>2</td>\n      <td>1</td>\n    </tr>\n  </tbody>\n</table>\n</div>"
                    },
                    "metadata": {},
                    "execution_count": 22,
                    "output_type": "execute_result"
                }
            ],
            "execution_count": 22
        },
        {
            "cell_type": "code",
            "source": [
                "# Let's get our independent variable x for the predicted table\r\n",
                "\r\n",
                "x_p = df_p.drop(['PassengerId','Survived','Name','Sex','Age','SibSp','Parch','Ticket','Cabin','Embarked','AgeBand'], axis = 'columns')\r\n",
                "x_p.head()"
            ],
            "metadata": {
                "azdata_cell_guid": "564bb2d0-3e0f-43ca-bbab-c89c32df3db1"
            },
            "outputs": [
                {
                    "data": {
                        "text/plain": "   Pclass      Fare  AgeBracket  Sex_n\n0       1  227.5250           1      0\n1       1   26.2875           3      1\n2       3   14.4542           1      0\n3       3    7.7417           2      1\n4       3    7.8542           2      1",
                        "text/html": "<div>\n<style scoped>\n    .dataframe tbody tr th:only-of-type {\n        vertical-align: middle;\n    }\n\n    .dataframe tbody tr th {\n        vertical-align: top;\n    }\n\n    .dataframe thead th {\n        text-align: right;\n    }\n</style>\n<table border=\"1\" class=\"dataframe\">\n  <thead>\n    <tr style=\"text-align: right;\">\n      <th></th>\n      <th>Pclass</th>\n      <th>Fare</th>\n      <th>AgeBracket</th>\n      <th>Sex_n</th>\n    </tr>\n  </thead>\n  <tbody>\n    <tr>\n      <th>0</th>\n      <td>1</td>\n      <td>227.5250</td>\n      <td>1</td>\n      <td>0</td>\n    </tr>\n    <tr>\n      <th>1</th>\n      <td>1</td>\n      <td>26.2875</td>\n      <td>3</td>\n      <td>1</td>\n    </tr>\n    <tr>\n      <th>2</th>\n      <td>3</td>\n      <td>14.4542</td>\n      <td>1</td>\n      <td>0</td>\n    </tr>\n    <tr>\n      <th>3</th>\n      <td>3</td>\n      <td>7.7417</td>\n      <td>2</td>\n      <td>1</td>\n    </tr>\n    <tr>\n      <th>4</th>\n      <td>3</td>\n      <td>7.8542</td>\n      <td>2</td>\n      <td>1</td>\n    </tr>\n  </tbody>\n</table>\n</div>"
                    },
                    "metadata": {},
                    "execution_count": 23,
                    "output_type": "execute_result"
                }
            ],
            "execution_count": 23
        },
        {
            "cell_type": "markdown",
            "source": [
                "## It is extremely important to note that we must pass in x variables in our prediction table in the SAME order as x variables in our model i.e. reg2"
            ],
            "metadata": {
                "azdata_cell_guid": "2046ab50-666e-4796-9152-4b78c368d4a3"
            }
        },
        {
            "cell_type": "code",
            "source": [
                "# Let's make the columns to be in the same order as reg2.\r\n",
                "x_p = pd.concat([x_p.Pclass,x_p.Fare,x_p.Sex_n,x_p.AgeBracket], axis = 'columns')\r\n",
                "x_p.head()"
            ],
            "metadata": {
                "azdata_cell_guid": "74a4a422-123a-428a-8be9-509337d7c921"
            },
            "outputs": [
                {
                    "data": {
                        "text/plain": "   Pclass      Fare  Sex_n  AgeBracket\n0       1  227.5250      0           1\n1       1   26.2875      1           3\n2       3   14.4542      0           1\n3       3    7.7417      1           2\n4       3    7.8542      1           2",
                        "text/html": "<div>\n<style scoped>\n    .dataframe tbody tr th:only-of-type {\n        vertical-align: middle;\n    }\n\n    .dataframe tbody tr th {\n        vertical-align: top;\n    }\n\n    .dataframe thead th {\n        text-align: right;\n    }\n</style>\n<table border=\"1\" class=\"dataframe\">\n  <thead>\n    <tr style=\"text-align: right;\">\n      <th></th>\n      <th>Pclass</th>\n      <th>Fare</th>\n      <th>Sex_n</th>\n      <th>AgeBracket</th>\n    </tr>\n  </thead>\n  <tbody>\n    <tr>\n      <th>0</th>\n      <td>1</td>\n      <td>227.5250</td>\n      <td>0</td>\n      <td>1</td>\n    </tr>\n    <tr>\n      <th>1</th>\n      <td>1</td>\n      <td>26.2875</td>\n      <td>1</td>\n      <td>3</td>\n    </tr>\n    <tr>\n      <th>2</th>\n      <td>3</td>\n      <td>14.4542</td>\n      <td>0</td>\n      <td>1</td>\n    </tr>\n    <tr>\n      <th>3</th>\n      <td>3</td>\n      <td>7.7417</td>\n      <td>1</td>\n      <td>2</td>\n    </tr>\n    <tr>\n      <th>4</th>\n      <td>3</td>\n      <td>7.8542</td>\n      <td>1</td>\n      <td>2</td>\n    </tr>\n  </tbody>\n</table>\n</div>"
                    },
                    "metadata": {},
                    "execution_count": 24,
                    "output_type": "execute_result"
                }
            ],
            "execution_count": 24
        },
        {
            "cell_type": "code",
            "source": [
                "# let's make some prediction by passing x_p to predict function using reg2 model\r\n",
                "y_survived = reg2.predict(x_p)\r\n",
                "print(\"The predictions are :\",y_survived)"
            ],
            "metadata": {
                "azdata_cell_guid": "a0392706-fe12-4d11-bdd3-09262de0c205"
            },
            "outputs": [
                {
                    "name": "stdout",
                    "text": "The predictions are : [1 1 0 1 0 0 1 1 0 1 0 0 0 0 1 1 0 1 0 0 0 0 0 1 0 1 1 0 0 0 0 0 1 0 1 0 0\n 0 0 1 0 1 1 0 0 0 1 0 0 0 0 1 0 0 1 0 1 0 0 0 0 1 1 1 1 1 1 1 0 0 0 1 0 1\n 0 0 0 0 1 0 0 1 0 1 1 0 0 0 1 0 0 1 0 0 0 0 0 1 0 0 0 1 0 1 0 0 1 1 0 1 0\n 0 1 0 1 0 0 1 0 0 0 0 0 0 0 1 1 1 0 1 0 0 0 0 1 0 1 1 0 1 0 1 0 0 1 1 0 0\n 1 1 0 1 0 0 1 0 1 0 1]\n",
                    "output_type": "stream"
                }
            ],
            "execution_count": 25
        },
        {
            "cell_type": "code",
            "source": [
                "# let's add a column namely y_predict to our prediction table and assign the values of y_survived above to it.\r\n",
                "x_p['y_predict'] = y_survived\r\n",
                "x_p.head()"
            ],
            "metadata": {
                "azdata_cell_guid": "caff126f-d031-48bc-9823-18cee3fcadbc"
            },
            "outputs": [
                {
                    "data": {
                        "text/plain": "   Pclass      Fare  Sex_n  AgeBracket  y_predict\n0       1  227.5250      0           1          1\n1       1   26.2875      1           3          1\n2       3   14.4542      0           1          0\n3       3    7.7417      1           2          1\n4       3    7.8542      1           2          0",
                        "text/html": "<div>\n<style scoped>\n    .dataframe tbody tr th:only-of-type {\n        vertical-align: middle;\n    }\n\n    .dataframe tbody tr th {\n        vertical-align: top;\n    }\n\n    .dataframe thead th {\n        text-align: right;\n    }\n</style>\n<table border=\"1\" class=\"dataframe\">\n  <thead>\n    <tr style=\"text-align: right;\">\n      <th></th>\n      <th>Pclass</th>\n      <th>Fare</th>\n      <th>Sex_n</th>\n      <th>AgeBracket</th>\n      <th>y_predict</th>\n    </tr>\n  </thead>\n  <tbody>\n    <tr>\n      <th>0</th>\n      <td>1</td>\n      <td>227.5250</td>\n      <td>0</td>\n      <td>1</td>\n      <td>1</td>\n    </tr>\n    <tr>\n      <th>1</th>\n      <td>1</td>\n      <td>26.2875</td>\n      <td>1</td>\n      <td>3</td>\n      <td>1</td>\n    </tr>\n    <tr>\n      <th>2</th>\n      <td>3</td>\n      <td>14.4542</td>\n      <td>0</td>\n      <td>1</td>\n      <td>0</td>\n    </tr>\n    <tr>\n      <th>3</th>\n      <td>3</td>\n      <td>7.7417</td>\n      <td>1</td>\n      <td>2</td>\n      <td>1</td>\n    </tr>\n    <tr>\n      <th>4</th>\n      <td>3</td>\n      <td>7.8542</td>\n      <td>1</td>\n      <td>2</td>\n      <td>0</td>\n    </tr>\n  </tbody>\n</table>\n</div>"
                    },
                    "metadata": {},
                    "execution_count": 26,
                    "output_type": "execute_result"
                }
            ],
            "execution_count": 26
        },
        {
            "cell_type": "code",
            "source": [
                "# Let's add a column namely Status with value Predicted. This is to differentiate between actual and predicted values.\r\n",
                "\r\n",
                "x_p['Status'] = \"predicted\"\r\n",
                "x_p.head()"
            ],
            "metadata": {
                "azdata_cell_guid": "1c97b12c-1493-4e44-98ad-474500c0e5c2"
            },
            "outputs": [
                {
                    "data": {
                        "text/plain": "   Pclass      Fare  Sex_n  AgeBracket  y_predict     Status\n0       1  227.5250      0           1          1  predicted\n1       1   26.2875      1           3          1  predicted\n2       3   14.4542      0           1          0  predicted\n3       3    7.7417      1           2          1  predicted\n4       3    7.8542      1           2          0  predicted",
                        "text/html": "<div>\n<style scoped>\n    .dataframe tbody tr th:only-of-type {\n        vertical-align: middle;\n    }\n\n    .dataframe tbody tr th {\n        vertical-align: top;\n    }\n\n    .dataframe thead th {\n        text-align: right;\n    }\n</style>\n<table border=\"1\" class=\"dataframe\">\n  <thead>\n    <tr style=\"text-align: right;\">\n      <th></th>\n      <th>Pclass</th>\n      <th>Fare</th>\n      <th>Sex_n</th>\n      <th>AgeBracket</th>\n      <th>y_predict</th>\n      <th>Status</th>\n    </tr>\n  </thead>\n  <tbody>\n    <tr>\n      <th>0</th>\n      <td>1</td>\n      <td>227.5250</td>\n      <td>0</td>\n      <td>1</td>\n      <td>1</td>\n      <td>predicted</td>\n    </tr>\n    <tr>\n      <th>1</th>\n      <td>1</td>\n      <td>26.2875</td>\n      <td>1</td>\n      <td>3</td>\n      <td>1</td>\n      <td>predicted</td>\n    </tr>\n    <tr>\n      <th>2</th>\n      <td>3</td>\n      <td>14.4542</td>\n      <td>0</td>\n      <td>1</td>\n      <td>0</td>\n      <td>predicted</td>\n    </tr>\n    <tr>\n      <th>3</th>\n      <td>3</td>\n      <td>7.7417</td>\n      <td>1</td>\n      <td>2</td>\n      <td>1</td>\n      <td>predicted</td>\n    </tr>\n    <tr>\n      <th>4</th>\n      <td>3</td>\n      <td>7.8542</td>\n      <td>1</td>\n      <td>2</td>\n      <td>0</td>\n      <td>predicted</td>\n    </tr>\n  </tbody>\n</table>\n</div>"
                    },
                    "metadata": {},
                    "execution_count": 27,
                    "output_type": "execute_result"
                }
            ],
            "execution_count": 27
        },
        {
            "cell_type": "code",
            "source": [
                "# Let's rename Pclass and Fare column so that when we concat with df_p we wont have 2 columns with the same name.\r\n",
                "\r\n",
                "x_p.columns = ['Passengerclass','PassengerFare','Sex_n','AgeBracket','y_predict','Status']\r\n",
                "x_p.head()"
            ],
            "metadata": {
                "azdata_cell_guid": "cd8ecb27-3e2f-48b8-a989-9ec46a064a32"
            },
            "outputs": [
                {
                    "data": {
                        "text/plain": "   Passengerclass  PassengerFare  Sex_n  AgeBracket  y_predict     Status\n0               1       227.5250      0           1          1  predicted\n1               1        26.2875      1           3          1  predicted\n2               3        14.4542      0           1          0  predicted\n3               3         7.7417      1           2          1  predicted\n4               3         7.8542      1           2          0  predicted",
                        "text/html": "<div>\n<style scoped>\n    .dataframe tbody tr th:only-of-type {\n        vertical-align: middle;\n    }\n\n    .dataframe tbody tr th {\n        vertical-align: top;\n    }\n\n    .dataframe thead th {\n        text-align: right;\n    }\n</style>\n<table border=\"1\" class=\"dataframe\">\n  <thead>\n    <tr style=\"text-align: right;\">\n      <th></th>\n      <th>Passengerclass</th>\n      <th>PassengerFare</th>\n      <th>Sex_n</th>\n      <th>AgeBracket</th>\n      <th>y_predict</th>\n      <th>Status</th>\n    </tr>\n  </thead>\n  <tbody>\n    <tr>\n      <th>0</th>\n      <td>1</td>\n      <td>227.5250</td>\n      <td>0</td>\n      <td>1</td>\n      <td>1</td>\n      <td>predicted</td>\n    </tr>\n    <tr>\n      <th>1</th>\n      <td>1</td>\n      <td>26.2875</td>\n      <td>1</td>\n      <td>3</td>\n      <td>1</td>\n      <td>predicted</td>\n    </tr>\n    <tr>\n      <th>2</th>\n      <td>3</td>\n      <td>14.4542</td>\n      <td>0</td>\n      <td>1</td>\n      <td>0</td>\n      <td>predicted</td>\n    </tr>\n    <tr>\n      <th>3</th>\n      <td>3</td>\n      <td>7.7417</td>\n      <td>1</td>\n      <td>2</td>\n      <td>1</td>\n      <td>predicted</td>\n    </tr>\n    <tr>\n      <th>4</th>\n      <td>3</td>\n      <td>7.8542</td>\n      <td>1</td>\n      <td>2</td>\n      <td>0</td>\n      <td>predicted</td>\n    </tr>\n  </tbody>\n</table>\n</div>"
                    },
                    "metadata": {},
                    "execution_count": 28,
                    "output_type": "execute_result"
                }
            ],
            "execution_count": 28
        },
        {
            "cell_type": "code",
            "source": [
                "# Let's get all the dropped columns and concatinate with x_p so that we can get all the neccessary columns to map to our prediction table.\r\n",
                "\r\n",
                "column_merged = pd.concat([df_p,x_p], axis = 'columns')\r\n",
                "column_merged.head()"
            ],
            "metadata": {
                "azdata_cell_guid": "425bc6f9-ca4b-4993-af42-8f83d53555e7"
            },
            "outputs": [
                {
                    "data": {
                        "text/plain": "   PassengerId Survived  Pclass  \\\n0          701     None       1   \n1          702     None       1   \n2          703     None       3   \n3          704     None       3   \n4          705     None       3   \n\n                                                Name         Sex   Age  \\\n0  Astor, Mrs. John Jacob (Madeleine Talmadge Force)  female      18.0   \n1                   Silverthorne, Mr. Spencer Victor  male        35.0   \n2                              Barbara, Miss. Saiide  female      18.0   \n3                              Gallagher, Mr. Martin  male        25.0   \n4                            Hansen, Mr. Henrik Juul  male        26.0   \n\n        SibSp       Parch      Ticket      Fare  ... Embarked AgeBand  \\\n0  1           0           PC 17757    227.5250  ...       C   Band 2   \n1  0           0           PC 17475     26.2875  ...       S   Band 4   \n2  0           1           2691         14.4542  ...       C   Band 2   \n3  0           0           36864         7.7417  ...       Q   Band 3   \n4  1           0           350025        7.8542  ...       S   Band 3   \n\n   AgeBracket  Sex_n  Passengerclass  PassengerFare  Sex_n  AgeBracket  \\\n0           1      0               1       227.5250      0           1   \n1           3      1               1        26.2875      1           3   \n2           1      0               3        14.4542      0           1   \n3           2      1               3         7.7417      1           2   \n4           2      1               3         7.8542      1           2   \n\n   y_predict     Status  \n0          1  predicted  \n1          1  predicted  \n2          0  predicted  \n3          1  predicted  \n4          0  predicted  \n\n[5 rows x 21 columns]",
                        "text/html": "<div>\n<style scoped>\n    .dataframe tbody tr th:only-of-type {\n        vertical-align: middle;\n    }\n\n    .dataframe tbody tr th {\n        vertical-align: top;\n    }\n\n    .dataframe thead th {\n        text-align: right;\n    }\n</style>\n<table border=\"1\" class=\"dataframe\">\n  <thead>\n    <tr style=\"text-align: right;\">\n      <th></th>\n      <th>PassengerId</th>\n      <th>Survived</th>\n      <th>Pclass</th>\n      <th>Name</th>\n      <th>Sex</th>\n      <th>Age</th>\n      <th>SibSp</th>\n      <th>Parch</th>\n      <th>Ticket</th>\n      <th>Fare</th>\n      <th>...</th>\n      <th>Embarked</th>\n      <th>AgeBand</th>\n      <th>AgeBracket</th>\n      <th>Sex_n</th>\n      <th>Passengerclass</th>\n      <th>PassengerFare</th>\n      <th>Sex_n</th>\n      <th>AgeBracket</th>\n      <th>y_predict</th>\n      <th>Status</th>\n    </tr>\n  </thead>\n  <tbody>\n    <tr>\n      <th>0</th>\n      <td>701</td>\n      <td>None</td>\n      <td>1</td>\n      <td>Astor, Mrs. John Jacob (Madeleine Talmadge Force)</td>\n      <td>female</td>\n      <td>18.0</td>\n      <td>1</td>\n      <td>0</td>\n      <td>PC 17757</td>\n      <td>227.5250</td>\n      <td>...</td>\n      <td>C</td>\n      <td>Band 2</td>\n      <td>1</td>\n      <td>0</td>\n      <td>1</td>\n      <td>227.5250</td>\n      <td>0</td>\n      <td>1</td>\n      <td>1</td>\n      <td>predicted</td>\n    </tr>\n    <tr>\n      <th>1</th>\n      <td>702</td>\n      <td>None</td>\n      <td>1</td>\n      <td>Silverthorne, Mr. Spencer Victor</td>\n      <td>male</td>\n      <td>35.0</td>\n      <td>0</td>\n      <td>0</td>\n      <td>PC 17475</td>\n      <td>26.2875</td>\n      <td>...</td>\n      <td>S</td>\n      <td>Band 4</td>\n      <td>3</td>\n      <td>1</td>\n      <td>1</td>\n      <td>26.2875</td>\n      <td>1</td>\n      <td>3</td>\n      <td>1</td>\n      <td>predicted</td>\n    </tr>\n    <tr>\n      <th>2</th>\n      <td>703</td>\n      <td>None</td>\n      <td>3</td>\n      <td>Barbara, Miss. Saiide</td>\n      <td>female</td>\n      <td>18.0</td>\n      <td>0</td>\n      <td>1</td>\n      <td>2691</td>\n      <td>14.4542</td>\n      <td>...</td>\n      <td>C</td>\n      <td>Band 2</td>\n      <td>1</td>\n      <td>0</td>\n      <td>3</td>\n      <td>14.4542</td>\n      <td>0</td>\n      <td>1</td>\n      <td>0</td>\n      <td>predicted</td>\n    </tr>\n    <tr>\n      <th>3</th>\n      <td>704</td>\n      <td>None</td>\n      <td>3</td>\n      <td>Gallagher, Mr. Martin</td>\n      <td>male</td>\n      <td>25.0</td>\n      <td>0</td>\n      <td>0</td>\n      <td>36864</td>\n      <td>7.7417</td>\n      <td>...</td>\n      <td>Q</td>\n      <td>Band 3</td>\n      <td>2</td>\n      <td>1</td>\n      <td>3</td>\n      <td>7.7417</td>\n      <td>1</td>\n      <td>2</td>\n      <td>1</td>\n      <td>predicted</td>\n    </tr>\n    <tr>\n      <th>4</th>\n      <td>705</td>\n      <td>None</td>\n      <td>3</td>\n      <td>Hansen, Mr. Henrik Juul</td>\n      <td>male</td>\n      <td>26.0</td>\n      <td>1</td>\n      <td>0</td>\n      <td>350025</td>\n      <td>7.8542</td>\n      <td>...</td>\n      <td>S</td>\n      <td>Band 3</td>\n      <td>2</td>\n      <td>1</td>\n      <td>3</td>\n      <td>7.8542</td>\n      <td>1</td>\n      <td>2</td>\n      <td>0</td>\n      <td>predicted</td>\n    </tr>\n  </tbody>\n</table>\n<p>5 rows × 21 columns</p>\n</div>"
                    },
                    "metadata": {},
                    "execution_count": 29,
                    "output_type": "execute_result"
                }
            ],
            "execution_count": 29
        },
        {
            "cell_type": "code",
            "source": [
                "# let's drop some derived columns so that our final columns will look like the columns in the prediction table.\r\n",
                "\r\n",
                "column_merged1 = column_merged.drop(['AgeBand','AgeBracket','Sex_n','Passengerclass','PassengerFare','Sex_n','AgeBracket'], axis = 'columns')\r\n",
                "column_merged1.head()"
            ],
            "metadata": {
                "azdata_cell_guid": "94406e53-faef-4577-b629-7dcc1177548a"
            },
            "outputs": [
                {
                    "data": {
                        "text/plain": "   PassengerId Survived  Pclass  \\\n0          701     None       1   \n1          702     None       1   \n2          703     None       3   \n3          704     None       3   \n4          705     None       3   \n\n                                                Name         Sex   Age  \\\n0  Astor, Mrs. John Jacob (Madeleine Talmadge Force)  female      18.0   \n1                   Silverthorne, Mr. Spencer Victor  male        35.0   \n2                              Barbara, Miss. Saiide  female      18.0   \n3                              Gallagher, Mr. Martin  male        25.0   \n4                            Hansen, Mr. Henrik Juul  male        26.0   \n\n        SibSp       Parch      Ticket      Fare       Cabin Embarked  \\\n0  1           0           PC 17757    227.5250  C62 C64          C    \n1  0           0           PC 17475     26.2875  E24              S    \n2  0           1           2691         14.4542        None       C    \n3  0           0           36864         7.7417        None       Q    \n4  1           0           350025        7.8542        None       S    \n\n   y_predict     Status  \n0          1  predicted  \n1          1  predicted  \n2          0  predicted  \n3          1  predicted  \n4          0  predicted  ",
                        "text/html": "<div>\n<style scoped>\n    .dataframe tbody tr th:only-of-type {\n        vertical-align: middle;\n    }\n\n    .dataframe tbody tr th {\n        vertical-align: top;\n    }\n\n    .dataframe thead th {\n        text-align: right;\n    }\n</style>\n<table border=\"1\" class=\"dataframe\">\n  <thead>\n    <tr style=\"text-align: right;\">\n      <th></th>\n      <th>PassengerId</th>\n      <th>Survived</th>\n      <th>Pclass</th>\n      <th>Name</th>\n      <th>Sex</th>\n      <th>Age</th>\n      <th>SibSp</th>\n      <th>Parch</th>\n      <th>Ticket</th>\n      <th>Fare</th>\n      <th>Cabin</th>\n      <th>Embarked</th>\n      <th>y_predict</th>\n      <th>Status</th>\n    </tr>\n  </thead>\n  <tbody>\n    <tr>\n      <th>0</th>\n      <td>701</td>\n      <td>None</td>\n      <td>1</td>\n      <td>Astor, Mrs. John Jacob (Madeleine Talmadge Force)</td>\n      <td>female</td>\n      <td>18.0</td>\n      <td>1</td>\n      <td>0</td>\n      <td>PC 17757</td>\n      <td>227.5250</td>\n      <td>C62 C64</td>\n      <td>C</td>\n      <td>1</td>\n      <td>predicted</td>\n    </tr>\n    <tr>\n      <th>1</th>\n      <td>702</td>\n      <td>None</td>\n      <td>1</td>\n      <td>Silverthorne, Mr. Spencer Victor</td>\n      <td>male</td>\n      <td>35.0</td>\n      <td>0</td>\n      <td>0</td>\n      <td>PC 17475</td>\n      <td>26.2875</td>\n      <td>E24</td>\n      <td>S</td>\n      <td>1</td>\n      <td>predicted</td>\n    </tr>\n    <tr>\n      <th>2</th>\n      <td>703</td>\n      <td>None</td>\n      <td>3</td>\n      <td>Barbara, Miss. Saiide</td>\n      <td>female</td>\n      <td>18.0</td>\n      <td>0</td>\n      <td>1</td>\n      <td>2691</td>\n      <td>14.4542</td>\n      <td>None</td>\n      <td>C</td>\n      <td>0</td>\n      <td>predicted</td>\n    </tr>\n    <tr>\n      <th>3</th>\n      <td>704</td>\n      <td>None</td>\n      <td>3</td>\n      <td>Gallagher, Mr. Martin</td>\n      <td>male</td>\n      <td>25.0</td>\n      <td>0</td>\n      <td>0</td>\n      <td>36864</td>\n      <td>7.7417</td>\n      <td>None</td>\n      <td>Q</td>\n      <td>1</td>\n      <td>predicted</td>\n    </tr>\n    <tr>\n      <th>4</th>\n      <td>705</td>\n      <td>None</td>\n      <td>3</td>\n      <td>Hansen, Mr. Henrik Juul</td>\n      <td>male</td>\n      <td>26.0</td>\n      <td>1</td>\n      <td>0</td>\n      <td>350025</td>\n      <td>7.8542</td>\n      <td>None</td>\n      <td>S</td>\n      <td>0</td>\n      <td>predicted</td>\n    </tr>\n  </tbody>\n</table>\n</div>"
                    },
                    "metadata": {},
                    "execution_count": 30,
                    "output_type": "execute_result"
                }
            ],
            "execution_count": 30
        },
        {
            "cell_type": "code",
            "source": [
                "# lastly, insert predicted table into Titanic table\r\n",
                "cursor = conn_str.cursor()\r\n",
                "cursor.execute(\"EXEC [LoadTitanic]\") # truncate table and only load it with actual data.\r\n",
                "for i, row in column_merged1.iterrows():\r\n",
                " cursor.execute(\"INSERT INTO [Tutorial].[dbo].[Titanic]([PassengerId],[Survived],[Pclass],[Name], \\\r\n",
                " [Sex],[Age], [SibSp],[Parch], [Ticket],[Fare],[Cabin],[Embarked],[Status]) values(?,?,?,?,?,?,?,?,?,?,?,?,?)\", \r\n",
                " row['PassengerId'],row['y_predict'],row['Pclass'],row['Name'], row['Sex'],row['Age'],\\\r\n",
                " row['SibSp'],row['Parch'], row['Ticket'],row['Fare'], row['Cabin'], row['Embarked'], row['Status']) \r\n",
                "conn_str.commit()\r\n",
                "cursor.close()\r\n",
                "conn_str.close()"
            ],
            "metadata": {
                "azdata_cell_guid": "63ab509b-e59c-4167-9891-d14c690fc5aa"
            },
            "outputs": [],
            "execution_count": 31
        },
        {
            "cell_type": "code",
            "source": [
                ""
            ],
            "metadata": {
                "azdata_cell_guid": "74ae92c0-675d-4f2e-a4f4-39f1129c65ef"
            },
            "outputs": [],
            "execution_count": 31
        }
    ]
}