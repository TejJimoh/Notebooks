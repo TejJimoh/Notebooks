{
    "metadata": {
        "kernelspec": {
            "name": "python3",
            "display_name": "Python 3"
        },
        "language_info": {
            "name": "python",
            "version": "3.6.6",
            "mimetype": "text/x-python",
            "codemirror_mode": {
                "name": "ipython",
                "version": 3
            },
            "pygments_lexer": "ipython3",
            "nbconvert_exporter": "python",
            "file_extension": ".py"
        }
    },
    "nbformat_minor": 2,
    "nbformat": 4,
    "cells": [
        {
            "cell_type": "code",
            "source": [
                "import pandas as pd\r\n",
                "\r\n",
                "\r\n",
                "df = pd.read_csv('C:\\Python\\My Files\\Pokemon\\Pokemon_data.csv')\r\n",
                "\r\n",
                "# print top 3 of everything\r\n",
                "print(df.head(3)) \r\n",
                "\r\n",
                "# give me only the name column\r\n",
                "print(df['Name'].head(2)) \r\n",
                "\r\n",
                "# give me name and type 1 column: note the usage of double []\r\n",
                "print(df[['Name', 'Type 1']].head(2))\r\n",
                "\r\n",
                "## use iloc (initial location) as filter row\r\n",
                "\r\n",
                "# get the first row\r\n",
                "print(df.iloc[0])\r\n",
                "\r\n",
                "# get the first to the fouth row\r\n",
                "print(df.iloc[0:4])"
            ],
            "metadata": {
                "azdata_cell_guid": "52a269d4-cfff-4003-834d-0a7741ea58ae"
            },
            "outputs": [],
            "execution_count": null
        },
        {
            "cell_type": "code",
            "source": [
                "# use comma separated to get row and column. ie get me the 2nd \r\n",
                "#row of 1st column. Note that rows and columns are zero based index.\r\n",
                "\r\n",
                "print(df.iloc[2,1])\r\n",
                "\r\n",
                "# Another important function is loc . While iloc is used to get the \r\n",
                "# location, loc is use to get the actual data. It acts like a where clause.\r\n",
                "\r\n",
                "# give me everything where Type 1 = Fire\r\n",
                "df.loc[df['Type 1'] == \"Fire\"]\r\n",
                "\r\n",
                "# give me everything where Type 1 = Fire or  Grass\r\n",
                "df.loc[ (df['Type 1'] == \"Fire\")  | (df['Type 1'] == \"Grass\")  ]\r\n",
                "print(df.head(5))\r\n",
                "\r\n",
                "# give me everything where Type 1 = Fire and Type 2 =  Poison\r\n",
                "df.loc[ (df['Type 1'] == \"Fire\")  & (df['Type 2'] == \"Poison\")  ]\r\n",
                "print(df.head(5))\r\n",
                "\r\n",
                ""
            ],
            "metadata": {
                "azdata_cell_guid": "f01afebb-3c2f-49ea-8047-2c19207dfe14"
            },
            "outputs": [],
            "execution_count": null
        }
    ]
}