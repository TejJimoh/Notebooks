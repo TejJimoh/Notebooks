{
    "metadata": {
        "kernelspec": {
            "name": "python3",
            "display_name": "Python 3"
        },
        "language_info": {
            "name": "python",
            "version": "3.6.6",
            "mimetype": "text/x-python",
            "codemirror_mode": {
                "name": "ipython",
                "version": 3
            },
            "pygments_lexer": "ipython3",
            "nbconvert_exporter": "python",
            "file_extension": ".py"
        }
    },
    "nbformat_minor": 2,
    "nbformat": 4,
    "cells": [
        {
            "cell_type": "code",
            "source": [
                "# This is a good example of how to use Dummy Variables on Linear Regression. \r\n",
                "# Dummies function convert textual rows to integer columns\r\n",
                "import numpy as np\r\n",
                "import pandas as pd\r\n",
                "from sklearn import linear_model\r\n",
                "import matplotlib.pyplot as plt\r\n",
                "from sklearn.metrics import mean_squared_error, r2_score\r\n",
                "import pyodbc\r\n",
                "import math\r\n",
                "\r\n",
                "# Step 1: get your data from excel file and assign it to a pandas variable\r\n",
                "df = pd.read_csv(\"C:\\Python\\My Files\\CarPrices.csv\")\r\n",
                "\r\n",
                "# change column names for simplification purpose only.\r\n",
                "df.columns = ['Car_Model', 'Mileage', 'Sell_Price', 'Age'] \r\n",
                "\r\n",
                "\r\n",
                "# use get dummies to turn Car_Model rows to columns by calling get_dummies function of pandas library\r\n",
                "dummies = pd.get_dummies(df.Car_Model)\r\n",
                "dummies\r\n",
                "\r\n",
                "# merge the dataset using pandas function namely contact that takes in Lists arguments and specify axis as columns\r\n",
                "merged = pd.concat([df,dummies], axis = 'columns')\r\n",
                "merged\r\n",
                "\r\n",
                "# Now the next step is to always drop 2 objects. The first one is your textual column(s) and the second one is that by rule of thumb, you must drop\r\n",
                "# one of the dummy variable column. \r\n",
                "\r\n",
                "final = merged.drop(['Car_Model', 'BMW X5'], axis = 'columns')\r\n",
                "final\r\n",
                "\r\n",
                "# The step below is a cool way of getting all your independent x variables by simply droping dependent variable y from the dataframe.\r\n",
                "x = final.drop(['Sell_Price'], axis = 'columns')\r\n",
                "x\r\n",
                "y = df.Sell_Price\r\n",
                "y\r\n",
                "\r\n",
                "#let's test the shape of the Mileage\r\n",
                "plt.xlabel('Mileage')\r\n",
                "plt.ylabel('Price in $')\r\n",
                "plt.scatter(df.Mileage,y, color = 'red', marker= '*')\r\n",
                "\r\n",
                "# Step 3: fit your model to use available datasets.\r\n",
                "reg = linear_model.LinearRegression() # get linear regression object\r\n",
                "reg.fit(x,y) # fit your linear regression model.\r\n",
                "\r\n",
                "y_pred = reg.predict(x)\r\n",
                "y_predict = reg.predict([[45000,4,0,1]])\r\n",
                "print(\"4 years old Mercedes of 45,000 milleage is : \",y_predict)\r\n",
                "\r\n",
                "y_predict1 = reg.predict([[86000,7,0,0]])\r\n",
                "print(\"7 years old BMW of 86,000 milleage is : \",y_predict1)\r\n",
                "print(\"R Square value is :\",r2_score(y,y_pred))\r\n",
                "\r\n",
                "reg.score(x,y)\r\n",
                "\r\n",
                "\r\n",
                "\r\n",
                ""
            ],
            "metadata": {
                "azdata_cell_guid": "0ce71fd8-e2ce-4d65-87ab-b10efba189bc"
            },
            "outputs": [
                {
                    "output_type": "stream",
                    "name": "stdout",
                    "text": "4 years old Mercedes of 45,000 milleage is :  [36991.31721031]\n7 years old BMW of 86,000 milleage is :  [11080.74313267]\nR Square value is : 0.9417050937281083\n"
                },
                {
                    "output_type": "execute_result",
                    "execution_count": 43,
                    "data": {
                        "text/plain": "0.9417050937281083"
                    },
                    "metadata": {}
                },
                {
                    "output_type": "display_data",
                    "data": {
                        "text/plain": "<Figure size 432x288 with 1 Axes>",
                        "image/png": "[encoded data removed]"
                    },
                    "metadata": {
                        "needs_background": "light"
                    }
                }
            ],
            "execution_count": 43
        },
        {
            "cell_type": "code",
            "source": [
                "# This is a good example of how to use Dummy Variables on Linear Regression\r\n",
                "import numpy as np\r\n",
                "import pandas as pd\r\n",
                "from sklearn import linear_model\r\n",
                "import matplotlib.pyplot as plt\r\n",
                "from sklearn.metrics import mean_squared_error, r2_score\r\n",
                "import pyodbc\r\n",
                "import math\r\n",
                "\r\n",
                "# Step 1: get your data from excel file and assign it to a pandas variable\r\n",
                "df = pd.read_csv(\"C:\\Python\\My Files\\CarPrices.csv\")\r\n",
                "df.columns = ['Car_Model', 'Mileage', 'Sell_Price', 'Age'] # change column names\r\n",
                "df.Car_Model\r\n",
                "\r\n",
                "# use get dummies to turn rows to columns\r\n",
                "dummies = pd.get_dummies(df.Car_Model)\r\n",
                "dummies\r\n",
                "\r\n",
                "# merge the dataset using pandas function namely contact that takes in Lists arguments and specify axis as columns\r\n",
                "merged = pd.concat([df,dummies], axis = 'columns')\r\n",
                "merged\r\n",
                "\r\n",
                "# Now the next step is to always drop 2 objects. The first one is your textual column(s) and the second one is that by rule of thumb, you must drop\r\n",
                "# one of the dummy variable column. \r\n",
                "\r\n",
                "final = merged.drop(['Car_Model', 'BMW X5'], axis = 'columns')\r\n",
                "final\r\n",
                "\r\n",
                "x = final.drop(['Sell_Price'], axis = 'columns')\r\n",
                "x\r\n",
                ""
            ],
            "metadata": {
                "azdata_cell_guid": "224ea3a9-773d-47fc-b95d-a814d4f2991f"
            },
            "outputs": [
                {
                    "output_type": "execute_result",
                    "execution_count": 34,
                    "data": {
                        "text/plain": "    Mileage  Age  Audi A5  Mercedez Benz C class\n0     69000    6        0                      0\n1     35000    3        0                      0\n2     57000    5        0                      0\n3     22500    2        0                      0\n4     46000    4        0                      0\n5     59000    5        1                      0\n6     52000    5        1                      0\n7     72000    6        1                      0\n8     91000    8        1                      0\n9     67000    6        0                      1\n10    83000    7        0                      1\n11    79000    7        0                      1\n12    59000    5        0                      1",
                        "text/html": "<div>\n<style scoped>\n    .dataframe tbody tr th:only-of-type {\n        vertical-align: middle;\n    }\n\n    .dataframe tbody tr th {\n        vertical-align: top;\n    }\n\n    .dataframe thead th {\n        text-align: right;\n    }\n</style>\n<table border=\"1\" class=\"dataframe\">\n  <thead>\n    <tr style=\"text-align: right;\">\n      <th></th>\n      <th>Mileage</th>\n      <th>Age</th>\n      <th>Audi A5</th>\n      <th>Mercedez Benz C class</th>\n    </tr>\n  </thead>\n  <tbody>\n    <tr>\n      <th>0</th>\n      <td>69000</td>\n      <td>6</td>\n      <td>0</td>\n      <td>0</td>\n    </tr>\n    <tr>\n      <th>1</th>\n      <td>35000</td>\n      <td>3</td>\n      <td>0</td>\n      <td>0</td>\n    </tr>\n    <tr>\n      <th>2</th>\n      <td>57000</td>\n      <td>5</td>\n      <td>0</td>\n      <td>0</td>\n    </tr>\n    <tr>\n      <th>3</th>\n      <td>22500</td>\n      <td>2</td>\n      <td>0</td>\n      <td>0</td>\n    </tr>\n    <tr>\n      <th>4</th>\n      <td>46000</td>\n      <td>4</td>\n      <td>0</td>\n      <td>0</td>\n    </tr>\n    <tr>\n      <th>5</th>\n      <td>59000</td>\n      <td>5</td>\n      <td>1</td>\n      <td>0</td>\n    </tr>\n    <tr>\n      <th>6</th>\n      <td>52000</td>\n      <td>5</td>\n      <td>1</td>\n      <td>0</td>\n    </tr>\n    <tr>\n      <th>7</th>\n      <td>72000</td>\n      <td>6</td>\n      <td>1</td>\n      <td>0</td>\n    </tr>\n    <tr>\n      <th>8</th>\n      <td>91000</td>\n      <td>8</td>\n      <td>1</td>\n      <td>0</td>\n    </tr>\n    <tr>\n      <th>9</th>\n      <td>67000</td>\n      <td>6</td>\n      <td>0</td>\n      <td>1</td>\n    </tr>\n    <tr>\n      <th>10</th>\n      <td>83000</td>\n      <td>7</td>\n      <td>0</td>\n      <td>1</td>\n    </tr>\n    <tr>\n      <th>11</th>\n      <td>79000</td>\n      <td>7</td>\n      <td>0</td>\n      <td>1</td>\n    </tr>\n    <tr>\n      <th>12</th>\n      <td>59000</td>\n      <td>5</td>\n      <td>0</td>\n      <td>1</td>\n    </tr>\n  </tbody>\n</table>\n</div>"
                    },
                    "metadata": {}
                }
            ],
            "execution_count": 34
        }
    ]
}