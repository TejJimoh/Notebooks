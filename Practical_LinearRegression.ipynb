{
    "metadata": {
        "kernelspec": {
            "name": "python3",
            "display_name": "Python 3"
        },
        "language_info": {
            "name": "python",
            "version": "3.6.6",
            "mimetype": "text/x-python",
            "codemirror_mode": {
                "name": "ipython",
                "version": 3
            },
            "pygments_lexer": "ipython3",
            "nbconvert_exporter": "python",
            "file_extension": ".py"
        }
    },
    "nbformat_minor": 2,
    "nbformat": 4,
    "cells": [
        {
            "cell_type": "code",
            "source": [
                "# This is a good example of how to use Linear Regression single variable with data in SQL Server tables\r\n",
                "import numpy as np\r\n",
                "import pandas as pd\r\n",
                "from sklearn import linear_model\r\n",
                "import matplotlib.pyplot as plt\r\n",
                "from sklearn.metrics import mean_squared_error, r2_score\r\n",
                "import pyodbc\r\n",
                "\r\n",
                "# Step 1: get your data from SQL Server and assign it to a pandas variable\r\n",
                "conn_str = pyodbc.connect('Driver={SQL Server};' 'Server=LAPTOP-CHKIB79A;''Database=Tutorial;''Trusted_Connection=yes;')\r\n",
                "query_str = \"SELECT * FROM [Tutorial].[dbo].[AreasActualPrice]\"\r\n",
                "df = pd.read_sql(sql=query_str, con=conn_str)\r\n",
                "\r\n",
                "# Step 2: Let's do a quick scatter plot to get an idea of the shape of the data. You need to pass in (x,y) variable\r\n",
                "plt.xlabel('Area in Sqr ft')\r\n",
                "plt.ylabel('Price in $')\r\n",
                "plt.scatter(df.Area,df.Price, color = 'red', marker= '*')\r\n",
                "\r\n",
                "# Step 3: fit your model to use available datasets.\r\n",
                "reg = linear_model.LinearRegression() # get linear regression object\r\n",
                "reg.fit(df[['Area']],df.Price) # fit your linear regression model. Note that your independent first argument is a 2d array\r\n",
                "\r\n",
                "# Step 4 : let's plot the predicted price. Pass in your x variable to a predict function to get y. Note that predict takes 2d array\r\n",
                "plt.plot(df.Area,reg.predict(df[['Area']]),color = 'black') # pass in the list array of x into predict to get y\r\n",
                "predicted_price = reg.predict(df[['Area']])\r\n",
                "gradient = reg.coef_ # this gives you the gradient or slope\r\n",
                "intercept = reg.intercept_ # this gives you the intercept on the y axix.\r\n",
                "\r\n",
                "# It is important to know how the relationship between the values of the x-axis and the values of the y-axis is, if there are \r\n",
                "# no relationship the linear regression can not be used to predict anything. The r-squared value ranges from 0 to 1, where 0 means no relationship, \r\n",
                "# and 1 means 100% related.\r\n",
                "r2 = r2_score(df.Price,predicted_price)\r\n",
                "mse = mean_squared_error(df.Price,predicted_price)\r\n",
                "\r\n",
                "print(r2)\r\n",
                "print(mse)\r\n",
                "print(gradient)\r\n",
                "print(intercept)\r\n",
                "\r\n",
                "# Step 5 : Now let's predict the price for any given area. \r\n",
                "# let's get the sql table containing only areas and predict price for each area.\r\n",
                "# get your data and assign it to a pandas variable areasize\r\n",
                "\r\n",
                "conn_str = pyodbc.connect('Driver={SQL Server};' 'Server=LAPTOP-CHKIB79A;''Database=Tutorial;''Trusted_Connection=yes;')\r\n",
                "myquery_str = \"SELECT [Area] FROM [Tutorial].[dbo].[Areas]\"\r\n",
                "areasize = pd.read_sql(sql=myquery_str, con=conn_str)\r\n",
                "\r\n",
                "# Now, let's get the predicted prices for any given areas.\r\n",
                "# remember to go back to your fit model ie reg and pass in variable areasize ( this is your x axix) to your predict function\r\n",
                "\r\n",
                "p = reg.predict(areasize) # this gives you predicted prices that are now assign to variable p.\r\n",
                "\r\n",
                "# now, let assign p to a newly created column namely PredictedPrices. Note that areasize is actually your pandas variable. It act like a table. you are simply adding\r\n",
                "# a newly created PredictedPrices column to Pandas variable table namely areasize.\r\n",
                "\r\n",
                "areasize['PredictedPrices'] = p\r\n",
                "print(areasize)\r\n",
                "\r\n",
                "cursor = conn_str.cursor()\r\n",
                "#cursor.execute(\"truncate table  [Tutorial].[dbo].[AreasPredicted]\")\r\n",
                "cursor.execute(\"EXEC ClearAreasPredicted\") # Run SP to truncate table before insertion below.\r\n",
                "for i, row in areasize.iterrows():\r\n",
                "    cursor.execute(\"INSERT INTO [Tutorial].[dbo].[AreasPredicted]([Area],[Price]) values(?,?)\", row['Area'], row['PredictedPrices'] ) \r\n",
                "cursor.execute(\"EXEC LoadAreaPrice\") # Run SP to load final table. Add status column to differenciate between predicted prices and actual prices\r\n",
                "\r\n",
                "conn_str.commit()\r\n",
                "cursor.close()\r\n",
                "conn_str.close()\r\n",
                "\r\n",
                "# Step 6: Finally you can save your model (reg) to a file using pickle. You can now give this file to your work collegue to make prediction.\r\n",
                "# save your model to a writable binary (wb) and call dump function to write it to the specified path\r\n",
                "import pickle\r\n",
                "with open('C:\\Python\\My Files\\model_pickle','wb') as f:\r\n",
                "    pickle.dump(reg,f)\r\n",
                "# read binary (rb) file and call load function to read from the file\r\n",
                "with open('C:\\Python\\My Files\\model_pickle','rb') as f:\r\n",
                "    mp = pickle.load(f)\r\n",
                "# now, let's test our model to predict the price for an area of 3000\r\n",
                "print(\"Predicted price for an area of 3000 is :\",mp.predict([[3000]]))\r\n",
                ""
            ],
            "metadata": {
                "azdata_cell_guid": "5bd41093-16d5-4bd9-b2b3-4dc08c6c8cab",
                "tags": []
            },
            "outputs": [
                {
                    "name": "stdout",
                    "text": "0.9584301138199486\n186815068.4931509\n[135.78767123]\n180616.43835616432\n    Area  PredictedPrices\n0   1000     3.164041e+05\n1   1500     3.842979e+05\n2   2300     4.929281e+05\n3   3540     6.613048e+05\n4   4120     7.400616e+05\n5   4560     7.998082e+05\n6   5490     9.260908e+05\n7   3460     6.504418e+05\n8   4750     8.256079e+05\n9   2300     4.929281e+05\n10  9000     1.402705e+06\n11  8600     1.348390e+06\n12  7100     1.144709e+06\nPredicted price for an area of 3000 is : [587979.45205479]\n",
                    "output_type": "stream"
                },
                {
                    "data": {
                        "text/plain": "<Figure size 432x288 with 1 Axes>",
                        "image/png": "[encoded data removed]"
                    },
                    "metadata": {
                        "needs_background": "light"
                    },
                    "output_type": "display_data"
                }
            ],
            "execution_count": 5
        },
        {
            "cell_type": "code",
            "source": [
                "# Step 7: You can now give model_pickle file to your colleque. He or she will save it to a drive and can then run it in say Jupyter Notebook to make prediction.\r\n",
                "#Your colleque will simply have to call the load function to open the file given to them and save this into a variable as shown below.\r\n",
                "\r\n",
                "import pickle\r\n",
                "\r\n",
                "var = pickle.load(open('C:\\Python\\My Files\\model_pickle','rb'))\r\n",
                "print(\"Predicted value :\",var.predict([[3000]]))\r\n",
                "print(\"My gradient is :\" ,var.intercept_)\r\n",
                "print(\"My coefficient is :\", var.coef_)"
            ],
            "metadata": {
                "azdata_cell_guid": "e3478111-9af2-439c-b7df-7099453039c4"
            },
            "outputs": [
                {
                    "name": "stdout",
                    "text": "Predicted value : [587979.45205479]\nMy gradient is : 180616.43835616432\nMy coefficient is : [135.78767123]\n",
                    "output_type": "stream"
                }
            ],
            "execution_count": 6
        },
        {
            "cell_type": "code",
            "source": [
                "# This is a good example of how to use Linear Regression multiple variable (Multivariate) with data in excel\r\n",
                "import numpy as np\r\n",
                "import pandas as pd\r\n",
                "from sklearn import linear_model\r\n",
                "import matplotlib.pyplot as plt\r\n",
                "from sklearn.metrics import mean_squared_error, r2_score\r\n",
                "import pyodbc\r\n",
                "import math\r\n",
                "\r\n",
                "# Step 1: get your data from excel file and assign it to a pandas variable\r\n",
                "df = pd.read_csv(\"C:\\Python\\My Files\\homeprices_2.csv\")\r\n",
                "df\r\n",
                "\r\n",
                "# let's do some data cleaning to replace the null value in bedrooms with the aveage bedroom size.\r\n",
                "#let's get the average bedroom size\r\n",
                "mean_bedrooms = df.bedrooms.mean()\r\n",
                "\r\n",
                "#let's round this up to an interger\r\n",
                "mean_bedrooms = math.floor(mean_bedrooms)\r\n",
                "\r\n",
                "#let's fill in all the null values in bedrooms size with the aveage value above and assign the filled value back to our original bedroom\r\n",
                "df.bedrooms = df.bedrooms.fillna(mean_bedrooms)\r\n",
                "df.bedrooms\r\n",
                "\r\n",
                "\r\n",
                "# Step 2: Let's do a quick scatter plot to get an idea of the shape of the data. Test individual independent variable one by one ie area as shown below.\r\n",
                "\r\n",
                "#let's test the shape of the area\r\n",
                "plt.xlabel('Area in Sqr ft')\r\n",
                "plt.ylabel('Price in $')\r\n",
                "plt.scatter(df.area,df.price, color = 'red', marker= '*')\r\n",
                "\r\n",
                "# Step 3: fit your model to use available datasets.\r\n",
                "reg = linear_model.LinearRegression() # get linear regression object\r\n",
                "reg.fit(df[['area','bedrooms','age']],df.price) # fit your linear regression model. Note that your independent first argument is a 2d array\r\n",
                "\r\n",
                "# Step 4 : let's get the predicted price. Pass in your x variable to a predict function to get y. Note that predict takes 2d array\r\n",
                "predicted_price = reg.predict(df[['area','bedrooms','age']])\r\n",
                "gradient = reg.coef_ # this gives you the gradient or slope\r\n",
                "intercept = reg.intercept_ # this gives you the intercept on the y axix.\r\n",
                "\r\n",
                "# It is important to know how the relationship between the values of the x-axis and the values of the y-axis is, if there are \r\n",
                "# no relationship the linear regression can not be used to predict anything. The r-squared value ranges from 0 to 1, where 0 means no relationship, \r\n",
                "# and 1 means 100% related.\r\n",
                "r2 = r2_score(df.price,predicted_price)\r\n",
                "mse = mean_squared_error(df.price,predicted_price)\r\n",
                "\r\n",
                "print(r2)\r\n",
                "print(mse)\r\n",
                "print(gradient)\r\n",
                "print(intercept)\r\n",
                "\r\n",
                "# Step 5: Now let's get the price prediction for \r\n",
                "# 3000sq feet area, 3 bedrooms and 40 years old house and \r\n",
                "# 2500sq feet area, 4 bedrooms and 5 years old house\r\n",
                "\r\n",
                "priceprediction = reg.predict([[3000,3,40],[2500,4,5]])\r\n",
                "priceprediction\r\n",
                ""
            ],
            "metadata": {
                "azdata_cell_guid": "fd9c3a91-7eb8-466a-9716-2a54b6af3bdd"
            },
            "outputs": [
                {
                    "name": "stdout",
                    "text": "0.9550196399325818\n446305128.22449404\n[  112.06244194 23388.88007794 -3231.71790863]\n221323.00186540443\n",
                    "output_type": "stream"
                },
                {
                    "data": {
                        "text/plain": "array([498408.25158031, 578876.03748933])"
                    },
                    "metadata": {},
                    "execution_count": 7,
                    "output_type": "execute_result"
                },
                {
                    "data": {
                        "text/plain": "<Figure size 432x288 with 1 Axes>",
                        "image/png": "[encoded data removed]"
                    },
                    "metadata": {
                        "needs_background": "light"
                    },
                    "output_type": "display_data"
                }
            ],
            "execution_count": 7
        },
        {
            "cell_type": "code",
            "source": [
                "# This is a good example of how to use Linear Regression multiple variable (Multivariate)  with data in SQL Server tables\r\n",
                "import numpy as np\r\n",
                "import pandas as pd\r\n",
                "from sklearn import linear_model\r\n",
                "import matplotlib.pyplot as plt\r\n",
                "from sklearn.metrics import mean_squared_error, r2_score\r\n",
                "import pyodbc\r\n",
                "from word2number import w2n\r\n",
                "import math\r\n",
                "\r\n",
                "# Step 1: get your data from SQL Server and assign it to a pandas variable\r\n",
                "conn_str = pyodbc.connect('Driver={SQL Server};' 'Server=LAPTOP-CHKIB79A;''Database=Tutorial;''Trusted_Connection=yes;')\r\n",
                "query_str = \"SELECT * FROM [Tutorial].[dbo].[ActualHiring]\"\r\n",
                "df = pd.read_sql(sql=query_str, con=conn_str)\r\n",
                "df\r\n",
                "# Now, let's sort out the data quality issues by filling null with zero\r\n",
                "df.experience = df.experience.fillna(\"Zero\")\r\n",
                "\r\n",
                "# Now, let's convert word numbers to numerical numbers for experience column\r\n",
                "df.experience = df.experience.apply(w2n.word_to_num)\r\n",
                "\r\n",
                "\r\n",
                "# let's sort out null value in test_score_out_of_10 column\r\n",
                "# get the average value for test_score_out_of_10\r\n",
                "test_score_updated = df.test_score_out_of_10.mean()\r\n",
                "# convert the average value to integer\r\n",
                "test_score_updated = math.floor(test_score_updated)\r\n",
                "# fill the null value in the column with the new average value\r\n",
                "df.test_score_out_of_10 = df.test_score_out_of_10.fillna(test_score_updated)\r\n",
                "df\r\n",
                "\r\n",
                "# Step 2: Let's do a quick scatter plot to get an idea of the shape of the data. Test individual independent variable one by one ie area as shown below.\r\n",
                "plt.xlabel('Experience in years')\r\n",
                "plt.ylabel('Price in $')\r\n",
                "plt.scatter(df[['experience']],df.salary, color = 'red', marker= '*')\r\n",
                "\r\n",
                "# Step 3: fit your model to use available datasets.\r\n",
                "reg = linear_model.LinearRegression() # get linear regression object\r\n",
                "reg.fit(df[['experience','test_score_out_of_10','interview_score_out_of_10']],df.salary) # fit your linear regression model. Note that your independent first argument is a 2d array\r\n",
                "\r\n",
                "# Step 4 : let's get the predicted salary. Pass in your x variable to a predict function to get y. Note that predict takes 2d array\r\n",
                "predicted_salary = reg.predict(df[['experience','test_score_out_of_10','interview_score_out_of_10']])\r\n",
                "gradient = reg.coef_ # this gives you the gradient or slope\r\n",
                "intercept = reg.intercept_ # this gives you the intercept on the y axix.\r\n",
                "\r\n",
                "# It is important to know how the relationship between the values of the x-axis and the values of the y-axis is, if there are \r\n",
                "# no relationship the linear regression can not be used to predict anything. The r-squared value ranges from 0 to 1, where 0 means no relationship, \r\n",
                "# and 1 means 100% related.\r\n",
                "r2 = r2_score(df.salary,predicted_salary)\r\n",
                "mse = mean_squared_error(df.salary,predicted_salary)\r\n",
                "\r\n",
                "print(\"r2_score is :\",r2)\r\n",
                "print(\"mean_squared_error is :\",mse)\r\n",
                "print(\"gradients are :\" ,gradient)\r\n",
                "print(\"intercept is :\",intercept)\r\n",
                "\r\n",
                "# Step 5 : Now let's predict the salary for any given experience,test_score_out_of_10 and interview_score_out_of_10. \r\n",
                "# let's get the sql table  and predict salary for the independent variables\r\n",
                "# get your data and assign it to a pandas variable myvars\r\n",
                "\r\n",
                "conn_str = pyodbc.connect('Driver={SQL Server};' 'Server=LAPTOP-CHKIB79A;''Database=Tutorial;''Trusted_Connection=yes;')\r\n",
                "myquery_str = \"SELECT  [experience] ,[test_score_out_of_10],[interview_score_out_of_10] FROM [Tutorial].[dbo].[PredictedHiring]\"\r\n",
                "myvars = pd.read_sql(sql=myquery_str, con=conn_str)\r\n",
                "\r\n",
                "# Now, let's get the predicted salaries for all independent variables stored in myvars.\r\n",
                "# remember to go back to your fit model ie reg and pass in variable myvars ( this is your x axix) to your predict function\r\n",
                "\r\n",
                "p = reg.predict(myvars) # this gives you predicted prices that are now assign to variable p.\r\n",
                "\r\n",
                "print(\"Predicted salaries are :\", p)\r\n",
                "\r\n",
                "# now, let assign p to a newly created column namely PredictedSalaries. Note that myvars is actually your pandas variable. It act like a table. You are simply adding\r\n",
                "# a newly created PredictedSalaries column to Pandas variable table namely myvars.\r\n",
                "\r\n",
                "\r\n",
                "myvars['PredictedSalaries'] = p\r\n",
                "print(myvars)\r\n",
                "\r\n",
                "# The next step is to map your pandas columns to the columns in your sql table namely PredictedHiring\r\n",
                "# use the connection string to call cursor() function\r\n",
                "cursor = conn_str.cursor()\r\n",
                "cursor.execute(\"truncate table  [Tutorial].[dbo].[ActualPredictedHiring]\")  #truncate table before insertion\r\n",
                "for i, row in myvars.iterrows():\r\n",
                "    cursor.execute(\"INSERT INTO [Tutorial].[dbo].[ActualPredictedHiring]([experience],[test_score_out_of_10],[interview_score_out_of_10],[salary] ) \\\r\n",
                "    values(?,?,?,?)\", row['experience'], row['test_score_out_of_10'],row['interview_score_out_of_10'],row['PredictedSalaries'] ) \r\n",
                "\r\n",
                "\r\n",
                "conn_str.commit()\r\n",
                "cursor.close()\r\n",
                "conn_str.close()\r\n",
                ""
            ],
            "metadata": {
                "azdata_cell_guid": "2f4e362a-4680-4da0-b37a-8feaa2950602"
            },
            "outputs": [
                {
                    "name": "stdout",
                    "text": "r2_score is : 0.977013901427314\nmean_squared_error is : 2660640.909788399\ngradients are : [2922.26901502 2221.30909959 2147.48256637]\nintercept is : 14992.651446693148\nPredicted salaries are : [53713.86677124 93747.79628651 52894.47750251 62333.02074986\n 50296.73833353 80612.19757549 58680.56810626]\n  experience  test_score_out_of_10  interview_score_out_of_10  \\\n0          2                     9                          6   \n1         12                    10                         10   \n2          4                     6                          6   \n3          5                     7                          8   \n4          6                     8                          0   \n5          9                     9                          9   \n6          0                    10                         10   \n\n   PredictedSalaries  \n0       53713.866771  \n1       93747.796287  \n2       52894.477503  \n3       62333.020750  \n4       50296.738334  \n5       80612.197575  \n6       58680.568106  \n",
                    "output_type": "stream"
                },
                {
                    "data": {
                        "text/plain": "<Figure size 432x288 with 1 Axes>",
                        "image/png": "[encoded data removed]"
                    },
                    "metadata": {
                        "needs_background": "light"
                    },
                    "output_type": "display_data"
                }
            ],
            "execution_count": 8
        }
    ]
}